{
 "cells": [
  {
   "cell_type": "markdown",
   "id": "85578114-c89d-4ad8-a5ab-ebd10463e526",
   "metadata": {},
   "source": [
    "### Import Essential Libraries"
   ]
  },
  {
   "cell_type": "code",
   "execution_count": 1,
   "id": "a8bedb04-edee-46fe-8ef9-47ea891f1113",
   "metadata": {},
   "outputs": [],
   "source": [
    "# import essential libraries\n",
    "import pandas as pd\n",
    "import numpy as np\n",
    "import matplotlib.pyplot as plt\n",
    "import seaborn as sns\n",
    "import plotly.express as px"
   ]
  },
  {
   "cell_type": "markdown",
   "id": "f84906ba-37dc-4baa-a1cf-172fbd9b2296",
   "metadata": {},
   "source": [
    "### Raw Data Ingestion"
   ]
  },
  {
   "cell_type": "code",
   "execution_count": 2,
   "id": "e4618197-a189-4c4d-9329-0ffdb693f5a0",
   "metadata": {},
   "outputs": [],
   "source": [
    "# load the dataset\n",
    "computer_eq = pd.read_csv('data/computer_equipment.csv')\n",
    "computer_hd = pd.read_csv('data/computer_hardware.csv')\n",
    "computer_sf = pd.read_csv('data/computer_software.csv')\n",
    "consumables = pd.read_csv('data/consumables.csv')\n",
    "equipment = pd.read_csv('data/equipment.csv')\n",
    "intdept_exp = pd.read_csv('data/interdepartment_expenditure.csv')\n",
    "lowval_equipment = pd.read_csv('data/low_value_equipment.csv')\n",
    "misc = pd.read_csv('data/miscellaneous.csv')"
   ]
  },
  {
   "cell_type": "markdown",
   "id": "f97c3a2a-5283-4873-a4a3-a420646acf17",
   "metadata": {},
   "source": [
    "### Data Cleaning"
   ]
  },
  {
   "cell_type": "code",
   "execution_count": 3,
   "id": "0f69ce43-0a9a-4ae3-a4e7-5424f99e3fc8",
   "metadata": {},
   "outputs": [],
   "source": [
    "# remove the last 2 rows (which are the total/summary of the expenses)\n",
    "computer_eq = computer_eq.iloc[:-2, :]\n",
    "computer_hd = computer_hd.iloc[:-2, :]\n",
    "computer_sf = computer_sf.iloc[:-2, :]\n",
    "consumables = consumables.iloc[:-2, :]\n",
    "equipment = equipment.iloc[:-2, :]\n",
    "intdept_exp = intdept_exp.iloc[:-2, :]\n",
    "lowval_equipment = lowval_equipment.iloc[:-2, :]\n",
    "misc = misc.iloc[:-2, :]"
   ]
  },
  {
   "cell_type": "code",
   "execution_count": 4,
   "id": "71365089-599f-42d9-af03-a6e208e05d32",
   "metadata": {},
   "outputs": [],
   "source": [
    "# subset the dataset with selected columns\n",
    "selected_feats = ['Fiscal Year', 'Posting Date', 'Cost Element', 'Cost element name', 'Val/COArea Crcy', 'Name of offsetting account', 'Document Date']\n",
    "\n",
    "computer_eq_subset = computer_hd[selected_feats]\n",
    "computer_hd_subset = computer_hd[selected_feats]\n",
    "computer_sf_subset = computer_sf[selected_feats]\n",
    "consumables_subset = consumables[selected_feats]\n",
    "equipment_subset = equipment[selected_feats]\n",
    "intdept_exp_subset = intdept_exp[selected_feats]\n",
    "lowval_equipment_subset = lowval_equipment[selected_feats]\n",
    "misc_subset = misc[selected_feats]"
   ]
  },
  {
   "cell_type": "code",
   "execution_count": 5,
   "id": "21b2d79d-be21-4cd6-988f-7b83685b9d6b",
   "metadata": {},
   "outputs": [
    {
     "data": {
      "text/html": [
       "<div>\n",
       "<style scoped>\n",
       "    .dataframe tbody tr th:only-of-type {\n",
       "        vertical-align: middle;\n",
       "    }\n",
       "\n",
       "    .dataframe tbody tr th {\n",
       "        vertical-align: top;\n",
       "    }\n",
       "\n",
       "    .dataframe thead th {\n",
       "        text-align: right;\n",
       "    }\n",
       "</style>\n",
       "<table border=\"1\" class=\"dataframe\">\n",
       "  <thead>\n",
       "    <tr style=\"text-align: right;\">\n",
       "      <th></th>\n",
       "      <th>Fiscal_Year</th>\n",
       "      <th>Posting_Date</th>\n",
       "      <th>GL_Code</th>\n",
       "      <th>Category</th>\n",
       "      <th>Value</th>\n",
       "      <th>Vendor</th>\n",
       "      <th>Invoice_Date</th>\n",
       "    </tr>\n",
       "  </thead>\n",
       "  <tbody>\n",
       "    <tr>\n",
       "      <th>0</th>\n",
       "      <td>2019.0</td>\n",
       "      <td>27/8/2019</td>\n",
       "      <td>731401.0</td>\n",
       "      <td>Comp Hw-Pur(Exp Off)</td>\n",
       "      <td>695.50</td>\n",
       "      <td>DELL GLOBAL B.V. (SINGAPORE BRANCH)</td>\n",
       "      <td>25/7/2019</td>\n",
       "    </tr>\n",
       "    <tr>\n",
       "      <th>1</th>\n",
       "      <td>2019.0</td>\n",
       "      <td>27/8/2019</td>\n",
       "      <td>731401.0</td>\n",
       "      <td>Comp Hw-Pur(Exp Off)</td>\n",
       "      <td>1,016.50</td>\n",
       "      <td>DELL GLOBAL B.V. (SINGAPORE BRANCH)</td>\n",
       "      <td>25/7/2019</td>\n",
       "    </tr>\n",
       "    <tr>\n",
       "      <th>2</th>\n",
       "      <td>2019.0</td>\n",
       "      <td>27/8/2019</td>\n",
       "      <td>731401.0</td>\n",
       "      <td>Comp Hw-Pur(Exp Off)</td>\n",
       "      <td>738.30</td>\n",
       "      <td>DELL GLOBAL B.V. (SINGAPORE BRANCH)</td>\n",
       "      <td>25/7/2019</td>\n",
       "    </tr>\n",
       "    <tr>\n",
       "      <th>3</th>\n",
       "      <td>2019.0</td>\n",
       "      <td>27/8/2019</td>\n",
       "      <td>731401.0</td>\n",
       "      <td>Comp Hw-Pur(Exp Off)</td>\n",
       "      <td>214.00</td>\n",
       "      <td>DELL GLOBAL B.V. (SINGAPORE BRANCH)</td>\n",
       "      <td>25/7/2019</td>\n",
       "    </tr>\n",
       "    <tr>\n",
       "      <th>4</th>\n",
       "      <td>2019.0</td>\n",
       "      <td>1/9/2019</td>\n",
       "      <td>731401.0</td>\n",
       "      <td>Comp Hw-Pur(Exp Off)</td>\n",
       "      <td>35.00</td>\n",
       "      <td>TAN SHIH JEN</td>\n",
       "      <td>1/9/2019</td>\n",
       "    </tr>\n",
       "  </tbody>\n",
       "</table>\n",
       "</div>"
      ],
      "text/plain": [
       "   Fiscal_Year Posting_Date   GL_Code              Category     Value  \\\n",
       "0       2019.0    27/8/2019  731401.0  Comp Hw-Pur(Exp Off)    695.50   \n",
       "1       2019.0    27/8/2019  731401.0  Comp Hw-Pur(Exp Off)  1,016.50   \n",
       "2       2019.0    27/8/2019  731401.0  Comp Hw-Pur(Exp Off)    738.30   \n",
       "3       2019.0    27/8/2019  731401.0  Comp Hw-Pur(Exp Off)    214.00   \n",
       "4       2019.0     1/9/2019  731401.0  Comp Hw-Pur(Exp Off)     35.00   \n",
       "\n",
       "                                Vendor Invoice_Date  \n",
       "0  DELL GLOBAL B.V. (SINGAPORE BRANCH)    25/7/2019  \n",
       "1  DELL GLOBAL B.V. (SINGAPORE BRANCH)    25/7/2019  \n",
       "2  DELL GLOBAL B.V. (SINGAPORE BRANCH)    25/7/2019  \n",
       "3  DELL GLOBAL B.V. (SINGAPORE BRANCH)    25/7/2019  \n",
       "4                         TAN SHIH JEN     1/9/2019  "
      ]
     },
     "execution_count": 5,
     "metadata": {},
     "output_type": "execute_result"
    }
   ],
   "source": [
    "# combine all subset of dataset (different expenses) into a single dataset\n",
    "merged_df = pd.concat([computer_eq_subset,computer_hd_subset,computer_sf_subset,consumables_subset,equipment_subset,intdept_exp_subset,lowval_equipment_subset,misc_subset], axis=0)\n",
    "merged_df.reset_index(drop=True, inplace=True)\n",
    "\n",
    "# rename the column name\n",
    "merged_df.columns = ['Fiscal_Year', 'Posting_Date', 'GL_Code', 'Category', 'Value', 'Vendor', 'Invoice_Date']\n",
    "merged_df.head()"
   ]
  },
  {
   "cell_type": "code",
   "execution_count": 6,
   "id": "c5f248c5-8bc9-4847-9407-bf3fa9aed8ec",
   "metadata": {
    "tags": []
   },
   "outputs": [
    {
     "data": {
      "text/html": [
       "<div>\n",
       "<style scoped>\n",
       "    .dataframe tbody tr th:only-of-type {\n",
       "        vertical-align: middle;\n",
       "    }\n",
       "\n",
       "    .dataframe tbody tr th {\n",
       "        vertical-align: top;\n",
       "    }\n",
       "\n",
       "    .dataframe thead th {\n",
       "        text-align: right;\n",
       "    }\n",
       "</style>\n",
       "<table border=\"1\" class=\"dataframe\">\n",
       "  <thead>\n",
       "    <tr style=\"text-align: right;\">\n",
       "      <th></th>\n",
       "      <th>Fiscal_Year</th>\n",
       "      <th>Posting_Date</th>\n",
       "      <th>GL_Code</th>\n",
       "      <th>Category</th>\n",
       "      <th>Value</th>\n",
       "      <th>Vendor</th>\n",
       "      <th>Invoice_Date</th>\n",
       "    </tr>\n",
       "  </thead>\n",
       "  <tbody>\n",
       "    <tr>\n",
       "      <th>0</th>\n",
       "      <td>2019</td>\n",
       "      <td>2019-08-27</td>\n",
       "      <td>731401</td>\n",
       "      <td>Computer Hardware</td>\n",
       "      <td>695.5</td>\n",
       "      <td>DELL GLOBAL B.V. (SINGAPORE BRANCH)</td>\n",
       "      <td>2019-07-25</td>\n",
       "    </tr>\n",
       "    <tr>\n",
       "      <th>1</th>\n",
       "      <td>2019</td>\n",
       "      <td>2019-08-27</td>\n",
       "      <td>731401</td>\n",
       "      <td>Computer Hardware</td>\n",
       "      <td>1016.5</td>\n",
       "      <td>DELL GLOBAL B.V. (SINGAPORE BRANCH)</td>\n",
       "      <td>2019-07-25</td>\n",
       "    </tr>\n",
       "    <tr>\n",
       "      <th>2</th>\n",
       "      <td>2019</td>\n",
       "      <td>2019-08-27</td>\n",
       "      <td>731401</td>\n",
       "      <td>Computer Hardware</td>\n",
       "      <td>738.3</td>\n",
       "      <td>DELL GLOBAL B.V. (SINGAPORE BRANCH)</td>\n",
       "      <td>2019-07-25</td>\n",
       "    </tr>\n",
       "    <tr>\n",
       "      <th>3</th>\n",
       "      <td>2019</td>\n",
       "      <td>2019-08-27</td>\n",
       "      <td>731401</td>\n",
       "      <td>Computer Hardware</td>\n",
       "      <td>214.0</td>\n",
       "      <td>DELL GLOBAL B.V. (SINGAPORE BRANCH)</td>\n",
       "      <td>2019-07-25</td>\n",
       "    </tr>\n",
       "    <tr>\n",
       "      <th>4</th>\n",
       "      <td>2019</td>\n",
       "      <td>2019-09-01</td>\n",
       "      <td>731401</td>\n",
       "      <td>Computer Hardware</td>\n",
       "      <td>35.0</td>\n",
       "      <td>TAN SHIH JEN</td>\n",
       "      <td>2019-09-01</td>\n",
       "    </tr>\n",
       "  </tbody>\n",
       "</table>\n",
       "</div>"
      ],
      "text/plain": [
       "   Fiscal_Year Posting_Date GL_Code           Category   Value  \\\n",
       "0         2019   2019-08-27  731401  Computer Hardware   695.5   \n",
       "1         2019   2019-08-27  731401  Computer Hardware  1016.5   \n",
       "2         2019   2019-08-27  731401  Computer Hardware   738.3   \n",
       "3         2019   2019-08-27  731401  Computer Hardware   214.0   \n",
       "4         2019   2019-09-01  731401  Computer Hardware    35.0   \n",
       "\n",
       "                                Vendor Invoice_Date  \n",
       "0  DELL GLOBAL B.V. (SINGAPORE BRANCH)   2019-07-25  \n",
       "1  DELL GLOBAL B.V. (SINGAPORE BRANCH)   2019-07-25  \n",
       "2  DELL GLOBAL B.V. (SINGAPORE BRANCH)   2019-07-25  \n",
       "3  DELL GLOBAL B.V. (SINGAPORE BRANCH)   2019-07-25  \n",
       "4                         TAN SHIH JEN   2019-09-01  "
      ]
     },
     "metadata": {},
     "output_type": "display_data"
    }
   ],
   "source": [
    "# dictinary mapping to rename the Category for better understanding\n",
    "category_mapping = {'Comp Hw-Pur(Exp Off)':'Computer Hardware',\n",
    "                    'Comp Softw-Pur':'Computer Software',\n",
    "                    'Expenditur-Interdept':'Interdepartment Expenditure',\n",
    "                    'Equip-Pur (Exp Off)':'Low Value Equipment',\n",
    "                    'Trg/Oth Misc':'Training & Miscellaneous'}\n",
    "\n",
    "# data cleaning\n",
    "merged_df['GL_Code'] = merged_df['GL_Code'].apply(lambda x: str(int(x)))\n",
    "merged_df['Fiscal_Year'] = merged_df['Fiscal_Year'].apply(lambda x: int(x))\n",
    "merged_df['Value'] = merged_df['Value'].apply(lambda x: float(x.replace(',','')))\n",
    "merged_df['Posting_Date'] = pd.to_datetime(merged_df['Posting_Date'], dayfirst=True)\n",
    "merged_df['Invoice_Date'] = pd.to_datetime(merged_df['Invoice_Date'], dayfirst=True)\n",
    "merged_df['Category'] = merged_df['Category'].map(category_mapping).fillna(merged_df['Category'])\n",
    "\n",
    "# display the first 5 rows after data cleaning\n",
    "display(merged_df.head())\n",
    "\n",
    "# export the cleaned dataset into csv file\n",
    "merged_df.to_csv('data/startup.csv', index=False)"
   ]
  },
  {
   "cell_type": "markdown",
   "id": "9012e59b-54a1-4005-89de-fa14801498de",
   "metadata": {},
   "source": [
    "### Helper Function"
   ]
  },
  {
   "cell_type": "code",
   "execution_count": 7,
   "id": "c1d00c32-8d6c-4076-a525-c89d47124f01",
   "metadata": {},
   "outputs": [],
   "source": [
    "# function to convert the dataset when load for usage\n",
    "def process_loaded_data(data):\n",
    "    import pandas as pd\n",
    "    data['Posting_Date'] = pd.to_datetime(data['Posting_Date'], dayfirst=True)\n",
    "    data['Invoice_Date'] = pd.to_datetime(data['Invoice_Date'], dayfirst=True)\n",
    "    data['Invoice_Year'] = data['Invoice_Date'].dt.year\n",
    "    data['Invoice_Month'] = data['Invoice_Date'].dt.month\n",
    "    data['Invoice_Day'] = data['Invoice_Date'].dt.day\n",
    "    return data"
   ]
  },
  {
   "cell_type": "code",
   "execution_count": 8,
   "id": "63034a76-3e3a-41e6-aa46-ff6aecbb6c97",
   "metadata": {},
   "outputs": [],
   "source": [
    "# function to preprocess the data for plotting heatmap\n",
    "def preprocess_heatmap(data):\n",
    "    import pandas as pd\n",
    "    daily_total = data.groupby(['Invoice_Year','Invoice_Month','Invoice_Day'])['Value'].sum().reset_index()\n",
    "    \n",
    "    years = daily_total['Invoice_Year'].unique()\n",
    "    months = daily_total['Invoice_Month'].unique()\n",
    "    days = np.arange(1,32)\n",
    "\n",
    "    index = pd.MultiIndex.from_product([years, months, days], names = ['Invoice_Year','Invoice_Month', 'Invoice_Day'])\n",
    "\n",
    "    daily_total = daily_total.set_index(['Invoice_Year','Invoice_Month', 'Invoice_Day']).reindex(index, fill_value=0).reset_index()\n",
    "    return daily_total"
   ]
  },
  {
   "cell_type": "code",
   "execution_count": 9,
   "id": "615f34f0-0239-4ac1-b41d-3908a52f7288",
   "metadata": {},
   "outputs": [],
   "source": [
    "# function to plot heatmap\n",
    "def plot_heatmap(data, year):\n",
    "    import pandas as pd\n",
    "    import plotly.graph_objects as go\n",
    "    \n",
    "    selected_data = data[data['Invoice_Year'] == year]\n",
    "    pivot = selected_data.pivot('Invoice_Month', 'Invoice_Day', 'Value').fillna(0)\n",
    "\n",
    "    # create the heatmap using Plotly Graph Objects\n",
    "    fig = go.Figure(data=go.Heatmap(\n",
    "        z=pivot.values,\n",
    "        x=pivot.columns,\n",
    "        y=pivot.index,\n",
    "        colorscale='sunset_r',\n",
    "        colorbar=dict(title='Value'),\n",
    "        hovertemplate='Month: %{y}<br>Day: %{x}<br>Total Expense: S$ %{customdata:.2f}<extra></extra>',\n",
    "        customdata=pivot.values\n",
    "    ))\n",
    "\n",
    "    # add border lines by drawing rectangles around each cell\n",
    "    shapes = []\n",
    "    for i, row in enumerate(pivot.index):\n",
    "        for j, col in enumerate(pivot.columns):\n",
    "            shapes.append(\n",
    "                go.layout.Shape(\n",
    "                    type=\"rect\",\n",
    "                    x0=col - 0.5, x1=col + 0.5,\n",
    "                    y0=row - 0.5, y1=row + 0.5,\n",
    "                    line=dict(color='grey', width=1)\n",
    "                )\n",
    "            )\n",
    "\n",
    "    fig.update_layout(\n",
    "        title=f'Total Invoice Amount per Month per Year ({year})',\n",
    "        xaxis_title='Day',\n",
    "        yaxis_title='Month',\n",
    "        xaxis=dict(\n",
    "            tickmode='array',\n",
    "            tickvals=list(range(1, 32)),\n",
    "        ),\n",
    "        yaxis=dict(\n",
    "            tickmode='array',\n",
    "            tickvals=pivot.index.tolist(),\n",
    "            ticktext=['Jan', 'Feb', 'Mar', 'Apr', 'May', 'Jun', 'Jul', 'Aug', 'Sep', 'Oct', 'Nov', 'Dec']\n",
    "        ),\n",
    "        shapes=shapes,\n",
    "        height=500,\n",
    "        width=1000,\n",
    "        template='plotly_dark'\n",
    "    )\n",
    "\n",
    "    fig.show()"
   ]
  },
  {
   "cell_type": "code",
   "execution_count": 115,
   "id": "709976bf-1b43-4f59-bacd-9648cdeca7e2",
   "metadata": {},
   "outputs": [],
   "source": [
    "# function to plot treemap\n",
    "def plot_treemap(data, year):\n",
    "    import pandas as pd\n",
    "    import plotly.graph_objects as go\n",
    "    \n",
    "    if year == 'All Years':\n",
    "        df = data\n",
    "        con = 'All Years'\n",
    "    else:\n",
    "        df = data[data['Invoice_Year'] == year]\n",
    "        con = f'Year: {year}'\n",
    "    \n",
    "    fig = px.treemap(df, path=[px.Constant(con), 'Category'], values='Value', width=800, height=800)\n",
    "    fig.update_layout(margin = dict(t=50, l=25, r=25, b=25))\n",
    "    fig.update_traces(root_color='lightgrey')\n",
    "    fig.update_layout(template='plotly_dark')\n",
    "    fig.show()"
   ]
  },
  {
   "cell_type": "code",
   "execution_count": 178,
   "id": "c5bdf0d9-62aa-447e-a0d7-8936bc8fd746",
   "metadata": {},
   "outputs": [],
   "source": [
    "# function to plot bubble chart\n",
    "def plot_bubble(data, year):\n",
    "    import plotly.express as px\n",
    "    import pandas as pd\n",
    "    \n",
    "    # remove the negative value in the data\n",
    "    df = data[data['Value'] > 0]\n",
    "\n",
    "    # aggregate the data by summing the 'Value' for each 'Vendor' and 'Category' combination\n",
    "    aggregated_data = df.query(f'Invoice_Year == {year}').groupby(['Vendor', 'Category']).agg({'Value': 'sum'}).reset_index()\n",
    "\n",
    "    # create the bubble chart using the aggregated data\n",
    "    fig = px.scatter(\n",
    "        aggregated_data, \n",
    "        x='Vendor', \n",
    "        y='Category', \n",
    "        size='Value',  # column to determine the size of the bubbles\n",
    "        color='Category', \n",
    "        size_max=60, \n",
    "        height=600,\n",
    "        width=1200,\n",
    "    )\n",
    "\n",
    "    fig.update_layout(template='plotly_dark')\n",
    "    fig.show()"
   ]
  },
  {
   "cell_type": "code",
   "execution_count": 212,
   "id": "48525bd1-3919-4775-a8af-7ce66cee0926",
   "metadata": {},
   "outputs": [],
   "source": [
    "# function to construct a dataframe for the expenses by vendors\n",
    "def vendor_by_expenses(data, year):\n",
    "    import pandas as pd\n",
    "    expenses = np.round(data[data['Invoice_Year']==year].groupby('Vendor')['Value'].sum(),2).sort_values(ascending=False)\n",
    "    vendor_breakdown = pd.DataFrame(expenses).reset_index()\n",
    "    return vendor_breakdown"
   ]
  },
  {
   "cell_type": "code",
   "execution_count": 224,
   "id": "6491fae7-6992-4167-86c3-da09767f996d",
   "metadata": {},
   "outputs": [],
   "source": [
    "# function to get key metrics\n",
    "def get_key_metrics(data, year):\n",
    "    selected_data = data[data['Invoice_Year']==year]\n",
    "    exp = selected_data['Value'].sum().round(2)\n",
    "    total_order = selected_data.shape[0]\n",
    "\n",
    "    exp_vendor = selected_data[selected_data['Value']==selected_data['Value'].max()]\n",
    "    exp_vendor_name = exp_vendor['Vendor'].values[0]\n",
    "    exp_value = exp_vendor['Value'].values[0]\n",
    "\n",
    "    inv_processing_time = selected_data['Posting_Date'] - selected_data['Invoice_Date']\n",
    "    avg_inv_processing_time = round(inv_processing_time.dt.days.mean(),2)\n",
    "    longest_inv_processing_time = round(inv_processing_time.dt.days.max(),2)\n",
    "    return [exp, total_order, exp_vendor_name, exp_value, avg_inv_processing_time, longest_inv_processing_time]"
   ]
  },
  {
   "cell_type": "markdown",
   "id": "4754fb8f-286a-42e9-ba79-8afdf8dc177c",
   "metadata": {},
   "source": [
    "### Data Visualization"
   ]
  },
  {
   "cell_type": "code",
   "execution_count": 226,
   "id": "1d414c2c-9f8a-409a-ad0b-f89a8afe1c40",
   "metadata": {},
   "outputs": [
    {
     "data": {
      "application/vnd.plotly.v1+json": {
       "config": {
        "plotlyServerURL": "https://plot.ly"
       },
       "data": [
        {
         "colorbar": {
          "title": {
           "text": "Value"
          }
         },
         "colorscale": [
          [
           0,
           "rgb(92, 83, 165)"
          ],
          [
           0.16666666666666666,
           "rgb(160, 89, 160)"
          ],
          [
           0.3333333333333333,
           "rgb(206, 102, 147)"
          ],
          [
           0.5,
           "rgb(235, 127, 134)"
          ],
          [
           0.6666666666666666,
           "rgb(248, 160, 126)"
          ],
          [
           0.8333333333333334,
           "rgb(250, 196, 132)"
          ],
          [
           1,
           "rgb(243, 231, 155)"
          ]
         ],
         "customdata": [
          [
           0,
           0,
           535,
           0,
           4027.72,
           0,
           0,
           340.58,
           267.5,
           2140,
           2506.29,
           44.41,
           0,
           0,
           0,
           1070,
           0,
           0,
           24.08,
           0,
           0,
           211,
           1269.38,
           0,
           4165.620000000001,
           1020.83,
           846.99,
           0,
           0,
           0,
           0
          ],
          [
           1061.23,
           144.45,
           0,
           0,
           886.7,
           0,
           1045.8200000000002,
           0,
           445.23,
           0,
           0,
           4774.02,
           2307.0899999999997,
           0,
           0,
           0,
           0,
           0,
           294.68,
           52.85,
           89.44,
           237.86,
           0,
           0,
           0,
           94.91,
           2857.7,
           0,
           0,
           0,
           0
          ],
          [
           91.99,
           162.64,
           0,
           0,
           0,
           0,
           0,
           57.03,
           620.6,
           0,
           0,
           0,
           273.12,
           3584.5,
           861.17,
           0,
           0,
           0,
           0,
           0,
           2052.26,
           600.9200000000001,
           13375,
           0,
           0,
           0,
           2693.18,
           0,
           162.64,
           0,
           0
          ],
          [
           0,
           0,
           555.3299999999999,
           0,
           50,
           2044.2399999999998,
           0,
           0,
           111.28,
           142.31,
           0,
           174.41,
           0,
           0,
           0,
           0,
           0,
           0,
           200.52,
           0,
           0,
           0,
           123.5,
           643.1,
           57.65,
           485.57,
           0,
           0,
           0,
           0,
           0
          ],
          [
           0,
           759.7,
           0,
           0,
           0,
           0,
           241.82,
           91.16,
           151.94,
           1728.33,
           482.57,
           0,
           0,
           0,
           0,
           0,
           225.47,
           281.41,
           0,
           0,
           129.19,
           355.78,
           0,
           667.68,
           0,
           0,
           0,
           2123.95,
           0,
           392.51,
           137.32
          ],
          [
           250.38,
           0,
           0,
           357.24,
           99.51,
           193.67,
           1030.88,
           1004.41,
           0,
           0,
           4054.87,
           0,
           141.24,
           50.7,
           0,
           0,
           0,
           1062.89,
           486.6,
           870.98,
           209.6,
           0,
           0,
           0,
           3741.5299999999997,
           2140,
           0,
           0,
           502.9,
           0,
           0
          ],
          [
           0,
           261.08,
           1530.1,
           0,
           162.64,
           0,
           0,
           0,
           0,
           647.78,
           0,
           0,
           0,
           0,
           0,
           0,
           355.78,
           75.7,
           593.85,
           0,
           0,
           0,
           11.6,
           0,
           162.64,
           0,
           3469.48,
           0,
           0,
           667.68,
           0
          ],
          [
           0,
           0,
           537.14,
           0,
           0,
           261.35,
           0,
           434.41999999999996,
           0,
           0,
           0,
           0,
           0,
           162.64,
           189.6,
           0,
           0,
           0,
           0,
           0,
           0,
           0,
           162.64,
           0,
           0,
           0,
           0,
           444,
           0,
           0,
           157.23
          ],
          [
           0,
           0,
           1231.59,
           89.31,
           0,
           0,
           0,
           0,
           0,
           2243.14,
           -343.2,
           1306.26,
           0,
           0,
           0,
           0,
           151.65,
           0,
           0,
           0,
           462.24,
           0,
           0,
           0,
           0,
           0,
           0,
           0,
           0,
           0,
           0
          ],
          [
           162.64,
           0,
           0,
           0,
           0,
           0,
           0,
           0,
           0,
           601.5,
           0,
           0,
           0,
           0,
           162.64,
           1402.98,
           0,
           0,
           0,
           0,
           0,
           355.78,
           90.25,
           0,
           0,
           0,
           0,
           0,
           0,
           95.77,
           0
          ],
          [
           149.8,
           325.28,
           0,
           0,
           0,
           0,
           0,
           126.26,
           0,
           0,
           0,
           481.99,
           0,
           0,
           763.9799999999999,
           0,
           0,
           0,
           0,
           367.4,
           0,
           0,
           1018.64,
           0,
           0,
           0,
           0,
           168.22,
           0,
           1209.1,
           0
          ],
          [
           0,
           0,
           151.94,
           0,
           861.2,
           166.92,
           28.8,
           0,
           0,
           282.48,
           417.3,
           0,
           449.4,
           30.05,
           5296.5,
           0,
           2109.33,
           288.9,
           0,
           0,
           162.64,
           0,
           0,
           329.56,
           0,
           545.34,
           1021.85,
           0,
           0,
           0,
           0
          ]
         ],
         "hovertemplate": "Month: %{y}<br>Day: %{x}<br>Total Expense: S$ %{customdata:.2f}<extra></extra>",
         "type": "heatmap",
         "x": [
          1,
          2,
          3,
          4,
          5,
          6,
          7,
          8,
          9,
          10,
          11,
          12,
          13,
          14,
          15,
          16,
          17,
          18,
          19,
          20,
          21,
          22,
          23,
          24,
          25,
          26,
          27,
          28,
          29,
          30,
          31
         ],
         "y": [
          1,
          2,
          3,
          4,
          5,
          6,
          7,
          8,
          9,
          10,
          11,
          12
         ],
         "z": [
          [
           0,
           0,
           535,
           0,
           4027.72,
           0,
           0,
           340.58,
           267.5,
           2140,
           2506.29,
           44.41,
           0,
           0,
           0,
           1070,
           0,
           0,
           24.08,
           0,
           0,
           211,
           1269.38,
           0,
           4165.620000000001,
           1020.83,
           846.99,
           0,
           0,
           0,
           0
          ],
          [
           1061.23,
           144.45,
           0,
           0,
           886.7,
           0,
           1045.8200000000002,
           0,
           445.23,
           0,
           0,
           4774.02,
           2307.0899999999997,
           0,
           0,
           0,
           0,
           0,
           294.68,
           52.85,
           89.44,
           237.86,
           0,
           0,
           0,
           94.91,
           2857.7,
           0,
           0,
           0,
           0
          ],
          [
           91.99,
           162.64,
           0,
           0,
           0,
           0,
           0,
           57.03,
           620.6,
           0,
           0,
           0,
           273.12,
           3584.5,
           861.17,
           0,
           0,
           0,
           0,
           0,
           2052.26,
           600.9200000000001,
           13375,
           0,
           0,
           0,
           2693.18,
           0,
           162.64,
           0,
           0
          ],
          [
           0,
           0,
           555.3299999999999,
           0,
           50,
           2044.2399999999998,
           0,
           0,
           111.28,
           142.31,
           0,
           174.41,
           0,
           0,
           0,
           0,
           0,
           0,
           200.52,
           0,
           0,
           0,
           123.5,
           643.1,
           57.65,
           485.57,
           0,
           0,
           0,
           0,
           0
          ],
          [
           0,
           759.7,
           0,
           0,
           0,
           0,
           241.82,
           91.16,
           151.94,
           1728.33,
           482.57,
           0,
           0,
           0,
           0,
           0,
           225.47,
           281.41,
           0,
           0,
           129.19,
           355.78,
           0,
           667.68,
           0,
           0,
           0,
           2123.95,
           0,
           392.51,
           137.32
          ],
          [
           250.38,
           0,
           0,
           357.24,
           99.51,
           193.67,
           1030.88,
           1004.41,
           0,
           0,
           4054.87,
           0,
           141.24,
           50.7,
           0,
           0,
           0,
           1062.89,
           486.6,
           870.98,
           209.6,
           0,
           0,
           0,
           3741.5299999999997,
           2140,
           0,
           0,
           502.9,
           0,
           0
          ],
          [
           0,
           261.08,
           1530.1,
           0,
           162.64,
           0,
           0,
           0,
           0,
           647.78,
           0,
           0,
           0,
           0,
           0,
           0,
           355.78,
           75.7,
           593.85,
           0,
           0,
           0,
           11.6,
           0,
           162.64,
           0,
           3469.48,
           0,
           0,
           667.68,
           0
          ],
          [
           0,
           0,
           537.14,
           0,
           0,
           261.35,
           0,
           434.41999999999996,
           0,
           0,
           0,
           0,
           0,
           162.64,
           189.6,
           0,
           0,
           0,
           0,
           0,
           0,
           0,
           162.64,
           0,
           0,
           0,
           0,
           444,
           0,
           0,
           157.23
          ],
          [
           0,
           0,
           1231.59,
           89.31,
           0,
           0,
           0,
           0,
           0,
           2243.14,
           -343.2,
           1306.26,
           0,
           0,
           0,
           0,
           151.65,
           0,
           0,
           0,
           462.24,
           0,
           0,
           0,
           0,
           0,
           0,
           0,
           0,
           0,
           0
          ],
          [
           162.64,
           0,
           0,
           0,
           0,
           0,
           0,
           0,
           0,
           601.5,
           0,
           0,
           0,
           0,
           162.64,
           1402.98,
           0,
           0,
           0,
           0,
           0,
           355.78,
           90.25,
           0,
           0,
           0,
           0,
           0,
           0,
           95.77,
           0
          ],
          [
           149.8,
           325.28,
           0,
           0,
           0,
           0,
           0,
           126.26,
           0,
           0,
           0,
           481.99,
           0,
           0,
           763.9799999999999,
           0,
           0,
           0,
           0,
           367.4,
           0,
           0,
           1018.64,
           0,
           0,
           0,
           0,
           168.22,
           0,
           1209.1,
           0
          ],
          [
           0,
           0,
           151.94,
           0,
           861.2,
           166.92,
           28.8,
           0,
           0,
           282.48,
           417.3,
           0,
           449.4,
           30.05,
           5296.5,
           0,
           2109.33,
           288.9,
           0,
           0,
           162.64,
           0,
           0,
           329.56,
           0,
           545.34,
           1021.85,
           0,
           0,
           0,
           0
          ]
         ]
        }
       ],
       "layout": {
        "height": 500,
        "shapes": [
         {
          "line": {
           "color": "grey",
           "width": 1
          },
          "type": "rect",
          "x0": 0.5,
          "x1": 1.5,
          "y0": 0.5,
          "y1": 1.5
         },
         {
          "line": {
           "color": "grey",
           "width": 1
          },
          "type": "rect",
          "x0": 1.5,
          "x1": 2.5,
          "y0": 0.5,
          "y1": 1.5
         },
         {
          "line": {
           "color": "grey",
           "width": 1
          },
          "type": "rect",
          "x0": 2.5,
          "x1": 3.5,
          "y0": 0.5,
          "y1": 1.5
         },
         {
          "line": {
           "color": "grey",
           "width": 1
          },
          "type": "rect",
          "x0": 3.5,
          "x1": 4.5,
          "y0": 0.5,
          "y1": 1.5
         },
         {
          "line": {
           "color": "grey",
           "width": 1
          },
          "type": "rect",
          "x0": 4.5,
          "x1": 5.5,
          "y0": 0.5,
          "y1": 1.5
         },
         {
          "line": {
           "color": "grey",
           "width": 1
          },
          "type": "rect",
          "x0": 5.5,
          "x1": 6.5,
          "y0": 0.5,
          "y1": 1.5
         },
         {
          "line": {
           "color": "grey",
           "width": 1
          },
          "type": "rect",
          "x0": 6.5,
          "x1": 7.5,
          "y0": 0.5,
          "y1": 1.5
         },
         {
          "line": {
           "color": "grey",
           "width": 1
          },
          "type": "rect",
          "x0": 7.5,
          "x1": 8.5,
          "y0": 0.5,
          "y1": 1.5
         },
         {
          "line": {
           "color": "grey",
           "width": 1
          },
          "type": "rect",
          "x0": 8.5,
          "x1": 9.5,
          "y0": 0.5,
          "y1": 1.5
         },
         {
          "line": {
           "color": "grey",
           "width": 1
          },
          "type": "rect",
          "x0": 9.5,
          "x1": 10.5,
          "y0": 0.5,
          "y1": 1.5
         },
         {
          "line": {
           "color": "grey",
           "width": 1
          },
          "type": "rect",
          "x0": 10.5,
          "x1": 11.5,
          "y0": 0.5,
          "y1": 1.5
         },
         {
          "line": {
           "color": "grey",
           "width": 1
          },
          "type": "rect",
          "x0": 11.5,
          "x1": 12.5,
          "y0": 0.5,
          "y1": 1.5
         },
         {
          "line": {
           "color": "grey",
           "width": 1
          },
          "type": "rect",
          "x0": 12.5,
          "x1": 13.5,
          "y0": 0.5,
          "y1": 1.5
         },
         {
          "line": {
           "color": "grey",
           "width": 1
          },
          "type": "rect",
          "x0": 13.5,
          "x1": 14.5,
          "y0": 0.5,
          "y1": 1.5
         },
         {
          "line": {
           "color": "grey",
           "width": 1
          },
          "type": "rect",
          "x0": 14.5,
          "x1": 15.5,
          "y0": 0.5,
          "y1": 1.5
         },
         {
          "line": {
           "color": "grey",
           "width": 1
          },
          "type": "rect",
          "x0": 15.5,
          "x1": 16.5,
          "y0": 0.5,
          "y1": 1.5
         },
         {
          "line": {
           "color": "grey",
           "width": 1
          },
          "type": "rect",
          "x0": 16.5,
          "x1": 17.5,
          "y0": 0.5,
          "y1": 1.5
         },
         {
          "line": {
           "color": "grey",
           "width": 1
          },
          "type": "rect",
          "x0": 17.5,
          "x1": 18.5,
          "y0": 0.5,
          "y1": 1.5
         },
         {
          "line": {
           "color": "grey",
           "width": 1
          },
          "type": "rect",
          "x0": 18.5,
          "x1": 19.5,
          "y0": 0.5,
          "y1": 1.5
         },
         {
          "line": {
           "color": "grey",
           "width": 1
          },
          "type": "rect",
          "x0": 19.5,
          "x1": 20.5,
          "y0": 0.5,
          "y1": 1.5
         },
         {
          "line": {
           "color": "grey",
           "width": 1
          },
          "type": "rect",
          "x0": 20.5,
          "x1": 21.5,
          "y0": 0.5,
          "y1": 1.5
         },
         {
          "line": {
           "color": "grey",
           "width": 1
          },
          "type": "rect",
          "x0": 21.5,
          "x1": 22.5,
          "y0": 0.5,
          "y1": 1.5
         },
         {
          "line": {
           "color": "grey",
           "width": 1
          },
          "type": "rect",
          "x0": 22.5,
          "x1": 23.5,
          "y0": 0.5,
          "y1": 1.5
         },
         {
          "line": {
           "color": "grey",
           "width": 1
          },
          "type": "rect",
          "x0": 23.5,
          "x1": 24.5,
          "y0": 0.5,
          "y1": 1.5
         },
         {
          "line": {
           "color": "grey",
           "width": 1
          },
          "type": "rect",
          "x0": 24.5,
          "x1": 25.5,
          "y0": 0.5,
          "y1": 1.5
         },
         {
          "line": {
           "color": "grey",
           "width": 1
          },
          "type": "rect",
          "x0": 25.5,
          "x1": 26.5,
          "y0": 0.5,
          "y1": 1.5
         },
         {
          "line": {
           "color": "grey",
           "width": 1
          },
          "type": "rect",
          "x0": 26.5,
          "x1": 27.5,
          "y0": 0.5,
          "y1": 1.5
         },
         {
          "line": {
           "color": "grey",
           "width": 1
          },
          "type": "rect",
          "x0": 27.5,
          "x1": 28.5,
          "y0": 0.5,
          "y1": 1.5
         },
         {
          "line": {
           "color": "grey",
           "width": 1
          },
          "type": "rect",
          "x0": 28.5,
          "x1": 29.5,
          "y0": 0.5,
          "y1": 1.5
         },
         {
          "line": {
           "color": "grey",
           "width": 1
          },
          "type": "rect",
          "x0": 29.5,
          "x1": 30.5,
          "y0": 0.5,
          "y1": 1.5
         },
         {
          "line": {
           "color": "grey",
           "width": 1
          },
          "type": "rect",
          "x0": 30.5,
          "x1": 31.5,
          "y0": 0.5,
          "y1": 1.5
         },
         {
          "line": {
           "color": "grey",
           "width": 1
          },
          "type": "rect",
          "x0": 0.5,
          "x1": 1.5,
          "y0": 1.5,
          "y1": 2.5
         },
         {
          "line": {
           "color": "grey",
           "width": 1
          },
          "type": "rect",
          "x0": 1.5,
          "x1": 2.5,
          "y0": 1.5,
          "y1": 2.5
         },
         {
          "line": {
           "color": "grey",
           "width": 1
          },
          "type": "rect",
          "x0": 2.5,
          "x1": 3.5,
          "y0": 1.5,
          "y1": 2.5
         },
         {
          "line": {
           "color": "grey",
           "width": 1
          },
          "type": "rect",
          "x0": 3.5,
          "x1": 4.5,
          "y0": 1.5,
          "y1": 2.5
         },
         {
          "line": {
           "color": "grey",
           "width": 1
          },
          "type": "rect",
          "x0": 4.5,
          "x1": 5.5,
          "y0": 1.5,
          "y1": 2.5
         },
         {
          "line": {
           "color": "grey",
           "width": 1
          },
          "type": "rect",
          "x0": 5.5,
          "x1": 6.5,
          "y0": 1.5,
          "y1": 2.5
         },
         {
          "line": {
           "color": "grey",
           "width": 1
          },
          "type": "rect",
          "x0": 6.5,
          "x1": 7.5,
          "y0": 1.5,
          "y1": 2.5
         },
         {
          "line": {
           "color": "grey",
           "width": 1
          },
          "type": "rect",
          "x0": 7.5,
          "x1": 8.5,
          "y0": 1.5,
          "y1": 2.5
         },
         {
          "line": {
           "color": "grey",
           "width": 1
          },
          "type": "rect",
          "x0": 8.5,
          "x1": 9.5,
          "y0": 1.5,
          "y1": 2.5
         },
         {
          "line": {
           "color": "grey",
           "width": 1
          },
          "type": "rect",
          "x0": 9.5,
          "x1": 10.5,
          "y0": 1.5,
          "y1": 2.5
         },
         {
          "line": {
           "color": "grey",
           "width": 1
          },
          "type": "rect",
          "x0": 10.5,
          "x1": 11.5,
          "y0": 1.5,
          "y1": 2.5
         },
         {
          "line": {
           "color": "grey",
           "width": 1
          },
          "type": "rect",
          "x0": 11.5,
          "x1": 12.5,
          "y0": 1.5,
          "y1": 2.5
         },
         {
          "line": {
           "color": "grey",
           "width": 1
          },
          "type": "rect",
          "x0": 12.5,
          "x1": 13.5,
          "y0": 1.5,
          "y1": 2.5
         },
         {
          "line": {
           "color": "grey",
           "width": 1
          },
          "type": "rect",
          "x0": 13.5,
          "x1": 14.5,
          "y0": 1.5,
          "y1": 2.5
         },
         {
          "line": {
           "color": "grey",
           "width": 1
          },
          "type": "rect",
          "x0": 14.5,
          "x1": 15.5,
          "y0": 1.5,
          "y1": 2.5
         },
         {
          "line": {
           "color": "grey",
           "width": 1
          },
          "type": "rect",
          "x0": 15.5,
          "x1": 16.5,
          "y0": 1.5,
          "y1": 2.5
         },
         {
          "line": {
           "color": "grey",
           "width": 1
          },
          "type": "rect",
          "x0": 16.5,
          "x1": 17.5,
          "y0": 1.5,
          "y1": 2.5
         },
         {
          "line": {
           "color": "grey",
           "width": 1
          },
          "type": "rect",
          "x0": 17.5,
          "x1": 18.5,
          "y0": 1.5,
          "y1": 2.5
         },
         {
          "line": {
           "color": "grey",
           "width": 1
          },
          "type": "rect",
          "x0": 18.5,
          "x1": 19.5,
          "y0": 1.5,
          "y1": 2.5
         },
         {
          "line": {
           "color": "grey",
           "width": 1
          },
          "type": "rect",
          "x0": 19.5,
          "x1": 20.5,
          "y0": 1.5,
          "y1": 2.5
         },
         {
          "line": {
           "color": "grey",
           "width": 1
          },
          "type": "rect",
          "x0": 20.5,
          "x1": 21.5,
          "y0": 1.5,
          "y1": 2.5
         },
         {
          "line": {
           "color": "grey",
           "width": 1
          },
          "type": "rect",
          "x0": 21.5,
          "x1": 22.5,
          "y0": 1.5,
          "y1": 2.5
         },
         {
          "line": {
           "color": "grey",
           "width": 1
          },
          "type": "rect",
          "x0": 22.5,
          "x1": 23.5,
          "y0": 1.5,
          "y1": 2.5
         },
         {
          "line": {
           "color": "grey",
           "width": 1
          },
          "type": "rect",
          "x0": 23.5,
          "x1": 24.5,
          "y0": 1.5,
          "y1": 2.5
         },
         {
          "line": {
           "color": "grey",
           "width": 1
          },
          "type": "rect",
          "x0": 24.5,
          "x1": 25.5,
          "y0": 1.5,
          "y1": 2.5
         },
         {
          "line": {
           "color": "grey",
           "width": 1
          },
          "type": "rect",
          "x0": 25.5,
          "x1": 26.5,
          "y0": 1.5,
          "y1": 2.5
         },
         {
          "line": {
           "color": "grey",
           "width": 1
          },
          "type": "rect",
          "x0": 26.5,
          "x1": 27.5,
          "y0": 1.5,
          "y1": 2.5
         },
         {
          "line": {
           "color": "grey",
           "width": 1
          },
          "type": "rect",
          "x0": 27.5,
          "x1": 28.5,
          "y0": 1.5,
          "y1": 2.5
         },
         {
          "line": {
           "color": "grey",
           "width": 1
          },
          "type": "rect",
          "x0": 28.5,
          "x1": 29.5,
          "y0": 1.5,
          "y1": 2.5
         },
         {
          "line": {
           "color": "grey",
           "width": 1
          },
          "type": "rect",
          "x0": 29.5,
          "x1": 30.5,
          "y0": 1.5,
          "y1": 2.5
         },
         {
          "line": {
           "color": "grey",
           "width": 1
          },
          "type": "rect",
          "x0": 30.5,
          "x1": 31.5,
          "y0": 1.5,
          "y1": 2.5
         },
         {
          "line": {
           "color": "grey",
           "width": 1
          },
          "type": "rect",
          "x0": 0.5,
          "x1": 1.5,
          "y0": 2.5,
          "y1": 3.5
         },
         {
          "line": {
           "color": "grey",
           "width": 1
          },
          "type": "rect",
          "x0": 1.5,
          "x1": 2.5,
          "y0": 2.5,
          "y1": 3.5
         },
         {
          "line": {
           "color": "grey",
           "width": 1
          },
          "type": "rect",
          "x0": 2.5,
          "x1": 3.5,
          "y0": 2.5,
          "y1": 3.5
         },
         {
          "line": {
           "color": "grey",
           "width": 1
          },
          "type": "rect",
          "x0": 3.5,
          "x1": 4.5,
          "y0": 2.5,
          "y1": 3.5
         },
         {
          "line": {
           "color": "grey",
           "width": 1
          },
          "type": "rect",
          "x0": 4.5,
          "x1": 5.5,
          "y0": 2.5,
          "y1": 3.5
         },
         {
          "line": {
           "color": "grey",
           "width": 1
          },
          "type": "rect",
          "x0": 5.5,
          "x1": 6.5,
          "y0": 2.5,
          "y1": 3.5
         },
         {
          "line": {
           "color": "grey",
           "width": 1
          },
          "type": "rect",
          "x0": 6.5,
          "x1": 7.5,
          "y0": 2.5,
          "y1": 3.5
         },
         {
          "line": {
           "color": "grey",
           "width": 1
          },
          "type": "rect",
          "x0": 7.5,
          "x1": 8.5,
          "y0": 2.5,
          "y1": 3.5
         },
         {
          "line": {
           "color": "grey",
           "width": 1
          },
          "type": "rect",
          "x0": 8.5,
          "x1": 9.5,
          "y0": 2.5,
          "y1": 3.5
         },
         {
          "line": {
           "color": "grey",
           "width": 1
          },
          "type": "rect",
          "x0": 9.5,
          "x1": 10.5,
          "y0": 2.5,
          "y1": 3.5
         },
         {
          "line": {
           "color": "grey",
           "width": 1
          },
          "type": "rect",
          "x0": 10.5,
          "x1": 11.5,
          "y0": 2.5,
          "y1": 3.5
         },
         {
          "line": {
           "color": "grey",
           "width": 1
          },
          "type": "rect",
          "x0": 11.5,
          "x1": 12.5,
          "y0": 2.5,
          "y1": 3.5
         },
         {
          "line": {
           "color": "grey",
           "width": 1
          },
          "type": "rect",
          "x0": 12.5,
          "x1": 13.5,
          "y0": 2.5,
          "y1": 3.5
         },
         {
          "line": {
           "color": "grey",
           "width": 1
          },
          "type": "rect",
          "x0": 13.5,
          "x1": 14.5,
          "y0": 2.5,
          "y1": 3.5
         },
         {
          "line": {
           "color": "grey",
           "width": 1
          },
          "type": "rect",
          "x0": 14.5,
          "x1": 15.5,
          "y0": 2.5,
          "y1": 3.5
         },
         {
          "line": {
           "color": "grey",
           "width": 1
          },
          "type": "rect",
          "x0": 15.5,
          "x1": 16.5,
          "y0": 2.5,
          "y1": 3.5
         },
         {
          "line": {
           "color": "grey",
           "width": 1
          },
          "type": "rect",
          "x0": 16.5,
          "x1": 17.5,
          "y0": 2.5,
          "y1": 3.5
         },
         {
          "line": {
           "color": "grey",
           "width": 1
          },
          "type": "rect",
          "x0": 17.5,
          "x1": 18.5,
          "y0": 2.5,
          "y1": 3.5
         },
         {
          "line": {
           "color": "grey",
           "width": 1
          },
          "type": "rect",
          "x0": 18.5,
          "x1": 19.5,
          "y0": 2.5,
          "y1": 3.5
         },
         {
          "line": {
           "color": "grey",
           "width": 1
          },
          "type": "rect",
          "x0": 19.5,
          "x1": 20.5,
          "y0": 2.5,
          "y1": 3.5
         },
         {
          "line": {
           "color": "grey",
           "width": 1
          },
          "type": "rect",
          "x0": 20.5,
          "x1": 21.5,
          "y0": 2.5,
          "y1": 3.5
         },
         {
          "line": {
           "color": "grey",
           "width": 1
          },
          "type": "rect",
          "x0": 21.5,
          "x1": 22.5,
          "y0": 2.5,
          "y1": 3.5
         },
         {
          "line": {
           "color": "grey",
           "width": 1
          },
          "type": "rect",
          "x0": 22.5,
          "x1": 23.5,
          "y0": 2.5,
          "y1": 3.5
         },
         {
          "line": {
           "color": "grey",
           "width": 1
          },
          "type": "rect",
          "x0": 23.5,
          "x1": 24.5,
          "y0": 2.5,
          "y1": 3.5
         },
         {
          "line": {
           "color": "grey",
           "width": 1
          },
          "type": "rect",
          "x0": 24.5,
          "x1": 25.5,
          "y0": 2.5,
          "y1": 3.5
         },
         {
          "line": {
           "color": "grey",
           "width": 1
          },
          "type": "rect",
          "x0": 25.5,
          "x1": 26.5,
          "y0": 2.5,
          "y1": 3.5
         },
         {
          "line": {
           "color": "grey",
           "width": 1
          },
          "type": "rect",
          "x0": 26.5,
          "x1": 27.5,
          "y0": 2.5,
          "y1": 3.5
         },
         {
          "line": {
           "color": "grey",
           "width": 1
          },
          "type": "rect",
          "x0": 27.5,
          "x1": 28.5,
          "y0": 2.5,
          "y1": 3.5
         },
         {
          "line": {
           "color": "grey",
           "width": 1
          },
          "type": "rect",
          "x0": 28.5,
          "x1": 29.5,
          "y0": 2.5,
          "y1": 3.5
         },
         {
          "line": {
           "color": "grey",
           "width": 1
          },
          "type": "rect",
          "x0": 29.5,
          "x1": 30.5,
          "y0": 2.5,
          "y1": 3.5
         },
         {
          "line": {
           "color": "grey",
           "width": 1
          },
          "type": "rect",
          "x0": 30.5,
          "x1": 31.5,
          "y0": 2.5,
          "y1": 3.5
         },
         {
          "line": {
           "color": "grey",
           "width": 1
          },
          "type": "rect",
          "x0": 0.5,
          "x1": 1.5,
          "y0": 3.5,
          "y1": 4.5
         },
         {
          "line": {
           "color": "grey",
           "width": 1
          },
          "type": "rect",
          "x0": 1.5,
          "x1": 2.5,
          "y0": 3.5,
          "y1": 4.5
         },
         {
          "line": {
           "color": "grey",
           "width": 1
          },
          "type": "rect",
          "x0": 2.5,
          "x1": 3.5,
          "y0": 3.5,
          "y1": 4.5
         },
         {
          "line": {
           "color": "grey",
           "width": 1
          },
          "type": "rect",
          "x0": 3.5,
          "x1": 4.5,
          "y0": 3.5,
          "y1": 4.5
         },
         {
          "line": {
           "color": "grey",
           "width": 1
          },
          "type": "rect",
          "x0": 4.5,
          "x1": 5.5,
          "y0": 3.5,
          "y1": 4.5
         },
         {
          "line": {
           "color": "grey",
           "width": 1
          },
          "type": "rect",
          "x0": 5.5,
          "x1": 6.5,
          "y0": 3.5,
          "y1": 4.5
         },
         {
          "line": {
           "color": "grey",
           "width": 1
          },
          "type": "rect",
          "x0": 6.5,
          "x1": 7.5,
          "y0": 3.5,
          "y1": 4.5
         },
         {
          "line": {
           "color": "grey",
           "width": 1
          },
          "type": "rect",
          "x0": 7.5,
          "x1": 8.5,
          "y0": 3.5,
          "y1": 4.5
         },
         {
          "line": {
           "color": "grey",
           "width": 1
          },
          "type": "rect",
          "x0": 8.5,
          "x1": 9.5,
          "y0": 3.5,
          "y1": 4.5
         },
         {
          "line": {
           "color": "grey",
           "width": 1
          },
          "type": "rect",
          "x0": 9.5,
          "x1": 10.5,
          "y0": 3.5,
          "y1": 4.5
         },
         {
          "line": {
           "color": "grey",
           "width": 1
          },
          "type": "rect",
          "x0": 10.5,
          "x1": 11.5,
          "y0": 3.5,
          "y1": 4.5
         },
         {
          "line": {
           "color": "grey",
           "width": 1
          },
          "type": "rect",
          "x0": 11.5,
          "x1": 12.5,
          "y0": 3.5,
          "y1": 4.5
         },
         {
          "line": {
           "color": "grey",
           "width": 1
          },
          "type": "rect",
          "x0": 12.5,
          "x1": 13.5,
          "y0": 3.5,
          "y1": 4.5
         },
         {
          "line": {
           "color": "grey",
           "width": 1
          },
          "type": "rect",
          "x0": 13.5,
          "x1": 14.5,
          "y0": 3.5,
          "y1": 4.5
         },
         {
          "line": {
           "color": "grey",
           "width": 1
          },
          "type": "rect",
          "x0": 14.5,
          "x1": 15.5,
          "y0": 3.5,
          "y1": 4.5
         },
         {
          "line": {
           "color": "grey",
           "width": 1
          },
          "type": "rect",
          "x0": 15.5,
          "x1": 16.5,
          "y0": 3.5,
          "y1": 4.5
         },
         {
          "line": {
           "color": "grey",
           "width": 1
          },
          "type": "rect",
          "x0": 16.5,
          "x1": 17.5,
          "y0": 3.5,
          "y1": 4.5
         },
         {
          "line": {
           "color": "grey",
           "width": 1
          },
          "type": "rect",
          "x0": 17.5,
          "x1": 18.5,
          "y0": 3.5,
          "y1": 4.5
         },
         {
          "line": {
           "color": "grey",
           "width": 1
          },
          "type": "rect",
          "x0": 18.5,
          "x1": 19.5,
          "y0": 3.5,
          "y1": 4.5
         },
         {
          "line": {
           "color": "grey",
           "width": 1
          },
          "type": "rect",
          "x0": 19.5,
          "x1": 20.5,
          "y0": 3.5,
          "y1": 4.5
         },
         {
          "line": {
           "color": "grey",
           "width": 1
          },
          "type": "rect",
          "x0": 20.5,
          "x1": 21.5,
          "y0": 3.5,
          "y1": 4.5
         },
         {
          "line": {
           "color": "grey",
           "width": 1
          },
          "type": "rect",
          "x0": 21.5,
          "x1": 22.5,
          "y0": 3.5,
          "y1": 4.5
         },
         {
          "line": {
           "color": "grey",
           "width": 1
          },
          "type": "rect",
          "x0": 22.5,
          "x1": 23.5,
          "y0": 3.5,
          "y1": 4.5
         },
         {
          "line": {
           "color": "grey",
           "width": 1
          },
          "type": "rect",
          "x0": 23.5,
          "x1": 24.5,
          "y0": 3.5,
          "y1": 4.5
         },
         {
          "line": {
           "color": "grey",
           "width": 1
          },
          "type": "rect",
          "x0": 24.5,
          "x1": 25.5,
          "y0": 3.5,
          "y1": 4.5
         },
         {
          "line": {
           "color": "grey",
           "width": 1
          },
          "type": "rect",
          "x0": 25.5,
          "x1": 26.5,
          "y0": 3.5,
          "y1": 4.5
         },
         {
          "line": {
           "color": "grey",
           "width": 1
          },
          "type": "rect",
          "x0": 26.5,
          "x1": 27.5,
          "y0": 3.5,
          "y1": 4.5
         },
         {
          "line": {
           "color": "grey",
           "width": 1
          },
          "type": "rect",
          "x0": 27.5,
          "x1": 28.5,
          "y0": 3.5,
          "y1": 4.5
         },
         {
          "line": {
           "color": "grey",
           "width": 1
          },
          "type": "rect",
          "x0": 28.5,
          "x1": 29.5,
          "y0": 3.5,
          "y1": 4.5
         },
         {
          "line": {
           "color": "grey",
           "width": 1
          },
          "type": "rect",
          "x0": 29.5,
          "x1": 30.5,
          "y0": 3.5,
          "y1": 4.5
         },
         {
          "line": {
           "color": "grey",
           "width": 1
          },
          "type": "rect",
          "x0": 30.5,
          "x1": 31.5,
          "y0": 3.5,
          "y1": 4.5
         },
         {
          "line": {
           "color": "grey",
           "width": 1
          },
          "type": "rect",
          "x0": 0.5,
          "x1": 1.5,
          "y0": 4.5,
          "y1": 5.5
         },
         {
          "line": {
           "color": "grey",
           "width": 1
          },
          "type": "rect",
          "x0": 1.5,
          "x1": 2.5,
          "y0": 4.5,
          "y1": 5.5
         },
         {
          "line": {
           "color": "grey",
           "width": 1
          },
          "type": "rect",
          "x0": 2.5,
          "x1": 3.5,
          "y0": 4.5,
          "y1": 5.5
         },
         {
          "line": {
           "color": "grey",
           "width": 1
          },
          "type": "rect",
          "x0": 3.5,
          "x1": 4.5,
          "y0": 4.5,
          "y1": 5.5
         },
         {
          "line": {
           "color": "grey",
           "width": 1
          },
          "type": "rect",
          "x0": 4.5,
          "x1": 5.5,
          "y0": 4.5,
          "y1": 5.5
         },
         {
          "line": {
           "color": "grey",
           "width": 1
          },
          "type": "rect",
          "x0": 5.5,
          "x1": 6.5,
          "y0": 4.5,
          "y1": 5.5
         },
         {
          "line": {
           "color": "grey",
           "width": 1
          },
          "type": "rect",
          "x0": 6.5,
          "x1": 7.5,
          "y0": 4.5,
          "y1": 5.5
         },
         {
          "line": {
           "color": "grey",
           "width": 1
          },
          "type": "rect",
          "x0": 7.5,
          "x1": 8.5,
          "y0": 4.5,
          "y1": 5.5
         },
         {
          "line": {
           "color": "grey",
           "width": 1
          },
          "type": "rect",
          "x0": 8.5,
          "x1": 9.5,
          "y0": 4.5,
          "y1": 5.5
         },
         {
          "line": {
           "color": "grey",
           "width": 1
          },
          "type": "rect",
          "x0": 9.5,
          "x1": 10.5,
          "y0": 4.5,
          "y1": 5.5
         },
         {
          "line": {
           "color": "grey",
           "width": 1
          },
          "type": "rect",
          "x0": 10.5,
          "x1": 11.5,
          "y0": 4.5,
          "y1": 5.5
         },
         {
          "line": {
           "color": "grey",
           "width": 1
          },
          "type": "rect",
          "x0": 11.5,
          "x1": 12.5,
          "y0": 4.5,
          "y1": 5.5
         },
         {
          "line": {
           "color": "grey",
           "width": 1
          },
          "type": "rect",
          "x0": 12.5,
          "x1": 13.5,
          "y0": 4.5,
          "y1": 5.5
         },
         {
          "line": {
           "color": "grey",
           "width": 1
          },
          "type": "rect",
          "x0": 13.5,
          "x1": 14.5,
          "y0": 4.5,
          "y1": 5.5
         },
         {
          "line": {
           "color": "grey",
           "width": 1
          },
          "type": "rect",
          "x0": 14.5,
          "x1": 15.5,
          "y0": 4.5,
          "y1": 5.5
         },
         {
          "line": {
           "color": "grey",
           "width": 1
          },
          "type": "rect",
          "x0": 15.5,
          "x1": 16.5,
          "y0": 4.5,
          "y1": 5.5
         },
         {
          "line": {
           "color": "grey",
           "width": 1
          },
          "type": "rect",
          "x0": 16.5,
          "x1": 17.5,
          "y0": 4.5,
          "y1": 5.5
         },
         {
          "line": {
           "color": "grey",
           "width": 1
          },
          "type": "rect",
          "x0": 17.5,
          "x1": 18.5,
          "y0": 4.5,
          "y1": 5.5
         },
         {
          "line": {
           "color": "grey",
           "width": 1
          },
          "type": "rect",
          "x0": 18.5,
          "x1": 19.5,
          "y0": 4.5,
          "y1": 5.5
         },
         {
          "line": {
           "color": "grey",
           "width": 1
          },
          "type": "rect",
          "x0": 19.5,
          "x1": 20.5,
          "y0": 4.5,
          "y1": 5.5
         },
         {
          "line": {
           "color": "grey",
           "width": 1
          },
          "type": "rect",
          "x0": 20.5,
          "x1": 21.5,
          "y0": 4.5,
          "y1": 5.5
         },
         {
          "line": {
           "color": "grey",
           "width": 1
          },
          "type": "rect",
          "x0": 21.5,
          "x1": 22.5,
          "y0": 4.5,
          "y1": 5.5
         },
         {
          "line": {
           "color": "grey",
           "width": 1
          },
          "type": "rect",
          "x0": 22.5,
          "x1": 23.5,
          "y0": 4.5,
          "y1": 5.5
         },
         {
          "line": {
           "color": "grey",
           "width": 1
          },
          "type": "rect",
          "x0": 23.5,
          "x1": 24.5,
          "y0": 4.5,
          "y1": 5.5
         },
         {
          "line": {
           "color": "grey",
           "width": 1
          },
          "type": "rect",
          "x0": 24.5,
          "x1": 25.5,
          "y0": 4.5,
          "y1": 5.5
         },
         {
          "line": {
           "color": "grey",
           "width": 1
          },
          "type": "rect",
          "x0": 25.5,
          "x1": 26.5,
          "y0": 4.5,
          "y1": 5.5
         },
         {
          "line": {
           "color": "grey",
           "width": 1
          },
          "type": "rect",
          "x0": 26.5,
          "x1": 27.5,
          "y0": 4.5,
          "y1": 5.5
         },
         {
          "line": {
           "color": "grey",
           "width": 1
          },
          "type": "rect",
          "x0": 27.5,
          "x1": 28.5,
          "y0": 4.5,
          "y1": 5.5
         },
         {
          "line": {
           "color": "grey",
           "width": 1
          },
          "type": "rect",
          "x0": 28.5,
          "x1": 29.5,
          "y0": 4.5,
          "y1": 5.5
         },
         {
          "line": {
           "color": "grey",
           "width": 1
          },
          "type": "rect",
          "x0": 29.5,
          "x1": 30.5,
          "y0": 4.5,
          "y1": 5.5
         },
         {
          "line": {
           "color": "grey",
           "width": 1
          },
          "type": "rect",
          "x0": 30.5,
          "x1": 31.5,
          "y0": 4.5,
          "y1": 5.5
         },
         {
          "line": {
           "color": "grey",
           "width": 1
          },
          "type": "rect",
          "x0": 0.5,
          "x1": 1.5,
          "y0": 5.5,
          "y1": 6.5
         },
         {
          "line": {
           "color": "grey",
           "width": 1
          },
          "type": "rect",
          "x0": 1.5,
          "x1": 2.5,
          "y0": 5.5,
          "y1": 6.5
         },
         {
          "line": {
           "color": "grey",
           "width": 1
          },
          "type": "rect",
          "x0": 2.5,
          "x1": 3.5,
          "y0": 5.5,
          "y1": 6.5
         },
         {
          "line": {
           "color": "grey",
           "width": 1
          },
          "type": "rect",
          "x0": 3.5,
          "x1": 4.5,
          "y0": 5.5,
          "y1": 6.5
         },
         {
          "line": {
           "color": "grey",
           "width": 1
          },
          "type": "rect",
          "x0": 4.5,
          "x1": 5.5,
          "y0": 5.5,
          "y1": 6.5
         },
         {
          "line": {
           "color": "grey",
           "width": 1
          },
          "type": "rect",
          "x0": 5.5,
          "x1": 6.5,
          "y0": 5.5,
          "y1": 6.5
         },
         {
          "line": {
           "color": "grey",
           "width": 1
          },
          "type": "rect",
          "x0": 6.5,
          "x1": 7.5,
          "y0": 5.5,
          "y1": 6.5
         },
         {
          "line": {
           "color": "grey",
           "width": 1
          },
          "type": "rect",
          "x0": 7.5,
          "x1": 8.5,
          "y0": 5.5,
          "y1": 6.5
         },
         {
          "line": {
           "color": "grey",
           "width": 1
          },
          "type": "rect",
          "x0": 8.5,
          "x1": 9.5,
          "y0": 5.5,
          "y1": 6.5
         },
         {
          "line": {
           "color": "grey",
           "width": 1
          },
          "type": "rect",
          "x0": 9.5,
          "x1": 10.5,
          "y0": 5.5,
          "y1": 6.5
         },
         {
          "line": {
           "color": "grey",
           "width": 1
          },
          "type": "rect",
          "x0": 10.5,
          "x1": 11.5,
          "y0": 5.5,
          "y1": 6.5
         },
         {
          "line": {
           "color": "grey",
           "width": 1
          },
          "type": "rect",
          "x0": 11.5,
          "x1": 12.5,
          "y0": 5.5,
          "y1": 6.5
         },
         {
          "line": {
           "color": "grey",
           "width": 1
          },
          "type": "rect",
          "x0": 12.5,
          "x1": 13.5,
          "y0": 5.5,
          "y1": 6.5
         },
         {
          "line": {
           "color": "grey",
           "width": 1
          },
          "type": "rect",
          "x0": 13.5,
          "x1": 14.5,
          "y0": 5.5,
          "y1": 6.5
         },
         {
          "line": {
           "color": "grey",
           "width": 1
          },
          "type": "rect",
          "x0": 14.5,
          "x1": 15.5,
          "y0": 5.5,
          "y1": 6.5
         },
         {
          "line": {
           "color": "grey",
           "width": 1
          },
          "type": "rect",
          "x0": 15.5,
          "x1": 16.5,
          "y0": 5.5,
          "y1": 6.5
         },
         {
          "line": {
           "color": "grey",
           "width": 1
          },
          "type": "rect",
          "x0": 16.5,
          "x1": 17.5,
          "y0": 5.5,
          "y1": 6.5
         },
         {
          "line": {
           "color": "grey",
           "width": 1
          },
          "type": "rect",
          "x0": 17.5,
          "x1": 18.5,
          "y0": 5.5,
          "y1": 6.5
         },
         {
          "line": {
           "color": "grey",
           "width": 1
          },
          "type": "rect",
          "x0": 18.5,
          "x1": 19.5,
          "y0": 5.5,
          "y1": 6.5
         },
         {
          "line": {
           "color": "grey",
           "width": 1
          },
          "type": "rect",
          "x0": 19.5,
          "x1": 20.5,
          "y0": 5.5,
          "y1": 6.5
         },
         {
          "line": {
           "color": "grey",
           "width": 1
          },
          "type": "rect",
          "x0": 20.5,
          "x1": 21.5,
          "y0": 5.5,
          "y1": 6.5
         },
         {
          "line": {
           "color": "grey",
           "width": 1
          },
          "type": "rect",
          "x0": 21.5,
          "x1": 22.5,
          "y0": 5.5,
          "y1": 6.5
         },
         {
          "line": {
           "color": "grey",
           "width": 1
          },
          "type": "rect",
          "x0": 22.5,
          "x1": 23.5,
          "y0": 5.5,
          "y1": 6.5
         },
         {
          "line": {
           "color": "grey",
           "width": 1
          },
          "type": "rect",
          "x0": 23.5,
          "x1": 24.5,
          "y0": 5.5,
          "y1": 6.5
         },
         {
          "line": {
           "color": "grey",
           "width": 1
          },
          "type": "rect",
          "x0": 24.5,
          "x1": 25.5,
          "y0": 5.5,
          "y1": 6.5
         },
         {
          "line": {
           "color": "grey",
           "width": 1
          },
          "type": "rect",
          "x0": 25.5,
          "x1": 26.5,
          "y0": 5.5,
          "y1": 6.5
         },
         {
          "line": {
           "color": "grey",
           "width": 1
          },
          "type": "rect",
          "x0": 26.5,
          "x1": 27.5,
          "y0": 5.5,
          "y1": 6.5
         },
         {
          "line": {
           "color": "grey",
           "width": 1
          },
          "type": "rect",
          "x0": 27.5,
          "x1": 28.5,
          "y0": 5.5,
          "y1": 6.5
         },
         {
          "line": {
           "color": "grey",
           "width": 1
          },
          "type": "rect",
          "x0": 28.5,
          "x1": 29.5,
          "y0": 5.5,
          "y1": 6.5
         },
         {
          "line": {
           "color": "grey",
           "width": 1
          },
          "type": "rect",
          "x0": 29.5,
          "x1": 30.5,
          "y0": 5.5,
          "y1": 6.5
         },
         {
          "line": {
           "color": "grey",
           "width": 1
          },
          "type": "rect",
          "x0": 30.5,
          "x1": 31.5,
          "y0": 5.5,
          "y1": 6.5
         },
         {
          "line": {
           "color": "grey",
           "width": 1
          },
          "type": "rect",
          "x0": 0.5,
          "x1": 1.5,
          "y0": 6.5,
          "y1": 7.5
         },
         {
          "line": {
           "color": "grey",
           "width": 1
          },
          "type": "rect",
          "x0": 1.5,
          "x1": 2.5,
          "y0": 6.5,
          "y1": 7.5
         },
         {
          "line": {
           "color": "grey",
           "width": 1
          },
          "type": "rect",
          "x0": 2.5,
          "x1": 3.5,
          "y0": 6.5,
          "y1": 7.5
         },
         {
          "line": {
           "color": "grey",
           "width": 1
          },
          "type": "rect",
          "x0": 3.5,
          "x1": 4.5,
          "y0": 6.5,
          "y1": 7.5
         },
         {
          "line": {
           "color": "grey",
           "width": 1
          },
          "type": "rect",
          "x0": 4.5,
          "x1": 5.5,
          "y0": 6.5,
          "y1": 7.5
         },
         {
          "line": {
           "color": "grey",
           "width": 1
          },
          "type": "rect",
          "x0": 5.5,
          "x1": 6.5,
          "y0": 6.5,
          "y1": 7.5
         },
         {
          "line": {
           "color": "grey",
           "width": 1
          },
          "type": "rect",
          "x0": 6.5,
          "x1": 7.5,
          "y0": 6.5,
          "y1": 7.5
         },
         {
          "line": {
           "color": "grey",
           "width": 1
          },
          "type": "rect",
          "x0": 7.5,
          "x1": 8.5,
          "y0": 6.5,
          "y1": 7.5
         },
         {
          "line": {
           "color": "grey",
           "width": 1
          },
          "type": "rect",
          "x0": 8.5,
          "x1": 9.5,
          "y0": 6.5,
          "y1": 7.5
         },
         {
          "line": {
           "color": "grey",
           "width": 1
          },
          "type": "rect",
          "x0": 9.5,
          "x1": 10.5,
          "y0": 6.5,
          "y1": 7.5
         },
         {
          "line": {
           "color": "grey",
           "width": 1
          },
          "type": "rect",
          "x0": 10.5,
          "x1": 11.5,
          "y0": 6.5,
          "y1": 7.5
         },
         {
          "line": {
           "color": "grey",
           "width": 1
          },
          "type": "rect",
          "x0": 11.5,
          "x1": 12.5,
          "y0": 6.5,
          "y1": 7.5
         },
         {
          "line": {
           "color": "grey",
           "width": 1
          },
          "type": "rect",
          "x0": 12.5,
          "x1": 13.5,
          "y0": 6.5,
          "y1": 7.5
         },
         {
          "line": {
           "color": "grey",
           "width": 1
          },
          "type": "rect",
          "x0": 13.5,
          "x1": 14.5,
          "y0": 6.5,
          "y1": 7.5
         },
         {
          "line": {
           "color": "grey",
           "width": 1
          },
          "type": "rect",
          "x0": 14.5,
          "x1": 15.5,
          "y0": 6.5,
          "y1": 7.5
         },
         {
          "line": {
           "color": "grey",
           "width": 1
          },
          "type": "rect",
          "x0": 15.5,
          "x1": 16.5,
          "y0": 6.5,
          "y1": 7.5
         },
         {
          "line": {
           "color": "grey",
           "width": 1
          },
          "type": "rect",
          "x0": 16.5,
          "x1": 17.5,
          "y0": 6.5,
          "y1": 7.5
         },
         {
          "line": {
           "color": "grey",
           "width": 1
          },
          "type": "rect",
          "x0": 17.5,
          "x1": 18.5,
          "y0": 6.5,
          "y1": 7.5
         },
         {
          "line": {
           "color": "grey",
           "width": 1
          },
          "type": "rect",
          "x0": 18.5,
          "x1": 19.5,
          "y0": 6.5,
          "y1": 7.5
         },
         {
          "line": {
           "color": "grey",
           "width": 1
          },
          "type": "rect",
          "x0": 19.5,
          "x1": 20.5,
          "y0": 6.5,
          "y1": 7.5
         },
         {
          "line": {
           "color": "grey",
           "width": 1
          },
          "type": "rect",
          "x0": 20.5,
          "x1": 21.5,
          "y0": 6.5,
          "y1": 7.5
         },
         {
          "line": {
           "color": "grey",
           "width": 1
          },
          "type": "rect",
          "x0": 21.5,
          "x1": 22.5,
          "y0": 6.5,
          "y1": 7.5
         },
         {
          "line": {
           "color": "grey",
           "width": 1
          },
          "type": "rect",
          "x0": 22.5,
          "x1": 23.5,
          "y0": 6.5,
          "y1": 7.5
         },
         {
          "line": {
           "color": "grey",
           "width": 1
          },
          "type": "rect",
          "x0": 23.5,
          "x1": 24.5,
          "y0": 6.5,
          "y1": 7.5
         },
         {
          "line": {
           "color": "grey",
           "width": 1
          },
          "type": "rect",
          "x0": 24.5,
          "x1": 25.5,
          "y0": 6.5,
          "y1": 7.5
         },
         {
          "line": {
           "color": "grey",
           "width": 1
          },
          "type": "rect",
          "x0": 25.5,
          "x1": 26.5,
          "y0": 6.5,
          "y1": 7.5
         },
         {
          "line": {
           "color": "grey",
           "width": 1
          },
          "type": "rect",
          "x0": 26.5,
          "x1": 27.5,
          "y0": 6.5,
          "y1": 7.5
         },
         {
          "line": {
           "color": "grey",
           "width": 1
          },
          "type": "rect",
          "x0": 27.5,
          "x1": 28.5,
          "y0": 6.5,
          "y1": 7.5
         },
         {
          "line": {
           "color": "grey",
           "width": 1
          },
          "type": "rect",
          "x0": 28.5,
          "x1": 29.5,
          "y0": 6.5,
          "y1": 7.5
         },
         {
          "line": {
           "color": "grey",
           "width": 1
          },
          "type": "rect",
          "x0": 29.5,
          "x1": 30.5,
          "y0": 6.5,
          "y1": 7.5
         },
         {
          "line": {
           "color": "grey",
           "width": 1
          },
          "type": "rect",
          "x0": 30.5,
          "x1": 31.5,
          "y0": 6.5,
          "y1": 7.5
         },
         {
          "line": {
           "color": "grey",
           "width": 1
          },
          "type": "rect",
          "x0": 0.5,
          "x1": 1.5,
          "y0": 7.5,
          "y1": 8.5
         },
         {
          "line": {
           "color": "grey",
           "width": 1
          },
          "type": "rect",
          "x0": 1.5,
          "x1": 2.5,
          "y0": 7.5,
          "y1": 8.5
         },
         {
          "line": {
           "color": "grey",
           "width": 1
          },
          "type": "rect",
          "x0": 2.5,
          "x1": 3.5,
          "y0": 7.5,
          "y1": 8.5
         },
         {
          "line": {
           "color": "grey",
           "width": 1
          },
          "type": "rect",
          "x0": 3.5,
          "x1": 4.5,
          "y0": 7.5,
          "y1": 8.5
         },
         {
          "line": {
           "color": "grey",
           "width": 1
          },
          "type": "rect",
          "x0": 4.5,
          "x1": 5.5,
          "y0": 7.5,
          "y1": 8.5
         },
         {
          "line": {
           "color": "grey",
           "width": 1
          },
          "type": "rect",
          "x0": 5.5,
          "x1": 6.5,
          "y0": 7.5,
          "y1": 8.5
         },
         {
          "line": {
           "color": "grey",
           "width": 1
          },
          "type": "rect",
          "x0": 6.5,
          "x1": 7.5,
          "y0": 7.5,
          "y1": 8.5
         },
         {
          "line": {
           "color": "grey",
           "width": 1
          },
          "type": "rect",
          "x0": 7.5,
          "x1": 8.5,
          "y0": 7.5,
          "y1": 8.5
         },
         {
          "line": {
           "color": "grey",
           "width": 1
          },
          "type": "rect",
          "x0": 8.5,
          "x1": 9.5,
          "y0": 7.5,
          "y1": 8.5
         },
         {
          "line": {
           "color": "grey",
           "width": 1
          },
          "type": "rect",
          "x0": 9.5,
          "x1": 10.5,
          "y0": 7.5,
          "y1": 8.5
         },
         {
          "line": {
           "color": "grey",
           "width": 1
          },
          "type": "rect",
          "x0": 10.5,
          "x1": 11.5,
          "y0": 7.5,
          "y1": 8.5
         },
         {
          "line": {
           "color": "grey",
           "width": 1
          },
          "type": "rect",
          "x0": 11.5,
          "x1": 12.5,
          "y0": 7.5,
          "y1": 8.5
         },
         {
          "line": {
           "color": "grey",
           "width": 1
          },
          "type": "rect",
          "x0": 12.5,
          "x1": 13.5,
          "y0": 7.5,
          "y1": 8.5
         },
         {
          "line": {
           "color": "grey",
           "width": 1
          },
          "type": "rect",
          "x0": 13.5,
          "x1": 14.5,
          "y0": 7.5,
          "y1": 8.5
         },
         {
          "line": {
           "color": "grey",
           "width": 1
          },
          "type": "rect",
          "x0": 14.5,
          "x1": 15.5,
          "y0": 7.5,
          "y1": 8.5
         },
         {
          "line": {
           "color": "grey",
           "width": 1
          },
          "type": "rect",
          "x0": 15.5,
          "x1": 16.5,
          "y0": 7.5,
          "y1": 8.5
         },
         {
          "line": {
           "color": "grey",
           "width": 1
          },
          "type": "rect",
          "x0": 16.5,
          "x1": 17.5,
          "y0": 7.5,
          "y1": 8.5
         },
         {
          "line": {
           "color": "grey",
           "width": 1
          },
          "type": "rect",
          "x0": 17.5,
          "x1": 18.5,
          "y0": 7.5,
          "y1": 8.5
         },
         {
          "line": {
           "color": "grey",
           "width": 1
          },
          "type": "rect",
          "x0": 18.5,
          "x1": 19.5,
          "y0": 7.5,
          "y1": 8.5
         },
         {
          "line": {
           "color": "grey",
           "width": 1
          },
          "type": "rect",
          "x0": 19.5,
          "x1": 20.5,
          "y0": 7.5,
          "y1": 8.5
         },
         {
          "line": {
           "color": "grey",
           "width": 1
          },
          "type": "rect",
          "x0": 20.5,
          "x1": 21.5,
          "y0": 7.5,
          "y1": 8.5
         },
         {
          "line": {
           "color": "grey",
           "width": 1
          },
          "type": "rect",
          "x0": 21.5,
          "x1": 22.5,
          "y0": 7.5,
          "y1": 8.5
         },
         {
          "line": {
           "color": "grey",
           "width": 1
          },
          "type": "rect",
          "x0": 22.5,
          "x1": 23.5,
          "y0": 7.5,
          "y1": 8.5
         },
         {
          "line": {
           "color": "grey",
           "width": 1
          },
          "type": "rect",
          "x0": 23.5,
          "x1": 24.5,
          "y0": 7.5,
          "y1": 8.5
         },
         {
          "line": {
           "color": "grey",
           "width": 1
          },
          "type": "rect",
          "x0": 24.5,
          "x1": 25.5,
          "y0": 7.5,
          "y1": 8.5
         },
         {
          "line": {
           "color": "grey",
           "width": 1
          },
          "type": "rect",
          "x0": 25.5,
          "x1": 26.5,
          "y0": 7.5,
          "y1": 8.5
         },
         {
          "line": {
           "color": "grey",
           "width": 1
          },
          "type": "rect",
          "x0": 26.5,
          "x1": 27.5,
          "y0": 7.5,
          "y1": 8.5
         },
         {
          "line": {
           "color": "grey",
           "width": 1
          },
          "type": "rect",
          "x0": 27.5,
          "x1": 28.5,
          "y0": 7.5,
          "y1": 8.5
         },
         {
          "line": {
           "color": "grey",
           "width": 1
          },
          "type": "rect",
          "x0": 28.5,
          "x1": 29.5,
          "y0": 7.5,
          "y1": 8.5
         },
         {
          "line": {
           "color": "grey",
           "width": 1
          },
          "type": "rect",
          "x0": 29.5,
          "x1": 30.5,
          "y0": 7.5,
          "y1": 8.5
         },
         {
          "line": {
           "color": "grey",
           "width": 1
          },
          "type": "rect",
          "x0": 30.5,
          "x1": 31.5,
          "y0": 7.5,
          "y1": 8.5
         },
         {
          "line": {
           "color": "grey",
           "width": 1
          },
          "type": "rect",
          "x0": 0.5,
          "x1": 1.5,
          "y0": 8.5,
          "y1": 9.5
         },
         {
          "line": {
           "color": "grey",
           "width": 1
          },
          "type": "rect",
          "x0": 1.5,
          "x1": 2.5,
          "y0": 8.5,
          "y1": 9.5
         },
         {
          "line": {
           "color": "grey",
           "width": 1
          },
          "type": "rect",
          "x0": 2.5,
          "x1": 3.5,
          "y0": 8.5,
          "y1": 9.5
         },
         {
          "line": {
           "color": "grey",
           "width": 1
          },
          "type": "rect",
          "x0": 3.5,
          "x1": 4.5,
          "y0": 8.5,
          "y1": 9.5
         },
         {
          "line": {
           "color": "grey",
           "width": 1
          },
          "type": "rect",
          "x0": 4.5,
          "x1": 5.5,
          "y0": 8.5,
          "y1": 9.5
         },
         {
          "line": {
           "color": "grey",
           "width": 1
          },
          "type": "rect",
          "x0": 5.5,
          "x1": 6.5,
          "y0": 8.5,
          "y1": 9.5
         },
         {
          "line": {
           "color": "grey",
           "width": 1
          },
          "type": "rect",
          "x0": 6.5,
          "x1": 7.5,
          "y0": 8.5,
          "y1": 9.5
         },
         {
          "line": {
           "color": "grey",
           "width": 1
          },
          "type": "rect",
          "x0": 7.5,
          "x1": 8.5,
          "y0": 8.5,
          "y1": 9.5
         },
         {
          "line": {
           "color": "grey",
           "width": 1
          },
          "type": "rect",
          "x0": 8.5,
          "x1": 9.5,
          "y0": 8.5,
          "y1": 9.5
         },
         {
          "line": {
           "color": "grey",
           "width": 1
          },
          "type": "rect",
          "x0": 9.5,
          "x1": 10.5,
          "y0": 8.5,
          "y1": 9.5
         },
         {
          "line": {
           "color": "grey",
           "width": 1
          },
          "type": "rect",
          "x0": 10.5,
          "x1": 11.5,
          "y0": 8.5,
          "y1": 9.5
         },
         {
          "line": {
           "color": "grey",
           "width": 1
          },
          "type": "rect",
          "x0": 11.5,
          "x1": 12.5,
          "y0": 8.5,
          "y1": 9.5
         },
         {
          "line": {
           "color": "grey",
           "width": 1
          },
          "type": "rect",
          "x0": 12.5,
          "x1": 13.5,
          "y0": 8.5,
          "y1": 9.5
         },
         {
          "line": {
           "color": "grey",
           "width": 1
          },
          "type": "rect",
          "x0": 13.5,
          "x1": 14.5,
          "y0": 8.5,
          "y1": 9.5
         },
         {
          "line": {
           "color": "grey",
           "width": 1
          },
          "type": "rect",
          "x0": 14.5,
          "x1": 15.5,
          "y0": 8.5,
          "y1": 9.5
         },
         {
          "line": {
           "color": "grey",
           "width": 1
          },
          "type": "rect",
          "x0": 15.5,
          "x1": 16.5,
          "y0": 8.5,
          "y1": 9.5
         },
         {
          "line": {
           "color": "grey",
           "width": 1
          },
          "type": "rect",
          "x0": 16.5,
          "x1": 17.5,
          "y0": 8.5,
          "y1": 9.5
         },
         {
          "line": {
           "color": "grey",
           "width": 1
          },
          "type": "rect",
          "x0": 17.5,
          "x1": 18.5,
          "y0": 8.5,
          "y1": 9.5
         },
         {
          "line": {
           "color": "grey",
           "width": 1
          },
          "type": "rect",
          "x0": 18.5,
          "x1": 19.5,
          "y0": 8.5,
          "y1": 9.5
         },
         {
          "line": {
           "color": "grey",
           "width": 1
          },
          "type": "rect",
          "x0": 19.5,
          "x1": 20.5,
          "y0": 8.5,
          "y1": 9.5
         },
         {
          "line": {
           "color": "grey",
           "width": 1
          },
          "type": "rect",
          "x0": 20.5,
          "x1": 21.5,
          "y0": 8.5,
          "y1": 9.5
         },
         {
          "line": {
           "color": "grey",
           "width": 1
          },
          "type": "rect",
          "x0": 21.5,
          "x1": 22.5,
          "y0": 8.5,
          "y1": 9.5
         },
         {
          "line": {
           "color": "grey",
           "width": 1
          },
          "type": "rect",
          "x0": 22.5,
          "x1": 23.5,
          "y0": 8.5,
          "y1": 9.5
         },
         {
          "line": {
           "color": "grey",
           "width": 1
          },
          "type": "rect",
          "x0": 23.5,
          "x1": 24.5,
          "y0": 8.5,
          "y1": 9.5
         },
         {
          "line": {
           "color": "grey",
           "width": 1
          },
          "type": "rect",
          "x0": 24.5,
          "x1": 25.5,
          "y0": 8.5,
          "y1": 9.5
         },
         {
          "line": {
           "color": "grey",
           "width": 1
          },
          "type": "rect",
          "x0": 25.5,
          "x1": 26.5,
          "y0": 8.5,
          "y1": 9.5
         },
         {
          "line": {
           "color": "grey",
           "width": 1
          },
          "type": "rect",
          "x0": 26.5,
          "x1": 27.5,
          "y0": 8.5,
          "y1": 9.5
         },
         {
          "line": {
           "color": "grey",
           "width": 1
          },
          "type": "rect",
          "x0": 27.5,
          "x1": 28.5,
          "y0": 8.5,
          "y1": 9.5
         },
         {
          "line": {
           "color": "grey",
           "width": 1
          },
          "type": "rect",
          "x0": 28.5,
          "x1": 29.5,
          "y0": 8.5,
          "y1": 9.5
         },
         {
          "line": {
           "color": "grey",
           "width": 1
          },
          "type": "rect",
          "x0": 29.5,
          "x1": 30.5,
          "y0": 8.5,
          "y1": 9.5
         },
         {
          "line": {
           "color": "grey",
           "width": 1
          },
          "type": "rect",
          "x0": 30.5,
          "x1": 31.5,
          "y0": 8.5,
          "y1": 9.5
         },
         {
          "line": {
           "color": "grey",
           "width": 1
          },
          "type": "rect",
          "x0": 0.5,
          "x1": 1.5,
          "y0": 9.5,
          "y1": 10.5
         },
         {
          "line": {
           "color": "grey",
           "width": 1
          },
          "type": "rect",
          "x0": 1.5,
          "x1": 2.5,
          "y0": 9.5,
          "y1": 10.5
         },
         {
          "line": {
           "color": "grey",
           "width": 1
          },
          "type": "rect",
          "x0": 2.5,
          "x1": 3.5,
          "y0": 9.5,
          "y1": 10.5
         },
         {
          "line": {
           "color": "grey",
           "width": 1
          },
          "type": "rect",
          "x0": 3.5,
          "x1": 4.5,
          "y0": 9.5,
          "y1": 10.5
         },
         {
          "line": {
           "color": "grey",
           "width": 1
          },
          "type": "rect",
          "x0": 4.5,
          "x1": 5.5,
          "y0": 9.5,
          "y1": 10.5
         },
         {
          "line": {
           "color": "grey",
           "width": 1
          },
          "type": "rect",
          "x0": 5.5,
          "x1": 6.5,
          "y0": 9.5,
          "y1": 10.5
         },
         {
          "line": {
           "color": "grey",
           "width": 1
          },
          "type": "rect",
          "x0": 6.5,
          "x1": 7.5,
          "y0": 9.5,
          "y1": 10.5
         },
         {
          "line": {
           "color": "grey",
           "width": 1
          },
          "type": "rect",
          "x0": 7.5,
          "x1": 8.5,
          "y0": 9.5,
          "y1": 10.5
         },
         {
          "line": {
           "color": "grey",
           "width": 1
          },
          "type": "rect",
          "x0": 8.5,
          "x1": 9.5,
          "y0": 9.5,
          "y1": 10.5
         },
         {
          "line": {
           "color": "grey",
           "width": 1
          },
          "type": "rect",
          "x0": 9.5,
          "x1": 10.5,
          "y0": 9.5,
          "y1": 10.5
         },
         {
          "line": {
           "color": "grey",
           "width": 1
          },
          "type": "rect",
          "x0": 10.5,
          "x1": 11.5,
          "y0": 9.5,
          "y1": 10.5
         },
         {
          "line": {
           "color": "grey",
           "width": 1
          },
          "type": "rect",
          "x0": 11.5,
          "x1": 12.5,
          "y0": 9.5,
          "y1": 10.5
         },
         {
          "line": {
           "color": "grey",
           "width": 1
          },
          "type": "rect",
          "x0": 12.5,
          "x1": 13.5,
          "y0": 9.5,
          "y1": 10.5
         },
         {
          "line": {
           "color": "grey",
           "width": 1
          },
          "type": "rect",
          "x0": 13.5,
          "x1": 14.5,
          "y0": 9.5,
          "y1": 10.5
         },
         {
          "line": {
           "color": "grey",
           "width": 1
          },
          "type": "rect",
          "x0": 14.5,
          "x1": 15.5,
          "y0": 9.5,
          "y1": 10.5
         },
         {
          "line": {
           "color": "grey",
           "width": 1
          },
          "type": "rect",
          "x0": 15.5,
          "x1": 16.5,
          "y0": 9.5,
          "y1": 10.5
         },
         {
          "line": {
           "color": "grey",
           "width": 1
          },
          "type": "rect",
          "x0": 16.5,
          "x1": 17.5,
          "y0": 9.5,
          "y1": 10.5
         },
         {
          "line": {
           "color": "grey",
           "width": 1
          },
          "type": "rect",
          "x0": 17.5,
          "x1": 18.5,
          "y0": 9.5,
          "y1": 10.5
         },
         {
          "line": {
           "color": "grey",
           "width": 1
          },
          "type": "rect",
          "x0": 18.5,
          "x1": 19.5,
          "y0": 9.5,
          "y1": 10.5
         },
         {
          "line": {
           "color": "grey",
           "width": 1
          },
          "type": "rect",
          "x0": 19.5,
          "x1": 20.5,
          "y0": 9.5,
          "y1": 10.5
         },
         {
          "line": {
           "color": "grey",
           "width": 1
          },
          "type": "rect",
          "x0": 20.5,
          "x1": 21.5,
          "y0": 9.5,
          "y1": 10.5
         },
         {
          "line": {
           "color": "grey",
           "width": 1
          },
          "type": "rect",
          "x0": 21.5,
          "x1": 22.5,
          "y0": 9.5,
          "y1": 10.5
         },
         {
          "line": {
           "color": "grey",
           "width": 1
          },
          "type": "rect",
          "x0": 22.5,
          "x1": 23.5,
          "y0": 9.5,
          "y1": 10.5
         },
         {
          "line": {
           "color": "grey",
           "width": 1
          },
          "type": "rect",
          "x0": 23.5,
          "x1": 24.5,
          "y0": 9.5,
          "y1": 10.5
         },
         {
          "line": {
           "color": "grey",
           "width": 1
          },
          "type": "rect",
          "x0": 24.5,
          "x1": 25.5,
          "y0": 9.5,
          "y1": 10.5
         },
         {
          "line": {
           "color": "grey",
           "width": 1
          },
          "type": "rect",
          "x0": 25.5,
          "x1": 26.5,
          "y0": 9.5,
          "y1": 10.5
         },
         {
          "line": {
           "color": "grey",
           "width": 1
          },
          "type": "rect",
          "x0": 26.5,
          "x1": 27.5,
          "y0": 9.5,
          "y1": 10.5
         },
         {
          "line": {
           "color": "grey",
           "width": 1
          },
          "type": "rect",
          "x0": 27.5,
          "x1": 28.5,
          "y0": 9.5,
          "y1": 10.5
         },
         {
          "line": {
           "color": "grey",
           "width": 1
          },
          "type": "rect",
          "x0": 28.5,
          "x1": 29.5,
          "y0": 9.5,
          "y1": 10.5
         },
         {
          "line": {
           "color": "grey",
           "width": 1
          },
          "type": "rect",
          "x0": 29.5,
          "x1": 30.5,
          "y0": 9.5,
          "y1": 10.5
         },
         {
          "line": {
           "color": "grey",
           "width": 1
          },
          "type": "rect",
          "x0": 30.5,
          "x1": 31.5,
          "y0": 9.5,
          "y1": 10.5
         },
         {
          "line": {
           "color": "grey",
           "width": 1
          },
          "type": "rect",
          "x0": 0.5,
          "x1": 1.5,
          "y0": 10.5,
          "y1": 11.5
         },
         {
          "line": {
           "color": "grey",
           "width": 1
          },
          "type": "rect",
          "x0": 1.5,
          "x1": 2.5,
          "y0": 10.5,
          "y1": 11.5
         },
         {
          "line": {
           "color": "grey",
           "width": 1
          },
          "type": "rect",
          "x0": 2.5,
          "x1": 3.5,
          "y0": 10.5,
          "y1": 11.5
         },
         {
          "line": {
           "color": "grey",
           "width": 1
          },
          "type": "rect",
          "x0": 3.5,
          "x1": 4.5,
          "y0": 10.5,
          "y1": 11.5
         },
         {
          "line": {
           "color": "grey",
           "width": 1
          },
          "type": "rect",
          "x0": 4.5,
          "x1": 5.5,
          "y0": 10.5,
          "y1": 11.5
         },
         {
          "line": {
           "color": "grey",
           "width": 1
          },
          "type": "rect",
          "x0": 5.5,
          "x1": 6.5,
          "y0": 10.5,
          "y1": 11.5
         },
         {
          "line": {
           "color": "grey",
           "width": 1
          },
          "type": "rect",
          "x0": 6.5,
          "x1": 7.5,
          "y0": 10.5,
          "y1": 11.5
         },
         {
          "line": {
           "color": "grey",
           "width": 1
          },
          "type": "rect",
          "x0": 7.5,
          "x1": 8.5,
          "y0": 10.5,
          "y1": 11.5
         },
         {
          "line": {
           "color": "grey",
           "width": 1
          },
          "type": "rect",
          "x0": 8.5,
          "x1": 9.5,
          "y0": 10.5,
          "y1": 11.5
         },
         {
          "line": {
           "color": "grey",
           "width": 1
          },
          "type": "rect",
          "x0": 9.5,
          "x1": 10.5,
          "y0": 10.5,
          "y1": 11.5
         },
         {
          "line": {
           "color": "grey",
           "width": 1
          },
          "type": "rect",
          "x0": 10.5,
          "x1": 11.5,
          "y0": 10.5,
          "y1": 11.5
         },
         {
          "line": {
           "color": "grey",
           "width": 1
          },
          "type": "rect",
          "x0": 11.5,
          "x1": 12.5,
          "y0": 10.5,
          "y1": 11.5
         },
         {
          "line": {
           "color": "grey",
           "width": 1
          },
          "type": "rect",
          "x0": 12.5,
          "x1": 13.5,
          "y0": 10.5,
          "y1": 11.5
         },
         {
          "line": {
           "color": "grey",
           "width": 1
          },
          "type": "rect",
          "x0": 13.5,
          "x1": 14.5,
          "y0": 10.5,
          "y1": 11.5
         },
         {
          "line": {
           "color": "grey",
           "width": 1
          },
          "type": "rect",
          "x0": 14.5,
          "x1": 15.5,
          "y0": 10.5,
          "y1": 11.5
         },
         {
          "line": {
           "color": "grey",
           "width": 1
          },
          "type": "rect",
          "x0": 15.5,
          "x1": 16.5,
          "y0": 10.5,
          "y1": 11.5
         },
         {
          "line": {
           "color": "grey",
           "width": 1
          },
          "type": "rect",
          "x0": 16.5,
          "x1": 17.5,
          "y0": 10.5,
          "y1": 11.5
         },
         {
          "line": {
           "color": "grey",
           "width": 1
          },
          "type": "rect",
          "x0": 17.5,
          "x1": 18.5,
          "y0": 10.5,
          "y1": 11.5
         },
         {
          "line": {
           "color": "grey",
           "width": 1
          },
          "type": "rect",
          "x0": 18.5,
          "x1": 19.5,
          "y0": 10.5,
          "y1": 11.5
         },
         {
          "line": {
           "color": "grey",
           "width": 1
          },
          "type": "rect",
          "x0": 19.5,
          "x1": 20.5,
          "y0": 10.5,
          "y1": 11.5
         },
         {
          "line": {
           "color": "grey",
           "width": 1
          },
          "type": "rect",
          "x0": 20.5,
          "x1": 21.5,
          "y0": 10.5,
          "y1": 11.5
         },
         {
          "line": {
           "color": "grey",
           "width": 1
          },
          "type": "rect",
          "x0": 21.5,
          "x1": 22.5,
          "y0": 10.5,
          "y1": 11.5
         },
         {
          "line": {
           "color": "grey",
           "width": 1
          },
          "type": "rect",
          "x0": 22.5,
          "x1": 23.5,
          "y0": 10.5,
          "y1": 11.5
         },
         {
          "line": {
           "color": "grey",
           "width": 1
          },
          "type": "rect",
          "x0": 23.5,
          "x1": 24.5,
          "y0": 10.5,
          "y1": 11.5
         },
         {
          "line": {
           "color": "grey",
           "width": 1
          },
          "type": "rect",
          "x0": 24.5,
          "x1": 25.5,
          "y0": 10.5,
          "y1": 11.5
         },
         {
          "line": {
           "color": "grey",
           "width": 1
          },
          "type": "rect",
          "x0": 25.5,
          "x1": 26.5,
          "y0": 10.5,
          "y1": 11.5
         },
         {
          "line": {
           "color": "grey",
           "width": 1
          },
          "type": "rect",
          "x0": 26.5,
          "x1": 27.5,
          "y0": 10.5,
          "y1": 11.5
         },
         {
          "line": {
           "color": "grey",
           "width": 1
          },
          "type": "rect",
          "x0": 27.5,
          "x1": 28.5,
          "y0": 10.5,
          "y1": 11.5
         },
         {
          "line": {
           "color": "grey",
           "width": 1
          },
          "type": "rect",
          "x0": 28.5,
          "x1": 29.5,
          "y0": 10.5,
          "y1": 11.5
         },
         {
          "line": {
           "color": "grey",
           "width": 1
          },
          "type": "rect",
          "x0": 29.5,
          "x1": 30.5,
          "y0": 10.5,
          "y1": 11.5
         },
         {
          "line": {
           "color": "grey",
           "width": 1
          },
          "type": "rect",
          "x0": 30.5,
          "x1": 31.5,
          "y0": 10.5,
          "y1": 11.5
         },
         {
          "line": {
           "color": "grey",
           "width": 1
          },
          "type": "rect",
          "x0": 0.5,
          "x1": 1.5,
          "y0": 11.5,
          "y1": 12.5
         },
         {
          "line": {
           "color": "grey",
           "width": 1
          },
          "type": "rect",
          "x0": 1.5,
          "x1": 2.5,
          "y0": 11.5,
          "y1": 12.5
         },
         {
          "line": {
           "color": "grey",
           "width": 1
          },
          "type": "rect",
          "x0": 2.5,
          "x1": 3.5,
          "y0": 11.5,
          "y1": 12.5
         },
         {
          "line": {
           "color": "grey",
           "width": 1
          },
          "type": "rect",
          "x0": 3.5,
          "x1": 4.5,
          "y0": 11.5,
          "y1": 12.5
         },
         {
          "line": {
           "color": "grey",
           "width": 1
          },
          "type": "rect",
          "x0": 4.5,
          "x1": 5.5,
          "y0": 11.5,
          "y1": 12.5
         },
         {
          "line": {
           "color": "grey",
           "width": 1
          },
          "type": "rect",
          "x0": 5.5,
          "x1": 6.5,
          "y0": 11.5,
          "y1": 12.5
         },
         {
          "line": {
           "color": "grey",
           "width": 1
          },
          "type": "rect",
          "x0": 6.5,
          "x1": 7.5,
          "y0": 11.5,
          "y1": 12.5
         },
         {
          "line": {
           "color": "grey",
           "width": 1
          },
          "type": "rect",
          "x0": 7.5,
          "x1": 8.5,
          "y0": 11.5,
          "y1": 12.5
         },
         {
          "line": {
           "color": "grey",
           "width": 1
          },
          "type": "rect",
          "x0": 8.5,
          "x1": 9.5,
          "y0": 11.5,
          "y1": 12.5
         },
         {
          "line": {
           "color": "grey",
           "width": 1
          },
          "type": "rect",
          "x0": 9.5,
          "x1": 10.5,
          "y0": 11.5,
          "y1": 12.5
         },
         {
          "line": {
           "color": "grey",
           "width": 1
          },
          "type": "rect",
          "x0": 10.5,
          "x1": 11.5,
          "y0": 11.5,
          "y1": 12.5
         },
         {
          "line": {
           "color": "grey",
           "width": 1
          },
          "type": "rect",
          "x0": 11.5,
          "x1": 12.5,
          "y0": 11.5,
          "y1": 12.5
         },
         {
          "line": {
           "color": "grey",
           "width": 1
          },
          "type": "rect",
          "x0": 12.5,
          "x1": 13.5,
          "y0": 11.5,
          "y1": 12.5
         },
         {
          "line": {
           "color": "grey",
           "width": 1
          },
          "type": "rect",
          "x0": 13.5,
          "x1": 14.5,
          "y0": 11.5,
          "y1": 12.5
         },
         {
          "line": {
           "color": "grey",
           "width": 1
          },
          "type": "rect",
          "x0": 14.5,
          "x1": 15.5,
          "y0": 11.5,
          "y1": 12.5
         },
         {
          "line": {
           "color": "grey",
           "width": 1
          },
          "type": "rect",
          "x0": 15.5,
          "x1": 16.5,
          "y0": 11.5,
          "y1": 12.5
         },
         {
          "line": {
           "color": "grey",
           "width": 1
          },
          "type": "rect",
          "x0": 16.5,
          "x1": 17.5,
          "y0": 11.5,
          "y1": 12.5
         },
         {
          "line": {
           "color": "grey",
           "width": 1
          },
          "type": "rect",
          "x0": 17.5,
          "x1": 18.5,
          "y0": 11.5,
          "y1": 12.5
         },
         {
          "line": {
           "color": "grey",
           "width": 1
          },
          "type": "rect",
          "x0": 18.5,
          "x1": 19.5,
          "y0": 11.5,
          "y1": 12.5
         },
         {
          "line": {
           "color": "grey",
           "width": 1
          },
          "type": "rect",
          "x0": 19.5,
          "x1": 20.5,
          "y0": 11.5,
          "y1": 12.5
         },
         {
          "line": {
           "color": "grey",
           "width": 1
          },
          "type": "rect",
          "x0": 20.5,
          "x1": 21.5,
          "y0": 11.5,
          "y1": 12.5
         },
         {
          "line": {
           "color": "grey",
           "width": 1
          },
          "type": "rect",
          "x0": 21.5,
          "x1": 22.5,
          "y0": 11.5,
          "y1": 12.5
         },
         {
          "line": {
           "color": "grey",
           "width": 1
          },
          "type": "rect",
          "x0": 22.5,
          "x1": 23.5,
          "y0": 11.5,
          "y1": 12.5
         },
         {
          "line": {
           "color": "grey",
           "width": 1
          },
          "type": "rect",
          "x0": 23.5,
          "x1": 24.5,
          "y0": 11.5,
          "y1": 12.5
         },
         {
          "line": {
           "color": "grey",
           "width": 1
          },
          "type": "rect",
          "x0": 24.5,
          "x1": 25.5,
          "y0": 11.5,
          "y1": 12.5
         },
         {
          "line": {
           "color": "grey",
           "width": 1
          },
          "type": "rect",
          "x0": 25.5,
          "x1": 26.5,
          "y0": 11.5,
          "y1": 12.5
         },
         {
          "line": {
           "color": "grey",
           "width": 1
          },
          "type": "rect",
          "x0": 26.5,
          "x1": 27.5,
          "y0": 11.5,
          "y1": 12.5
         },
         {
          "line": {
           "color": "grey",
           "width": 1
          },
          "type": "rect",
          "x0": 27.5,
          "x1": 28.5,
          "y0": 11.5,
          "y1": 12.5
         },
         {
          "line": {
           "color": "grey",
           "width": 1
          },
          "type": "rect",
          "x0": 28.5,
          "x1": 29.5,
          "y0": 11.5,
          "y1": 12.5
         },
         {
          "line": {
           "color": "grey",
           "width": 1
          },
          "type": "rect",
          "x0": 29.5,
          "x1": 30.5,
          "y0": 11.5,
          "y1": 12.5
         },
         {
          "line": {
           "color": "grey",
           "width": 1
          },
          "type": "rect",
          "x0": 30.5,
          "x1": 31.5,
          "y0": 11.5,
          "y1": 12.5
         }
        ],
        "template": {
         "data": {
          "bar": [
           {
            "error_x": {
             "color": "#f2f5fa"
            },
            "error_y": {
             "color": "#f2f5fa"
            },
            "marker": {
             "line": {
              "color": "rgb(17,17,17)",
              "width": 0.5
             },
             "pattern": {
              "fillmode": "overlay",
              "size": 10,
              "solidity": 0.2
             }
            },
            "type": "bar"
           }
          ],
          "barpolar": [
           {
            "marker": {
             "line": {
              "color": "rgb(17,17,17)",
              "width": 0.5
             },
             "pattern": {
              "fillmode": "overlay",
              "size": 10,
              "solidity": 0.2
             }
            },
            "type": "barpolar"
           }
          ],
          "carpet": [
           {
            "aaxis": {
             "endlinecolor": "#A2B1C6",
             "gridcolor": "#506784",
             "linecolor": "#506784",
             "minorgridcolor": "#506784",
             "startlinecolor": "#A2B1C6"
            },
            "baxis": {
             "endlinecolor": "#A2B1C6",
             "gridcolor": "#506784",
             "linecolor": "#506784",
             "minorgridcolor": "#506784",
             "startlinecolor": "#A2B1C6"
            },
            "type": "carpet"
           }
          ],
          "choropleth": [
           {
            "colorbar": {
             "outlinewidth": 0,
             "ticks": ""
            },
            "type": "choropleth"
           }
          ],
          "contour": [
           {
            "colorbar": {
             "outlinewidth": 0,
             "ticks": ""
            },
            "colorscale": [
             [
              0,
              "#0d0887"
             ],
             [
              0.1111111111111111,
              "#46039f"
             ],
             [
              0.2222222222222222,
              "#7201a8"
             ],
             [
              0.3333333333333333,
              "#9c179e"
             ],
             [
              0.4444444444444444,
              "#bd3786"
             ],
             [
              0.5555555555555556,
              "#d8576b"
             ],
             [
              0.6666666666666666,
              "#ed7953"
             ],
             [
              0.7777777777777778,
              "#fb9f3a"
             ],
             [
              0.8888888888888888,
              "#fdca26"
             ],
             [
              1,
              "#f0f921"
             ]
            ],
            "type": "contour"
           }
          ],
          "contourcarpet": [
           {
            "colorbar": {
             "outlinewidth": 0,
             "ticks": ""
            },
            "type": "contourcarpet"
           }
          ],
          "heatmap": [
           {
            "colorbar": {
             "outlinewidth": 0,
             "ticks": ""
            },
            "colorscale": [
             [
              0,
              "#0d0887"
             ],
             [
              0.1111111111111111,
              "#46039f"
             ],
             [
              0.2222222222222222,
              "#7201a8"
             ],
             [
              0.3333333333333333,
              "#9c179e"
             ],
             [
              0.4444444444444444,
              "#bd3786"
             ],
             [
              0.5555555555555556,
              "#d8576b"
             ],
             [
              0.6666666666666666,
              "#ed7953"
             ],
             [
              0.7777777777777778,
              "#fb9f3a"
             ],
             [
              0.8888888888888888,
              "#fdca26"
             ],
             [
              1,
              "#f0f921"
             ]
            ],
            "type": "heatmap"
           }
          ],
          "heatmapgl": [
           {
            "colorbar": {
             "outlinewidth": 0,
             "ticks": ""
            },
            "colorscale": [
             [
              0,
              "#0d0887"
             ],
             [
              0.1111111111111111,
              "#46039f"
             ],
             [
              0.2222222222222222,
              "#7201a8"
             ],
             [
              0.3333333333333333,
              "#9c179e"
             ],
             [
              0.4444444444444444,
              "#bd3786"
             ],
             [
              0.5555555555555556,
              "#d8576b"
             ],
             [
              0.6666666666666666,
              "#ed7953"
             ],
             [
              0.7777777777777778,
              "#fb9f3a"
             ],
             [
              0.8888888888888888,
              "#fdca26"
             ],
             [
              1,
              "#f0f921"
             ]
            ],
            "type": "heatmapgl"
           }
          ],
          "histogram": [
           {
            "marker": {
             "pattern": {
              "fillmode": "overlay",
              "size": 10,
              "solidity": 0.2
             }
            },
            "type": "histogram"
           }
          ],
          "histogram2d": [
           {
            "colorbar": {
             "outlinewidth": 0,
             "ticks": ""
            },
            "colorscale": [
             [
              0,
              "#0d0887"
             ],
             [
              0.1111111111111111,
              "#46039f"
             ],
             [
              0.2222222222222222,
              "#7201a8"
             ],
             [
              0.3333333333333333,
              "#9c179e"
             ],
             [
              0.4444444444444444,
              "#bd3786"
             ],
             [
              0.5555555555555556,
              "#d8576b"
             ],
             [
              0.6666666666666666,
              "#ed7953"
             ],
             [
              0.7777777777777778,
              "#fb9f3a"
             ],
             [
              0.8888888888888888,
              "#fdca26"
             ],
             [
              1,
              "#f0f921"
             ]
            ],
            "type": "histogram2d"
           }
          ],
          "histogram2dcontour": [
           {
            "colorbar": {
             "outlinewidth": 0,
             "ticks": ""
            },
            "colorscale": [
             [
              0,
              "#0d0887"
             ],
             [
              0.1111111111111111,
              "#46039f"
             ],
             [
              0.2222222222222222,
              "#7201a8"
             ],
             [
              0.3333333333333333,
              "#9c179e"
             ],
             [
              0.4444444444444444,
              "#bd3786"
             ],
             [
              0.5555555555555556,
              "#d8576b"
             ],
             [
              0.6666666666666666,
              "#ed7953"
             ],
             [
              0.7777777777777778,
              "#fb9f3a"
             ],
             [
              0.8888888888888888,
              "#fdca26"
             ],
             [
              1,
              "#f0f921"
             ]
            ],
            "type": "histogram2dcontour"
           }
          ],
          "mesh3d": [
           {
            "colorbar": {
             "outlinewidth": 0,
             "ticks": ""
            },
            "type": "mesh3d"
           }
          ],
          "parcoords": [
           {
            "line": {
             "colorbar": {
              "outlinewidth": 0,
              "ticks": ""
             }
            },
            "type": "parcoords"
           }
          ],
          "pie": [
           {
            "automargin": true,
            "type": "pie"
           }
          ],
          "scatter": [
           {
            "marker": {
             "line": {
              "color": "#283442"
             }
            },
            "type": "scatter"
           }
          ],
          "scatter3d": [
           {
            "line": {
             "colorbar": {
              "outlinewidth": 0,
              "ticks": ""
             }
            },
            "marker": {
             "colorbar": {
              "outlinewidth": 0,
              "ticks": ""
             }
            },
            "type": "scatter3d"
           }
          ],
          "scattercarpet": [
           {
            "marker": {
             "colorbar": {
              "outlinewidth": 0,
              "ticks": ""
             }
            },
            "type": "scattercarpet"
           }
          ],
          "scattergeo": [
           {
            "marker": {
             "colorbar": {
              "outlinewidth": 0,
              "ticks": ""
             }
            },
            "type": "scattergeo"
           }
          ],
          "scattergl": [
           {
            "marker": {
             "line": {
              "color": "#283442"
             }
            },
            "type": "scattergl"
           }
          ],
          "scattermapbox": [
           {
            "marker": {
             "colorbar": {
              "outlinewidth": 0,
              "ticks": ""
             }
            },
            "type": "scattermapbox"
           }
          ],
          "scatterpolar": [
           {
            "marker": {
             "colorbar": {
              "outlinewidth": 0,
              "ticks": ""
             }
            },
            "type": "scatterpolar"
           }
          ],
          "scatterpolargl": [
           {
            "marker": {
             "colorbar": {
              "outlinewidth": 0,
              "ticks": ""
             }
            },
            "type": "scatterpolargl"
           }
          ],
          "scatterternary": [
           {
            "marker": {
             "colorbar": {
              "outlinewidth": 0,
              "ticks": ""
             }
            },
            "type": "scatterternary"
           }
          ],
          "surface": [
           {
            "colorbar": {
             "outlinewidth": 0,
             "ticks": ""
            },
            "colorscale": [
             [
              0,
              "#0d0887"
             ],
             [
              0.1111111111111111,
              "#46039f"
             ],
             [
              0.2222222222222222,
              "#7201a8"
             ],
             [
              0.3333333333333333,
              "#9c179e"
             ],
             [
              0.4444444444444444,
              "#bd3786"
             ],
             [
              0.5555555555555556,
              "#d8576b"
             ],
             [
              0.6666666666666666,
              "#ed7953"
             ],
             [
              0.7777777777777778,
              "#fb9f3a"
             ],
             [
              0.8888888888888888,
              "#fdca26"
             ],
             [
              1,
              "#f0f921"
             ]
            ],
            "type": "surface"
           }
          ],
          "table": [
           {
            "cells": {
             "fill": {
              "color": "#506784"
             },
             "line": {
              "color": "rgb(17,17,17)"
             }
            },
            "header": {
             "fill": {
              "color": "#2a3f5f"
             },
             "line": {
              "color": "rgb(17,17,17)"
             }
            },
            "type": "table"
           }
          ]
         },
         "layout": {
          "annotationdefaults": {
           "arrowcolor": "#f2f5fa",
           "arrowhead": 0,
           "arrowwidth": 1
          },
          "autotypenumbers": "strict",
          "coloraxis": {
           "colorbar": {
            "outlinewidth": 0,
            "ticks": ""
           }
          },
          "colorscale": {
           "diverging": [
            [
             0,
             "#8e0152"
            ],
            [
             0.1,
             "#c51b7d"
            ],
            [
             0.2,
             "#de77ae"
            ],
            [
             0.3,
             "#f1b6da"
            ],
            [
             0.4,
             "#fde0ef"
            ],
            [
             0.5,
             "#f7f7f7"
            ],
            [
             0.6,
             "#e6f5d0"
            ],
            [
             0.7,
             "#b8e186"
            ],
            [
             0.8,
             "#7fbc41"
            ],
            [
             0.9,
             "#4d9221"
            ],
            [
             1,
             "#276419"
            ]
           ],
           "sequential": [
            [
             0,
             "#0d0887"
            ],
            [
             0.1111111111111111,
             "#46039f"
            ],
            [
             0.2222222222222222,
             "#7201a8"
            ],
            [
             0.3333333333333333,
             "#9c179e"
            ],
            [
             0.4444444444444444,
             "#bd3786"
            ],
            [
             0.5555555555555556,
             "#d8576b"
            ],
            [
             0.6666666666666666,
             "#ed7953"
            ],
            [
             0.7777777777777778,
             "#fb9f3a"
            ],
            [
             0.8888888888888888,
             "#fdca26"
            ],
            [
             1,
             "#f0f921"
            ]
           ],
           "sequentialminus": [
            [
             0,
             "#0d0887"
            ],
            [
             0.1111111111111111,
             "#46039f"
            ],
            [
             0.2222222222222222,
             "#7201a8"
            ],
            [
             0.3333333333333333,
             "#9c179e"
            ],
            [
             0.4444444444444444,
             "#bd3786"
            ],
            [
             0.5555555555555556,
             "#d8576b"
            ],
            [
             0.6666666666666666,
             "#ed7953"
            ],
            [
             0.7777777777777778,
             "#fb9f3a"
            ],
            [
             0.8888888888888888,
             "#fdca26"
            ],
            [
             1,
             "#f0f921"
            ]
           ]
          },
          "colorway": [
           "#636efa",
           "#EF553B",
           "#00cc96",
           "#ab63fa",
           "#FFA15A",
           "#19d3f3",
           "#FF6692",
           "#B6E880",
           "#FF97FF",
           "#FECB52"
          ],
          "font": {
           "color": "#f2f5fa"
          },
          "geo": {
           "bgcolor": "rgb(17,17,17)",
           "lakecolor": "rgb(17,17,17)",
           "landcolor": "rgb(17,17,17)",
           "showlakes": true,
           "showland": true,
           "subunitcolor": "#506784"
          },
          "hoverlabel": {
           "align": "left"
          },
          "hovermode": "closest",
          "mapbox": {
           "style": "dark"
          },
          "paper_bgcolor": "rgb(17,17,17)",
          "plot_bgcolor": "rgb(17,17,17)",
          "polar": {
           "angularaxis": {
            "gridcolor": "#506784",
            "linecolor": "#506784",
            "ticks": ""
           },
           "bgcolor": "rgb(17,17,17)",
           "radialaxis": {
            "gridcolor": "#506784",
            "linecolor": "#506784",
            "ticks": ""
           }
          },
          "scene": {
           "xaxis": {
            "backgroundcolor": "rgb(17,17,17)",
            "gridcolor": "#506784",
            "gridwidth": 2,
            "linecolor": "#506784",
            "showbackground": true,
            "ticks": "",
            "zerolinecolor": "#C8D4E3"
           },
           "yaxis": {
            "backgroundcolor": "rgb(17,17,17)",
            "gridcolor": "#506784",
            "gridwidth": 2,
            "linecolor": "#506784",
            "showbackground": true,
            "ticks": "",
            "zerolinecolor": "#C8D4E3"
           },
           "zaxis": {
            "backgroundcolor": "rgb(17,17,17)",
            "gridcolor": "#506784",
            "gridwidth": 2,
            "linecolor": "#506784",
            "showbackground": true,
            "ticks": "",
            "zerolinecolor": "#C8D4E3"
           }
          },
          "shapedefaults": {
           "line": {
            "color": "#f2f5fa"
           }
          },
          "sliderdefaults": {
           "bgcolor": "#C8D4E3",
           "bordercolor": "rgb(17,17,17)",
           "borderwidth": 1,
           "tickwidth": 0
          },
          "ternary": {
           "aaxis": {
            "gridcolor": "#506784",
            "linecolor": "#506784",
            "ticks": ""
           },
           "baxis": {
            "gridcolor": "#506784",
            "linecolor": "#506784",
            "ticks": ""
           },
           "bgcolor": "rgb(17,17,17)",
           "caxis": {
            "gridcolor": "#506784",
            "linecolor": "#506784",
            "ticks": ""
           }
          },
          "title": {
           "x": 0.05
          },
          "updatemenudefaults": {
           "bgcolor": "#506784",
           "borderwidth": 0
          },
          "xaxis": {
           "automargin": true,
           "gridcolor": "#283442",
           "linecolor": "#506784",
           "ticks": "",
           "title": {
            "standoff": 15
           },
           "zerolinecolor": "#283442",
           "zerolinewidth": 2
          },
          "yaxis": {
           "automargin": true,
           "gridcolor": "#283442",
           "linecolor": "#506784",
           "ticks": "",
           "title": {
            "standoff": 15
           },
           "zerolinecolor": "#283442",
           "zerolinewidth": 2
          }
         }
        },
        "title": {
         "text": "Total Invoice Amount per Month per Year (2018)"
        },
        "width": 1000,
        "xaxis": {
         "autorange": true,
         "range": [
          0.48105134474327627,
          31.518948655256725
         ],
         "tickmode": "array",
         "tickvals": [
          1,
          2,
          3,
          4,
          5,
          6,
          7,
          8,
          9,
          10,
          11,
          12,
          13,
          14,
          15,
          16,
          17,
          18,
          19,
          20,
          21,
          22,
          23,
          24,
          25,
          26,
          27,
          28,
          29,
          30,
          31
         ],
         "title": {
          "text": "Day"
         },
         "type": "linear"
        },
        "yaxis": {
         "autorange": true,
         "range": [
          0.48119122257053293,
          12.518808777429467
         ],
         "tickmode": "array",
         "ticktext": [
          "Jan",
          "Feb",
          "Mar",
          "Apr",
          "May",
          "Jun",
          "Jul",
          "Aug",
          "Sep",
          "Oct",
          "Nov",
          "Dec"
         ],
         "tickvals": [
          1,
          2,
          3,
          4,
          5,
          6,
          7,
          8,
          9,
          10,
          11,
          12
         ],
         "title": {
          "text": "Month"
         },
         "type": "linear"
        }
       }
      },
      "image/png": "[encoded data removed]",
      "text/html": [
       "<div>                            <div id=\"db7903bd-e0b3-4715-bc87-5fa001d4252d\" class=\"plotly-graph-div\" style=\"height:500px; width:1000px;\"></div>            <script type=\"text/javascript\">                require([\"plotly\"], function(Plotly) {                    window.PLOTLYENV=window.PLOTLYENV || {};                                    if (document.getElementById(\"db7903bd-e0b3-4715-bc87-5fa001d4252d\")) {                    Plotly.newPlot(                        \"db7903bd-e0b3-4715-bc87-5fa001d4252d\",                        [{\"colorbar\":{\"title\":{\"text\":\"Value\"}},\"colorscale\":[[0.0,\"rgb(92, 83, 165)\"],[0.16666666666666666,\"rgb(160, 89, 160)\"],[0.3333333333333333,\"rgb(206, 102, 147)\"],[0.5,\"rgb(235, 127, 134)\"],[0.6666666666666666,\"rgb(248, 160, 126)\"],[0.8333333333333334,\"rgb(250, 196, 132)\"],[1.0,\"rgb(243, 231, 155)\"]],\"customdata\":[[0.0,0.0,535.0,0.0,4027.72,0.0,0.0,340.58,267.5,2140.0,2506.29,44.41,0.0,0.0,0.0,1070.0,0.0,0.0,24.08,0.0,0.0,211.0,1269.38,0.0,4165.620000000001,1020.83,846.99,0.0,0.0,0.0,0.0],[1061.23,144.45,0.0,0.0,886.7,0.0,1045.8200000000002,0.0,445.23,0.0,0.0,4774.02,2307.0899999999997,0.0,0.0,0.0,0.0,0.0,294.68,52.85,89.44,237.86,0.0,0.0,0.0,94.91,2857.7,0.0,0.0,0.0,0.0],[91.99,162.64,0.0,0.0,0.0,0.0,0.0,57.03,620.6,0.0,0.0,0.0,273.12,3584.5,861.17,0.0,0.0,0.0,0.0,0.0,2052.26,600.9200000000001,13375.0,0.0,0.0,0.0,2693.18,0.0,162.64,0.0,0.0],[0.0,0.0,555.3299999999999,0.0,50.0,2044.2399999999998,0.0,0.0,111.28,142.31,0.0,174.41,0.0,0.0,0.0,0.0,0.0,0.0,200.52,0.0,0.0,0.0,123.5,643.1,57.65,485.57,0.0,0.0,0.0,0.0,0.0],[0.0,759.7,0.0,0.0,0.0,0.0,241.82,91.16,151.94,1728.33,482.57,0.0,0.0,0.0,0.0,0.0,225.47,281.41,0.0,0.0,129.19,355.78,0.0,667.68,0.0,0.0,0.0,2123.95,0.0,392.51,137.32],[250.38,0.0,0.0,357.24,99.51,193.67,1030.88,1004.41,0.0,0.0,4054.87,0.0,141.24,50.7,0.0,0.0,0.0,1062.89,486.6,870.98,209.6,0.0,0.0,0.0,3741.5299999999997,2140.0,0.0,0.0,502.9,0.0,0.0],[0.0,261.08,1530.1,0.0,162.64,0.0,0.0,0.0,0.0,647.78,0.0,0.0,0.0,0.0,0.0,0.0,355.78,75.7,593.85,0.0,0.0,0.0,11.6,0.0,162.64,0.0,3469.48,0.0,0.0,667.68,0.0],[0.0,0.0,537.14,0.0,0.0,261.35,0.0,434.41999999999996,0.0,0.0,0.0,0.0,0.0,162.64,189.6,0.0,0.0,0.0,0.0,0.0,0.0,0.0,162.64,0.0,0.0,0.0,0.0,444.0,0.0,0.0,157.23],[0.0,0.0,1231.59,89.31,0.0,0.0,0.0,0.0,0.0,2243.14,-343.2,1306.26,0.0,0.0,0.0,0.0,151.65,0.0,0.0,0.0,462.24,0.0,0.0,0.0,0.0,0.0,0.0,0.0,0.0,0.0,0.0],[162.64,0.0,0.0,0.0,0.0,0.0,0.0,0.0,0.0,601.5,0.0,0.0,0.0,0.0,162.64,1402.98,0.0,0.0,0.0,0.0,0.0,355.78,90.25,0.0,0.0,0.0,0.0,0.0,0.0,95.77,0.0],[149.8,325.28,0.0,0.0,0.0,0.0,0.0,126.26,0.0,0.0,0.0,481.99,0.0,0.0,763.9799999999999,0.0,0.0,0.0,0.0,367.4,0.0,0.0,1018.64,0.0,0.0,0.0,0.0,168.22,0.0,1209.1,0.0],[0.0,0.0,151.94,0.0,861.2,166.92,28.8,0.0,0.0,282.48,417.3,0.0,449.4,30.05,5296.5,0.0,2109.33,288.9,0.0,0.0,162.64,0.0,0.0,329.56,0.0,545.34,1021.85,0.0,0.0,0.0,0.0]],\"hovertemplate\":\"Month: %{y}\\u003cbr\\u003eDay: %{x}\\u003cbr\\u003eTotal Expense: S$ %{customdata:.2f}\\u003cextra\\u003e\\u003c\\u002fextra\\u003e\",\"x\":[1,2,3,4,5,6,7,8,9,10,11,12,13,14,15,16,17,18,19,20,21,22,23,24,25,26,27,28,29,30,31],\"y\":[1,2,3,4,5,6,7,8,9,10,11,12],\"z\":[[0.0,0.0,535.0,0.0,4027.72,0.0,0.0,340.58,267.5,2140.0,2506.29,44.41,0.0,0.0,0.0,1070.0,0.0,0.0,24.08,0.0,0.0,211.0,1269.38,0.0,4165.620000000001,1020.83,846.99,0.0,0.0,0.0,0.0],[1061.23,144.45,0.0,0.0,886.7,0.0,1045.8200000000002,0.0,445.23,0.0,0.0,4774.02,2307.0899999999997,0.0,0.0,0.0,0.0,0.0,294.68,52.85,89.44,237.86,0.0,0.0,0.0,94.91,2857.7,0.0,0.0,0.0,0.0],[91.99,162.64,0.0,0.0,0.0,0.0,0.0,57.03,620.6,0.0,0.0,0.0,273.12,3584.5,861.17,0.0,0.0,0.0,0.0,0.0,2052.26,600.9200000000001,13375.0,0.0,0.0,0.0,2693.18,0.0,162.64,0.0,0.0],[0.0,0.0,555.3299999999999,0.0,50.0,2044.2399999999998,0.0,0.0,111.28,142.31,0.0,174.41,0.0,0.0,0.0,0.0,0.0,0.0,200.52,0.0,0.0,0.0,123.5,643.1,57.65,485.57,0.0,0.0,0.0,0.0,0.0],[0.0,759.7,0.0,0.0,0.0,0.0,241.82,91.16,151.94,1728.33,482.57,0.0,0.0,0.0,0.0,0.0,225.47,281.41,0.0,0.0,129.19,355.78,0.0,667.68,0.0,0.0,0.0,2123.95,0.0,392.51,137.32],[250.38,0.0,0.0,357.24,99.51,193.67,1030.88,1004.41,0.0,0.0,4054.87,0.0,141.24,50.7,0.0,0.0,0.0,1062.89,486.6,870.98,209.6,0.0,0.0,0.0,3741.5299999999997,2140.0,0.0,0.0,502.9,0.0,0.0],[0.0,261.08,1530.1,0.0,162.64,0.0,0.0,0.0,0.0,647.78,0.0,0.0,0.0,0.0,0.0,0.0,355.78,75.7,593.85,0.0,0.0,0.0,11.6,0.0,162.64,0.0,3469.48,0.0,0.0,667.68,0.0],[0.0,0.0,537.14,0.0,0.0,261.35,0.0,434.41999999999996,0.0,0.0,0.0,0.0,0.0,162.64,189.6,0.0,0.0,0.0,0.0,0.0,0.0,0.0,162.64,0.0,0.0,0.0,0.0,444.0,0.0,0.0,157.23],[0.0,0.0,1231.59,89.31,0.0,0.0,0.0,0.0,0.0,2243.14,-343.2,1306.26,0.0,0.0,0.0,0.0,151.65,0.0,0.0,0.0,462.24,0.0,0.0,0.0,0.0,0.0,0.0,0.0,0.0,0.0,0.0],[162.64,0.0,0.0,0.0,0.0,0.0,0.0,0.0,0.0,601.5,0.0,0.0,0.0,0.0,162.64,1402.98,0.0,0.0,0.0,0.0,0.0,355.78,90.25,0.0,0.0,0.0,0.0,0.0,0.0,95.77,0.0],[149.8,325.28,0.0,0.0,0.0,0.0,0.0,126.26,0.0,0.0,0.0,481.99,0.0,0.0,763.9799999999999,0.0,0.0,0.0,0.0,367.4,0.0,0.0,1018.64,0.0,0.0,0.0,0.0,168.22,0.0,1209.1,0.0],[0.0,0.0,151.94,0.0,861.2,166.92,28.8,0.0,0.0,282.48,417.3,0.0,449.4,30.05,5296.5,0.0,2109.33,288.9,0.0,0.0,162.64,0.0,0.0,329.56,0.0,545.34,1021.85,0.0,0.0,0.0,0.0]],\"type\":\"heatmap\"}],                        {\"template\":{\"data\":{\"barpolar\":[{\"marker\":{\"line\":{\"color\":\"rgb(17,17,17)\",\"width\":0.5},\"pattern\":{\"fillmode\":\"overlay\",\"size\":10,\"solidity\":0.2}},\"type\":\"barpolar\"}],\"bar\":[{\"error_x\":{\"color\":\"#f2f5fa\"},\"error_y\":{\"color\":\"#f2f5fa\"},\"marker\":{\"line\":{\"color\":\"rgb(17,17,17)\",\"width\":0.5},\"pattern\":{\"fillmode\":\"overlay\",\"size\":10,\"solidity\":0.2}},\"type\":\"bar\"}],\"carpet\":[{\"aaxis\":{\"endlinecolor\":\"#A2B1C6\",\"gridcolor\":\"#506784\",\"linecolor\":\"#506784\",\"minorgridcolor\":\"#506784\",\"startlinecolor\":\"#A2B1C6\"},\"baxis\":{\"endlinecolor\":\"#A2B1C6\",\"gridcolor\":\"#506784\",\"linecolor\":\"#506784\",\"minorgridcolor\":\"#506784\",\"startlinecolor\":\"#A2B1C6\"},\"type\":\"carpet\"}],\"choropleth\":[{\"colorbar\":{\"outlinewidth\":0,\"ticks\":\"\"},\"type\":\"choropleth\"}],\"contourcarpet\":[{\"colorbar\":{\"outlinewidth\":0,\"ticks\":\"\"},\"type\":\"contourcarpet\"}],\"contour\":[{\"colorbar\":{\"outlinewidth\":0,\"ticks\":\"\"},\"colorscale\":[[0.0,\"#0d0887\"],[0.1111111111111111,\"#46039f\"],[0.2222222222222222,\"#7201a8\"],[0.3333333333333333,\"#9c179e\"],[0.4444444444444444,\"#bd3786\"],[0.5555555555555556,\"#d8576b\"],[0.6666666666666666,\"#ed7953\"],[0.7777777777777778,\"#fb9f3a\"],[0.8888888888888888,\"#fdca26\"],[1.0,\"#f0f921\"]],\"type\":\"contour\"}],\"heatmapgl\":[{\"colorbar\":{\"outlinewidth\":0,\"ticks\":\"\"},\"colorscale\":[[0.0,\"#0d0887\"],[0.1111111111111111,\"#46039f\"],[0.2222222222222222,\"#7201a8\"],[0.3333333333333333,\"#9c179e\"],[0.4444444444444444,\"#bd3786\"],[0.5555555555555556,\"#d8576b\"],[0.6666666666666666,\"#ed7953\"],[0.7777777777777778,\"#fb9f3a\"],[0.8888888888888888,\"#fdca26\"],[1.0,\"#f0f921\"]],\"type\":\"heatmapgl\"}],\"heatmap\":[{\"colorbar\":{\"outlinewidth\":0,\"ticks\":\"\"},\"colorscale\":[[0.0,\"#0d0887\"],[0.1111111111111111,\"#46039f\"],[0.2222222222222222,\"#7201a8\"],[0.3333333333333333,\"#9c179e\"],[0.4444444444444444,\"#bd3786\"],[0.5555555555555556,\"#d8576b\"],[0.6666666666666666,\"#ed7953\"],[0.7777777777777778,\"#fb9f3a\"],[0.8888888888888888,\"#fdca26\"],[1.0,\"#f0f921\"]],\"type\":\"heatmap\"}],\"histogram2dcontour\":[{\"colorbar\":{\"outlinewidth\":0,\"ticks\":\"\"},\"colorscale\":[[0.0,\"#0d0887\"],[0.1111111111111111,\"#46039f\"],[0.2222222222222222,\"#7201a8\"],[0.3333333333333333,\"#9c179e\"],[0.4444444444444444,\"#bd3786\"],[0.5555555555555556,\"#d8576b\"],[0.6666666666666666,\"#ed7953\"],[0.7777777777777778,\"#fb9f3a\"],[0.8888888888888888,\"#fdca26\"],[1.0,\"#f0f921\"]],\"type\":\"histogram2dcontour\"}],\"histogram2d\":[{\"colorbar\":{\"outlinewidth\":0,\"ticks\":\"\"},\"colorscale\":[[0.0,\"#0d0887\"],[0.1111111111111111,\"#46039f\"],[0.2222222222222222,\"#7201a8\"],[0.3333333333333333,\"#9c179e\"],[0.4444444444444444,\"#bd3786\"],[0.5555555555555556,\"#d8576b\"],[0.6666666666666666,\"#ed7953\"],[0.7777777777777778,\"#fb9f3a\"],[0.8888888888888888,\"#fdca26\"],[1.0,\"#f0f921\"]],\"type\":\"histogram2d\"}],\"histogram\":[{\"marker\":{\"pattern\":{\"fillmode\":\"overlay\",\"size\":10,\"solidity\":0.2}},\"type\":\"histogram\"}],\"mesh3d\":[{\"colorbar\":{\"outlinewidth\":0,\"ticks\":\"\"},\"type\":\"mesh3d\"}],\"parcoords\":[{\"line\":{\"colorbar\":{\"outlinewidth\":0,\"ticks\":\"\"}},\"type\":\"parcoords\"}],\"pie\":[{\"automargin\":true,\"type\":\"pie\"}],\"scatter3d\":[{\"line\":{\"colorbar\":{\"outlinewidth\":0,\"ticks\":\"\"}},\"marker\":{\"colorbar\":{\"outlinewidth\":0,\"ticks\":\"\"}},\"type\":\"scatter3d\"}],\"scattercarpet\":[{\"marker\":{\"colorbar\":{\"outlinewidth\":0,\"ticks\":\"\"}},\"type\":\"scattercarpet\"}],\"scattergeo\":[{\"marker\":{\"colorbar\":{\"outlinewidth\":0,\"ticks\":\"\"}},\"type\":\"scattergeo\"}],\"scattergl\":[{\"marker\":{\"line\":{\"color\":\"#283442\"}},\"type\":\"scattergl\"}],\"scattermapbox\":[{\"marker\":{\"colorbar\":{\"outlinewidth\":0,\"ticks\":\"\"}},\"type\":\"scattermapbox\"}],\"scatterpolargl\":[{\"marker\":{\"colorbar\":{\"outlinewidth\":0,\"ticks\":\"\"}},\"type\":\"scatterpolargl\"}],\"scatterpolar\":[{\"marker\":{\"colorbar\":{\"outlinewidth\":0,\"ticks\":\"\"}},\"type\":\"scatterpolar\"}],\"scatter\":[{\"marker\":{\"line\":{\"color\":\"#283442\"}},\"type\":\"scatter\"}],\"scatterternary\":[{\"marker\":{\"colorbar\":{\"outlinewidth\":0,\"ticks\":\"\"}},\"type\":\"scatterternary\"}],\"surface\":[{\"colorbar\":{\"outlinewidth\":0,\"ticks\":\"\"},\"colorscale\":[[0.0,\"#0d0887\"],[0.1111111111111111,\"#46039f\"],[0.2222222222222222,\"#7201a8\"],[0.3333333333333333,\"#9c179e\"],[0.4444444444444444,\"#bd3786\"],[0.5555555555555556,\"#d8576b\"],[0.6666666666666666,\"#ed7953\"],[0.7777777777777778,\"#fb9f3a\"],[0.8888888888888888,\"#fdca26\"],[1.0,\"#f0f921\"]],\"type\":\"surface\"}],\"table\":[{\"cells\":{\"fill\":{\"color\":\"#506784\"},\"line\":{\"color\":\"rgb(17,17,17)\"}},\"header\":{\"fill\":{\"color\":\"#2a3f5f\"},\"line\":{\"color\":\"rgb(17,17,17)\"}},\"type\":\"table\"}]},\"layout\":{\"annotationdefaults\":{\"arrowcolor\":\"#f2f5fa\",\"arrowhead\":0,\"arrowwidth\":1},\"autotypenumbers\":\"strict\",\"coloraxis\":{\"colorbar\":{\"outlinewidth\":0,\"ticks\":\"\"}},\"colorscale\":{\"diverging\":[[0,\"#8e0152\"],[0.1,\"#c51b7d\"],[0.2,\"#de77ae\"],[0.3,\"#f1b6da\"],[0.4,\"#fde0ef\"],[0.5,\"#f7f7f7\"],[0.6,\"#e6f5d0\"],[0.7,\"#b8e186\"],[0.8,\"#7fbc41\"],[0.9,\"#4d9221\"],[1,\"#276419\"]],\"sequential\":[[0.0,\"#0d0887\"],[0.1111111111111111,\"#46039f\"],[0.2222222222222222,\"#7201a8\"],[0.3333333333333333,\"#9c179e\"],[0.4444444444444444,\"#bd3786\"],[0.5555555555555556,\"#d8576b\"],[0.6666666666666666,\"#ed7953\"],[0.7777777777777778,\"#fb9f3a\"],[0.8888888888888888,\"#fdca26\"],[1.0,\"#f0f921\"]],\"sequentialminus\":[[0.0,\"#0d0887\"],[0.1111111111111111,\"#46039f\"],[0.2222222222222222,\"#7201a8\"],[0.3333333333333333,\"#9c179e\"],[0.4444444444444444,\"#bd3786\"],[0.5555555555555556,\"#d8576b\"],[0.6666666666666666,\"#ed7953\"],[0.7777777777777778,\"#fb9f3a\"],[0.8888888888888888,\"#fdca26\"],[1.0,\"#f0f921\"]]},\"colorway\":[\"#636efa\",\"#EF553B\",\"#00cc96\",\"#ab63fa\",\"#FFA15A\",\"#19d3f3\",\"#FF6692\",\"#B6E880\",\"#FF97FF\",\"#FECB52\"],\"font\":{\"color\":\"#f2f5fa\"},\"geo\":{\"bgcolor\":\"rgb(17,17,17)\",\"lakecolor\":\"rgb(17,17,17)\",\"landcolor\":\"rgb(17,17,17)\",\"showlakes\":true,\"showland\":true,\"subunitcolor\":\"#506784\"},\"hoverlabel\":{\"align\":\"left\"},\"hovermode\":\"closest\",\"mapbox\":{\"style\":\"dark\"},\"paper_bgcolor\":\"rgb(17,17,17)\",\"plot_bgcolor\":\"rgb(17,17,17)\",\"polar\":{\"angularaxis\":{\"gridcolor\":\"#506784\",\"linecolor\":\"#506784\",\"ticks\":\"\"},\"bgcolor\":\"rgb(17,17,17)\",\"radialaxis\":{\"gridcolor\":\"#506784\",\"linecolor\":\"#506784\",\"ticks\":\"\"}},\"scene\":{\"xaxis\":{\"backgroundcolor\":\"rgb(17,17,17)\",\"gridcolor\":\"#506784\",\"gridwidth\":2,\"linecolor\":\"#506784\",\"showbackground\":true,\"ticks\":\"\",\"zerolinecolor\":\"#C8D4E3\"},\"yaxis\":{\"backgroundcolor\":\"rgb(17,17,17)\",\"gridcolor\":\"#506784\",\"gridwidth\":2,\"linecolor\":\"#506784\",\"showbackground\":true,\"ticks\":\"\",\"zerolinecolor\":\"#C8D4E3\"},\"zaxis\":{\"backgroundcolor\":\"rgb(17,17,17)\",\"gridcolor\":\"#506784\",\"gridwidth\":2,\"linecolor\":\"#506784\",\"showbackground\":true,\"ticks\":\"\",\"zerolinecolor\":\"#C8D4E3\"}},\"shapedefaults\":{\"line\":{\"color\":\"#f2f5fa\"}},\"sliderdefaults\":{\"bgcolor\":\"#C8D4E3\",\"bordercolor\":\"rgb(17,17,17)\",\"borderwidth\":1,\"tickwidth\":0},\"ternary\":{\"aaxis\":{\"gridcolor\":\"#506784\",\"linecolor\":\"#506784\",\"ticks\":\"\"},\"baxis\":{\"gridcolor\":\"#506784\",\"linecolor\":\"#506784\",\"ticks\":\"\"},\"bgcolor\":\"rgb(17,17,17)\",\"caxis\":{\"gridcolor\":\"#506784\",\"linecolor\":\"#506784\",\"ticks\":\"\"}},\"title\":{\"x\":0.05},\"updatemenudefaults\":{\"bgcolor\":\"#506784\",\"borderwidth\":0},\"xaxis\":{\"automargin\":true,\"gridcolor\":\"#283442\",\"linecolor\":\"#506784\",\"ticks\":\"\",\"title\":{\"standoff\":15},\"zerolinecolor\":\"#283442\",\"zerolinewidth\":2},\"yaxis\":{\"automargin\":true,\"gridcolor\":\"#283442\",\"linecolor\":\"#506784\",\"ticks\":\"\",\"title\":{\"standoff\":15},\"zerolinecolor\":\"#283442\",\"zerolinewidth\":2}}},\"xaxis\":{\"title\":{\"text\":\"Day\"},\"tickmode\":\"array\",\"tickvals\":[1,2,3,4,5,6,7,8,9,10,11,12,13,14,15,16,17,18,19,20,21,22,23,24,25,26,27,28,29,30,31]},\"yaxis\":{\"title\":{\"text\":\"Month\"},\"tickmode\":\"array\",\"tickvals\":[1,2,3,4,5,6,7,8,9,10,11,12],\"ticktext\":[\"Jan\",\"Feb\",\"Mar\",\"Apr\",\"May\",\"Jun\",\"Jul\",\"Aug\",\"Sep\",\"Oct\",\"Nov\",\"Dec\"]},\"title\":{\"text\":\"Total Invoice Amount per Month per Year (2018)\"},\"shapes\":[{\"line\":{\"color\":\"grey\",\"width\":1},\"type\":\"rect\",\"x0\":0.5,\"x1\":1.5,\"y0\":0.5,\"y1\":1.5},{\"line\":{\"color\":\"grey\",\"width\":1},\"type\":\"rect\",\"x0\":1.5,\"x1\":2.5,\"y0\":0.5,\"y1\":1.5},{\"line\":{\"color\":\"grey\",\"width\":1},\"type\":\"rect\",\"x0\":2.5,\"x1\":3.5,\"y0\":0.5,\"y1\":1.5},{\"line\":{\"color\":\"grey\",\"width\":1},\"type\":\"rect\",\"x0\":3.5,\"x1\":4.5,\"y0\":0.5,\"y1\":1.5},{\"line\":{\"color\":\"grey\",\"width\":1},\"type\":\"rect\",\"x0\":4.5,\"x1\":5.5,\"y0\":0.5,\"y1\":1.5},{\"line\":{\"color\":\"grey\",\"width\":1},\"type\":\"rect\",\"x0\":5.5,\"x1\":6.5,\"y0\":0.5,\"y1\":1.5},{\"line\":{\"color\":\"grey\",\"width\":1},\"type\":\"rect\",\"x0\":6.5,\"x1\":7.5,\"y0\":0.5,\"y1\":1.5},{\"line\":{\"color\":\"grey\",\"width\":1},\"type\":\"rect\",\"x0\":7.5,\"x1\":8.5,\"y0\":0.5,\"y1\":1.5},{\"line\":{\"color\":\"grey\",\"width\":1},\"type\":\"rect\",\"x0\":8.5,\"x1\":9.5,\"y0\":0.5,\"y1\":1.5},{\"line\":{\"color\":\"grey\",\"width\":1},\"type\":\"rect\",\"x0\":9.5,\"x1\":10.5,\"y0\":0.5,\"y1\":1.5},{\"line\":{\"color\":\"grey\",\"width\":1},\"type\":\"rect\",\"x0\":10.5,\"x1\":11.5,\"y0\":0.5,\"y1\":1.5},{\"line\":{\"color\":\"grey\",\"width\":1},\"type\":\"rect\",\"x0\":11.5,\"x1\":12.5,\"y0\":0.5,\"y1\":1.5},{\"line\":{\"color\":\"grey\",\"width\":1},\"type\":\"rect\",\"x0\":12.5,\"x1\":13.5,\"y0\":0.5,\"y1\":1.5},{\"line\":{\"color\":\"grey\",\"width\":1},\"type\":\"rect\",\"x0\":13.5,\"x1\":14.5,\"y0\":0.5,\"y1\":1.5},{\"line\":{\"color\":\"grey\",\"width\":1},\"type\":\"rect\",\"x0\":14.5,\"x1\":15.5,\"y0\":0.5,\"y1\":1.5},{\"line\":{\"color\":\"grey\",\"width\":1},\"type\":\"rect\",\"x0\":15.5,\"x1\":16.5,\"y0\":0.5,\"y1\":1.5},{\"line\":{\"color\":\"grey\",\"width\":1},\"type\":\"rect\",\"x0\":16.5,\"x1\":17.5,\"y0\":0.5,\"y1\":1.5},{\"line\":{\"color\":\"grey\",\"width\":1},\"type\":\"rect\",\"x0\":17.5,\"x1\":18.5,\"y0\":0.5,\"y1\":1.5},{\"line\":{\"color\":\"grey\",\"width\":1},\"type\":\"rect\",\"x0\":18.5,\"x1\":19.5,\"y0\":0.5,\"y1\":1.5},{\"line\":{\"color\":\"grey\",\"width\":1},\"type\":\"rect\",\"x0\":19.5,\"x1\":20.5,\"y0\":0.5,\"y1\":1.5},{\"line\":{\"color\":\"grey\",\"width\":1},\"type\":\"rect\",\"x0\":20.5,\"x1\":21.5,\"y0\":0.5,\"y1\":1.5},{\"line\":{\"color\":\"grey\",\"width\":1},\"type\":\"rect\",\"x0\":21.5,\"x1\":22.5,\"y0\":0.5,\"y1\":1.5},{\"line\":{\"color\":\"grey\",\"width\":1},\"type\":\"rect\",\"x0\":22.5,\"x1\":23.5,\"y0\":0.5,\"y1\":1.5},{\"line\":{\"color\":\"grey\",\"width\":1},\"type\":\"rect\",\"x0\":23.5,\"x1\":24.5,\"y0\":0.5,\"y1\":1.5},{\"line\":{\"color\":\"grey\",\"width\":1},\"type\":\"rect\",\"x0\":24.5,\"x1\":25.5,\"y0\":0.5,\"y1\":1.5},{\"line\":{\"color\":\"grey\",\"width\":1},\"type\":\"rect\",\"x0\":25.5,\"x1\":26.5,\"y0\":0.5,\"y1\":1.5},{\"line\":{\"color\":\"grey\",\"width\":1},\"type\":\"rect\",\"x0\":26.5,\"x1\":27.5,\"y0\":0.5,\"y1\":1.5},{\"line\":{\"color\":\"grey\",\"width\":1},\"type\":\"rect\",\"x0\":27.5,\"x1\":28.5,\"y0\":0.5,\"y1\":1.5},{\"line\":{\"color\":\"grey\",\"width\":1},\"type\":\"rect\",\"x0\":28.5,\"x1\":29.5,\"y0\":0.5,\"y1\":1.5},{\"line\":{\"color\":\"grey\",\"width\":1},\"type\":\"rect\",\"x0\":29.5,\"x1\":30.5,\"y0\":0.5,\"y1\":1.5},{\"line\":{\"color\":\"grey\",\"width\":1},\"type\":\"rect\",\"x0\":30.5,\"x1\":31.5,\"y0\":0.5,\"y1\":1.5},{\"line\":{\"color\":\"grey\",\"width\":1},\"type\":\"rect\",\"x0\":0.5,\"x1\":1.5,\"y0\":1.5,\"y1\":2.5},{\"line\":{\"color\":\"grey\",\"width\":1},\"type\":\"rect\",\"x0\":1.5,\"x1\":2.5,\"y0\":1.5,\"y1\":2.5},{\"line\":{\"color\":\"grey\",\"width\":1},\"type\":\"rect\",\"x0\":2.5,\"x1\":3.5,\"y0\":1.5,\"y1\":2.5},{\"line\":{\"color\":\"grey\",\"width\":1},\"type\":\"rect\",\"x0\":3.5,\"x1\":4.5,\"y0\":1.5,\"y1\":2.5},{\"line\":{\"color\":\"grey\",\"width\":1},\"type\":\"rect\",\"x0\":4.5,\"x1\":5.5,\"y0\":1.5,\"y1\":2.5},{\"line\":{\"color\":\"grey\",\"width\":1},\"type\":\"rect\",\"x0\":5.5,\"x1\":6.5,\"y0\":1.5,\"y1\":2.5},{\"line\":{\"color\":\"grey\",\"width\":1},\"type\":\"rect\",\"x0\":6.5,\"x1\":7.5,\"y0\":1.5,\"y1\":2.5},{\"line\":{\"color\":\"grey\",\"width\":1},\"type\":\"rect\",\"x0\":7.5,\"x1\":8.5,\"y0\":1.5,\"y1\":2.5},{\"line\":{\"color\":\"grey\",\"width\":1},\"type\":\"rect\",\"x0\":8.5,\"x1\":9.5,\"y0\":1.5,\"y1\":2.5},{\"line\":{\"color\":\"grey\",\"width\":1},\"type\":\"rect\",\"x0\":9.5,\"x1\":10.5,\"y0\":1.5,\"y1\":2.5},{\"line\":{\"color\":\"grey\",\"width\":1},\"type\":\"rect\",\"x0\":10.5,\"x1\":11.5,\"y0\":1.5,\"y1\":2.5},{\"line\":{\"color\":\"grey\",\"width\":1},\"type\":\"rect\",\"x0\":11.5,\"x1\":12.5,\"y0\":1.5,\"y1\":2.5},{\"line\":{\"color\":\"grey\",\"width\":1},\"type\":\"rect\",\"x0\":12.5,\"x1\":13.5,\"y0\":1.5,\"y1\":2.5},{\"line\":{\"color\":\"grey\",\"width\":1},\"type\":\"rect\",\"x0\":13.5,\"x1\":14.5,\"y0\":1.5,\"y1\":2.5},{\"line\":{\"color\":\"grey\",\"width\":1},\"type\":\"rect\",\"x0\":14.5,\"x1\":15.5,\"y0\":1.5,\"y1\":2.5},{\"line\":{\"color\":\"grey\",\"width\":1},\"type\":\"rect\",\"x0\":15.5,\"x1\":16.5,\"y0\":1.5,\"y1\":2.5},{\"line\":{\"color\":\"grey\",\"width\":1},\"type\":\"rect\",\"x0\":16.5,\"x1\":17.5,\"y0\":1.5,\"y1\":2.5},{\"line\":{\"color\":\"grey\",\"width\":1},\"type\":\"rect\",\"x0\":17.5,\"x1\":18.5,\"y0\":1.5,\"y1\":2.5},{\"line\":{\"color\":\"grey\",\"width\":1},\"type\":\"rect\",\"x0\":18.5,\"x1\":19.5,\"y0\":1.5,\"y1\":2.5},{\"line\":{\"color\":\"grey\",\"width\":1},\"type\":\"rect\",\"x0\":19.5,\"x1\":20.5,\"y0\":1.5,\"y1\":2.5},{\"line\":{\"color\":\"grey\",\"width\":1},\"type\":\"rect\",\"x0\":20.5,\"x1\":21.5,\"y0\":1.5,\"y1\":2.5},{\"line\":{\"color\":\"grey\",\"width\":1},\"type\":\"rect\",\"x0\":21.5,\"x1\":22.5,\"y0\":1.5,\"y1\":2.5},{\"line\":{\"color\":\"grey\",\"width\":1},\"type\":\"rect\",\"x0\":22.5,\"x1\":23.5,\"y0\":1.5,\"y1\":2.5},{\"line\":{\"color\":\"grey\",\"width\":1},\"type\":\"rect\",\"x0\":23.5,\"x1\":24.5,\"y0\":1.5,\"y1\":2.5},{\"line\":{\"color\":\"grey\",\"width\":1},\"type\":\"rect\",\"x0\":24.5,\"x1\":25.5,\"y0\":1.5,\"y1\":2.5},{\"line\":{\"color\":\"grey\",\"width\":1},\"type\":\"rect\",\"x0\":25.5,\"x1\":26.5,\"y0\":1.5,\"y1\":2.5},{\"line\":{\"color\":\"grey\",\"width\":1},\"type\":\"rect\",\"x0\":26.5,\"x1\":27.5,\"y0\":1.5,\"y1\":2.5},{\"line\":{\"color\":\"grey\",\"width\":1},\"type\":\"rect\",\"x0\":27.5,\"x1\":28.5,\"y0\":1.5,\"y1\":2.5},{\"line\":{\"color\":\"grey\",\"width\":1},\"type\":\"rect\",\"x0\":28.5,\"x1\":29.5,\"y0\":1.5,\"y1\":2.5},{\"line\":{\"color\":\"grey\",\"width\":1},\"type\":\"rect\",\"x0\":29.5,\"x1\":30.5,\"y0\":1.5,\"y1\":2.5},{\"line\":{\"color\":\"grey\",\"width\":1},\"type\":\"rect\",\"x0\":30.5,\"x1\":31.5,\"y0\":1.5,\"y1\":2.5},{\"line\":{\"color\":\"grey\",\"width\":1},\"type\":\"rect\",\"x0\":0.5,\"x1\":1.5,\"y0\":2.5,\"y1\":3.5},{\"line\":{\"color\":\"grey\",\"width\":1},\"type\":\"rect\",\"x0\":1.5,\"x1\":2.5,\"y0\":2.5,\"y1\":3.5},{\"line\":{\"color\":\"grey\",\"width\":1},\"type\":\"rect\",\"x0\":2.5,\"x1\":3.5,\"y0\":2.5,\"y1\":3.5},{\"line\":{\"color\":\"grey\",\"width\":1},\"type\":\"rect\",\"x0\":3.5,\"x1\":4.5,\"y0\":2.5,\"y1\":3.5},{\"line\":{\"color\":\"grey\",\"width\":1},\"type\":\"rect\",\"x0\":4.5,\"x1\":5.5,\"y0\":2.5,\"y1\":3.5},{\"line\":{\"color\":\"grey\",\"width\":1},\"type\":\"rect\",\"x0\":5.5,\"x1\":6.5,\"y0\":2.5,\"y1\":3.5},{\"line\":{\"color\":\"grey\",\"width\":1},\"type\":\"rect\",\"x0\":6.5,\"x1\":7.5,\"y0\":2.5,\"y1\":3.5},{\"line\":{\"color\":\"grey\",\"width\":1},\"type\":\"rect\",\"x0\":7.5,\"x1\":8.5,\"y0\":2.5,\"y1\":3.5},{\"line\":{\"color\":\"grey\",\"width\":1},\"type\":\"rect\",\"x0\":8.5,\"x1\":9.5,\"y0\":2.5,\"y1\":3.5},{\"line\":{\"color\":\"grey\",\"width\":1},\"type\":\"rect\",\"x0\":9.5,\"x1\":10.5,\"y0\":2.5,\"y1\":3.5},{\"line\":{\"color\":\"grey\",\"width\":1},\"type\":\"rect\",\"x0\":10.5,\"x1\":11.5,\"y0\":2.5,\"y1\":3.5},{\"line\":{\"color\":\"grey\",\"width\":1},\"type\":\"rect\",\"x0\":11.5,\"x1\":12.5,\"y0\":2.5,\"y1\":3.5},{\"line\":{\"color\":\"grey\",\"width\":1},\"type\":\"rect\",\"x0\":12.5,\"x1\":13.5,\"y0\":2.5,\"y1\":3.5},{\"line\":{\"color\":\"grey\",\"width\":1},\"type\":\"rect\",\"x0\":13.5,\"x1\":14.5,\"y0\":2.5,\"y1\":3.5},{\"line\":{\"color\":\"grey\",\"width\":1},\"type\":\"rect\",\"x0\":14.5,\"x1\":15.5,\"y0\":2.5,\"y1\":3.5},{\"line\":{\"color\":\"grey\",\"width\":1},\"type\":\"rect\",\"x0\":15.5,\"x1\":16.5,\"y0\":2.5,\"y1\":3.5},{\"line\":{\"color\":\"grey\",\"width\":1},\"type\":\"rect\",\"x0\":16.5,\"x1\":17.5,\"y0\":2.5,\"y1\":3.5},{\"line\":{\"color\":\"grey\",\"width\":1},\"type\":\"rect\",\"x0\":17.5,\"x1\":18.5,\"y0\":2.5,\"y1\":3.5},{\"line\":{\"color\":\"grey\",\"width\":1},\"type\":\"rect\",\"x0\":18.5,\"x1\":19.5,\"y0\":2.5,\"y1\":3.5},{\"line\":{\"color\":\"grey\",\"width\":1},\"type\":\"rect\",\"x0\":19.5,\"x1\":20.5,\"y0\":2.5,\"y1\":3.5},{\"line\":{\"color\":\"grey\",\"width\":1},\"type\":\"rect\",\"x0\":20.5,\"x1\":21.5,\"y0\":2.5,\"y1\":3.5},{\"line\":{\"color\":\"grey\",\"width\":1},\"type\":\"rect\",\"x0\":21.5,\"x1\":22.5,\"y0\":2.5,\"y1\":3.5},{\"line\":{\"color\":\"grey\",\"width\":1},\"type\":\"rect\",\"x0\":22.5,\"x1\":23.5,\"y0\":2.5,\"y1\":3.5},{\"line\":{\"color\":\"grey\",\"width\":1},\"type\":\"rect\",\"x0\":23.5,\"x1\":24.5,\"y0\":2.5,\"y1\":3.5},{\"line\":{\"color\":\"grey\",\"width\":1},\"type\":\"rect\",\"x0\":24.5,\"x1\":25.5,\"y0\":2.5,\"y1\":3.5},{\"line\":{\"color\":\"grey\",\"width\":1},\"type\":\"rect\",\"x0\":25.5,\"x1\":26.5,\"y0\":2.5,\"y1\":3.5},{\"line\":{\"color\":\"grey\",\"width\":1},\"type\":\"rect\",\"x0\":26.5,\"x1\":27.5,\"y0\":2.5,\"y1\":3.5},{\"line\":{\"color\":\"grey\",\"width\":1},\"type\":\"rect\",\"x0\":27.5,\"x1\":28.5,\"y0\":2.5,\"y1\":3.5},{\"line\":{\"color\":\"grey\",\"width\":1},\"type\":\"rect\",\"x0\":28.5,\"x1\":29.5,\"y0\":2.5,\"y1\":3.5},{\"line\":{\"color\":\"grey\",\"width\":1},\"type\":\"rect\",\"x0\":29.5,\"x1\":30.5,\"y0\":2.5,\"y1\":3.5},{\"line\":{\"color\":\"grey\",\"width\":1},\"type\":\"rect\",\"x0\":30.5,\"x1\":31.5,\"y0\":2.5,\"y1\":3.5},{\"line\":{\"color\":\"grey\",\"width\":1},\"type\":\"rect\",\"x0\":0.5,\"x1\":1.5,\"y0\":3.5,\"y1\":4.5},{\"line\":{\"color\":\"grey\",\"width\":1},\"type\":\"rect\",\"x0\":1.5,\"x1\":2.5,\"y0\":3.5,\"y1\":4.5},{\"line\":{\"color\":\"grey\",\"width\":1},\"type\":\"rect\",\"x0\":2.5,\"x1\":3.5,\"y0\":3.5,\"y1\":4.5},{\"line\":{\"color\":\"grey\",\"width\":1},\"type\":\"rect\",\"x0\":3.5,\"x1\":4.5,\"y0\":3.5,\"y1\":4.5},{\"line\":{\"color\":\"grey\",\"width\":1},\"type\":\"rect\",\"x0\":4.5,\"x1\":5.5,\"y0\":3.5,\"y1\":4.5},{\"line\":{\"color\":\"grey\",\"width\":1},\"type\":\"rect\",\"x0\":5.5,\"x1\":6.5,\"y0\":3.5,\"y1\":4.5},{\"line\":{\"color\":\"grey\",\"width\":1},\"type\":\"rect\",\"x0\":6.5,\"x1\":7.5,\"y0\":3.5,\"y1\":4.5},{\"line\":{\"color\":\"grey\",\"width\":1},\"type\":\"rect\",\"x0\":7.5,\"x1\":8.5,\"y0\":3.5,\"y1\":4.5},{\"line\":{\"color\":\"grey\",\"width\":1},\"type\":\"rect\",\"x0\":8.5,\"x1\":9.5,\"y0\":3.5,\"y1\":4.5},{\"line\":{\"color\":\"grey\",\"width\":1},\"type\":\"rect\",\"x0\":9.5,\"x1\":10.5,\"y0\":3.5,\"y1\":4.5},{\"line\":{\"color\":\"grey\",\"width\":1},\"type\":\"rect\",\"x0\":10.5,\"x1\":11.5,\"y0\":3.5,\"y1\":4.5},{\"line\":{\"color\":\"grey\",\"width\":1},\"type\":\"rect\",\"x0\":11.5,\"x1\":12.5,\"y0\":3.5,\"y1\":4.5},{\"line\":{\"color\":\"grey\",\"width\":1},\"type\":\"rect\",\"x0\":12.5,\"x1\":13.5,\"y0\":3.5,\"y1\":4.5},{\"line\":{\"color\":\"grey\",\"width\":1},\"type\":\"rect\",\"x0\":13.5,\"x1\":14.5,\"y0\":3.5,\"y1\":4.5},{\"line\":{\"color\":\"grey\",\"width\":1},\"type\":\"rect\",\"x0\":14.5,\"x1\":15.5,\"y0\":3.5,\"y1\":4.5},{\"line\":{\"color\":\"grey\",\"width\":1},\"type\":\"rect\",\"x0\":15.5,\"x1\":16.5,\"y0\":3.5,\"y1\":4.5},{\"line\":{\"color\":\"grey\",\"width\":1},\"type\":\"rect\",\"x0\":16.5,\"x1\":17.5,\"y0\":3.5,\"y1\":4.5},{\"line\":{\"color\":\"grey\",\"width\":1},\"type\":\"rect\",\"x0\":17.5,\"x1\":18.5,\"y0\":3.5,\"y1\":4.5},{\"line\":{\"color\":\"grey\",\"width\":1},\"type\":\"rect\",\"x0\":18.5,\"x1\":19.5,\"y0\":3.5,\"y1\":4.5},{\"line\":{\"color\":\"grey\",\"width\":1},\"type\":\"rect\",\"x0\":19.5,\"x1\":20.5,\"y0\":3.5,\"y1\":4.5},{\"line\":{\"color\":\"grey\",\"width\":1},\"type\":\"rect\",\"x0\":20.5,\"x1\":21.5,\"y0\":3.5,\"y1\":4.5},{\"line\":{\"color\":\"grey\",\"width\":1},\"type\":\"rect\",\"x0\":21.5,\"x1\":22.5,\"y0\":3.5,\"y1\":4.5},{\"line\":{\"color\":\"grey\",\"width\":1},\"type\":\"rect\",\"x0\":22.5,\"x1\":23.5,\"y0\":3.5,\"y1\":4.5},{\"line\":{\"color\":\"grey\",\"width\":1},\"type\":\"rect\",\"x0\":23.5,\"x1\":24.5,\"y0\":3.5,\"y1\":4.5},{\"line\":{\"color\":\"grey\",\"width\":1},\"type\":\"rect\",\"x0\":24.5,\"x1\":25.5,\"y0\":3.5,\"y1\":4.5},{\"line\":{\"color\":\"grey\",\"width\":1},\"type\":\"rect\",\"x0\":25.5,\"x1\":26.5,\"y0\":3.5,\"y1\":4.5},{\"line\":{\"color\":\"grey\",\"width\":1},\"type\":\"rect\",\"x0\":26.5,\"x1\":27.5,\"y0\":3.5,\"y1\":4.5},{\"line\":{\"color\":\"grey\",\"width\":1},\"type\":\"rect\",\"x0\":27.5,\"x1\":28.5,\"y0\":3.5,\"y1\":4.5},{\"line\":{\"color\":\"grey\",\"width\":1},\"type\":\"rect\",\"x0\":28.5,\"x1\":29.5,\"y0\":3.5,\"y1\":4.5},{\"line\":{\"color\":\"grey\",\"width\":1},\"type\":\"rect\",\"x0\":29.5,\"x1\":30.5,\"y0\":3.5,\"y1\":4.5},{\"line\":{\"color\":\"grey\",\"width\":1},\"type\":\"rect\",\"x0\":30.5,\"x1\":31.5,\"y0\":3.5,\"y1\":4.5},{\"line\":{\"color\":\"grey\",\"width\":1},\"type\":\"rect\",\"x0\":0.5,\"x1\":1.5,\"y0\":4.5,\"y1\":5.5},{\"line\":{\"color\":\"grey\",\"width\":1},\"type\":\"rect\",\"x0\":1.5,\"x1\":2.5,\"y0\":4.5,\"y1\":5.5},{\"line\":{\"color\":\"grey\",\"width\":1},\"type\":\"rect\",\"x0\":2.5,\"x1\":3.5,\"y0\":4.5,\"y1\":5.5},{\"line\":{\"color\":\"grey\",\"width\":1},\"type\":\"rect\",\"x0\":3.5,\"x1\":4.5,\"y0\":4.5,\"y1\":5.5},{\"line\":{\"color\":\"grey\",\"width\":1},\"type\":\"rect\",\"x0\":4.5,\"x1\":5.5,\"y0\":4.5,\"y1\":5.5},{\"line\":{\"color\":\"grey\",\"width\":1},\"type\":\"rect\",\"x0\":5.5,\"x1\":6.5,\"y0\":4.5,\"y1\":5.5},{\"line\":{\"color\":\"grey\",\"width\":1},\"type\":\"rect\",\"x0\":6.5,\"x1\":7.5,\"y0\":4.5,\"y1\":5.5},{\"line\":{\"color\":\"grey\",\"width\":1},\"type\":\"rect\",\"x0\":7.5,\"x1\":8.5,\"y0\":4.5,\"y1\":5.5},{\"line\":{\"color\":\"grey\",\"width\":1},\"type\":\"rect\",\"x0\":8.5,\"x1\":9.5,\"y0\":4.5,\"y1\":5.5},{\"line\":{\"color\":\"grey\",\"width\":1},\"type\":\"rect\",\"x0\":9.5,\"x1\":10.5,\"y0\":4.5,\"y1\":5.5},{\"line\":{\"color\":\"grey\",\"width\":1},\"type\":\"rect\",\"x0\":10.5,\"x1\":11.5,\"y0\":4.5,\"y1\":5.5},{\"line\":{\"color\":\"grey\",\"width\":1},\"type\":\"rect\",\"x0\":11.5,\"x1\":12.5,\"y0\":4.5,\"y1\":5.5},{\"line\":{\"color\":\"grey\",\"width\":1},\"type\":\"rect\",\"x0\":12.5,\"x1\":13.5,\"y0\":4.5,\"y1\":5.5},{\"line\":{\"color\":\"grey\",\"width\":1},\"type\":\"rect\",\"x0\":13.5,\"x1\":14.5,\"y0\":4.5,\"y1\":5.5},{\"line\":{\"color\":\"grey\",\"width\":1},\"type\":\"rect\",\"x0\":14.5,\"x1\":15.5,\"y0\":4.5,\"y1\":5.5},{\"line\":{\"color\":\"grey\",\"width\":1},\"type\":\"rect\",\"x0\":15.5,\"x1\":16.5,\"y0\":4.5,\"y1\":5.5},{\"line\":{\"color\":\"grey\",\"width\":1},\"type\":\"rect\",\"x0\":16.5,\"x1\":17.5,\"y0\":4.5,\"y1\":5.5},{\"line\":{\"color\":\"grey\",\"width\":1},\"type\":\"rect\",\"x0\":17.5,\"x1\":18.5,\"y0\":4.5,\"y1\":5.5},{\"line\":{\"color\":\"grey\",\"width\":1},\"type\":\"rect\",\"x0\":18.5,\"x1\":19.5,\"y0\":4.5,\"y1\":5.5},{\"line\":{\"color\":\"grey\",\"width\":1},\"type\":\"rect\",\"x0\":19.5,\"x1\":20.5,\"y0\":4.5,\"y1\":5.5},{\"line\":{\"color\":\"grey\",\"width\":1},\"type\":\"rect\",\"x0\":20.5,\"x1\":21.5,\"y0\":4.5,\"y1\":5.5},{\"line\":{\"color\":\"grey\",\"width\":1},\"type\":\"rect\",\"x0\":21.5,\"x1\":22.5,\"y0\":4.5,\"y1\":5.5},{\"line\":{\"color\":\"grey\",\"width\":1},\"type\":\"rect\",\"x0\":22.5,\"x1\":23.5,\"y0\":4.5,\"y1\":5.5},{\"line\":{\"color\":\"grey\",\"width\":1},\"type\":\"rect\",\"x0\":23.5,\"x1\":24.5,\"y0\":4.5,\"y1\":5.5},{\"line\":{\"color\":\"grey\",\"width\":1},\"type\":\"rect\",\"x0\":24.5,\"x1\":25.5,\"y0\":4.5,\"y1\":5.5},{\"line\":{\"color\":\"grey\",\"width\":1},\"type\":\"rect\",\"x0\":25.5,\"x1\":26.5,\"y0\":4.5,\"y1\":5.5},{\"line\":{\"color\":\"grey\",\"width\":1},\"type\":\"rect\",\"x0\":26.5,\"x1\":27.5,\"y0\":4.5,\"y1\":5.5},{\"line\":{\"color\":\"grey\",\"width\":1},\"type\":\"rect\",\"x0\":27.5,\"x1\":28.5,\"y0\":4.5,\"y1\":5.5},{\"line\":{\"color\":\"grey\",\"width\":1},\"type\":\"rect\",\"x0\":28.5,\"x1\":29.5,\"y0\":4.5,\"y1\":5.5},{\"line\":{\"color\":\"grey\",\"width\":1},\"type\":\"rect\",\"x0\":29.5,\"x1\":30.5,\"y0\":4.5,\"y1\":5.5},{\"line\":{\"color\":\"grey\",\"width\":1},\"type\":\"rect\",\"x0\":30.5,\"x1\":31.5,\"y0\":4.5,\"y1\":5.5},{\"line\":{\"color\":\"grey\",\"width\":1},\"type\":\"rect\",\"x0\":0.5,\"x1\":1.5,\"y0\":5.5,\"y1\":6.5},{\"line\":{\"color\":\"grey\",\"width\":1},\"type\":\"rect\",\"x0\":1.5,\"x1\":2.5,\"y0\":5.5,\"y1\":6.5},{\"line\":{\"color\":\"grey\",\"width\":1},\"type\":\"rect\",\"x0\":2.5,\"x1\":3.5,\"y0\":5.5,\"y1\":6.5},{\"line\":{\"color\":\"grey\",\"width\":1},\"type\":\"rect\",\"x0\":3.5,\"x1\":4.5,\"y0\":5.5,\"y1\":6.5},{\"line\":{\"color\":\"grey\",\"width\":1},\"type\":\"rect\",\"x0\":4.5,\"x1\":5.5,\"y0\":5.5,\"y1\":6.5},{\"line\":{\"color\":\"grey\",\"width\":1},\"type\":\"rect\",\"x0\":5.5,\"x1\":6.5,\"y0\":5.5,\"y1\":6.5},{\"line\":{\"color\":\"grey\",\"width\":1},\"type\":\"rect\",\"x0\":6.5,\"x1\":7.5,\"y0\":5.5,\"y1\":6.5},{\"line\":{\"color\":\"grey\",\"width\":1},\"type\":\"rect\",\"x0\":7.5,\"x1\":8.5,\"y0\":5.5,\"y1\":6.5},{\"line\":{\"color\":\"grey\",\"width\":1},\"type\":\"rect\",\"x0\":8.5,\"x1\":9.5,\"y0\":5.5,\"y1\":6.5},{\"line\":{\"color\":\"grey\",\"width\":1},\"type\":\"rect\",\"x0\":9.5,\"x1\":10.5,\"y0\":5.5,\"y1\":6.5},{\"line\":{\"color\":\"grey\",\"width\":1},\"type\":\"rect\",\"x0\":10.5,\"x1\":11.5,\"y0\":5.5,\"y1\":6.5},{\"line\":{\"color\":\"grey\",\"width\":1},\"type\":\"rect\",\"x0\":11.5,\"x1\":12.5,\"y0\":5.5,\"y1\":6.5},{\"line\":{\"color\":\"grey\",\"width\":1},\"type\":\"rect\",\"x0\":12.5,\"x1\":13.5,\"y0\":5.5,\"y1\":6.5},{\"line\":{\"color\":\"grey\",\"width\":1},\"type\":\"rect\",\"x0\":13.5,\"x1\":14.5,\"y0\":5.5,\"y1\":6.5},{\"line\":{\"color\":\"grey\",\"width\":1},\"type\":\"rect\",\"x0\":14.5,\"x1\":15.5,\"y0\":5.5,\"y1\":6.5},{\"line\":{\"color\":\"grey\",\"width\":1},\"type\":\"rect\",\"x0\":15.5,\"x1\":16.5,\"y0\":5.5,\"y1\":6.5},{\"line\":{\"color\":\"grey\",\"width\":1},\"type\":\"rect\",\"x0\":16.5,\"x1\":17.5,\"y0\":5.5,\"y1\":6.5},{\"line\":{\"color\":\"grey\",\"width\":1},\"type\":\"rect\",\"x0\":17.5,\"x1\":18.5,\"y0\":5.5,\"y1\":6.5},{\"line\":{\"color\":\"grey\",\"width\":1},\"type\":\"rect\",\"x0\":18.5,\"x1\":19.5,\"y0\":5.5,\"y1\":6.5},{\"line\":{\"color\":\"grey\",\"width\":1},\"type\":\"rect\",\"x0\":19.5,\"x1\":20.5,\"y0\":5.5,\"y1\":6.5},{\"line\":{\"color\":\"grey\",\"width\":1},\"type\":\"rect\",\"x0\":20.5,\"x1\":21.5,\"y0\":5.5,\"y1\":6.5},{\"line\":{\"color\":\"grey\",\"width\":1},\"type\":\"rect\",\"x0\":21.5,\"x1\":22.5,\"y0\":5.5,\"y1\":6.5},{\"line\":{\"color\":\"grey\",\"width\":1},\"type\":\"rect\",\"x0\":22.5,\"x1\":23.5,\"y0\":5.5,\"y1\":6.5},{\"line\":{\"color\":\"grey\",\"width\":1},\"type\":\"rect\",\"x0\":23.5,\"x1\":24.5,\"y0\":5.5,\"y1\":6.5},{\"line\":{\"color\":\"grey\",\"width\":1},\"type\":\"rect\",\"x0\":24.5,\"x1\":25.5,\"y0\":5.5,\"y1\":6.5},{\"line\":{\"color\":\"grey\",\"width\":1},\"type\":\"rect\",\"x0\":25.5,\"x1\":26.5,\"y0\":5.5,\"y1\":6.5},{\"line\":{\"color\":\"grey\",\"width\":1},\"type\":\"rect\",\"x0\":26.5,\"x1\":27.5,\"y0\":5.5,\"y1\":6.5},{\"line\":{\"color\":\"grey\",\"width\":1},\"type\":\"rect\",\"x0\":27.5,\"x1\":28.5,\"y0\":5.5,\"y1\":6.5},{\"line\":{\"color\":\"grey\",\"width\":1},\"type\":\"rect\",\"x0\":28.5,\"x1\":29.5,\"y0\":5.5,\"y1\":6.5},{\"line\":{\"color\":\"grey\",\"width\":1},\"type\":\"rect\",\"x0\":29.5,\"x1\":30.5,\"y0\":5.5,\"y1\":6.5},{\"line\":{\"color\":\"grey\",\"width\":1},\"type\":\"rect\",\"x0\":30.5,\"x1\":31.5,\"y0\":5.5,\"y1\":6.5},{\"line\":{\"color\":\"grey\",\"width\":1},\"type\":\"rect\",\"x0\":0.5,\"x1\":1.5,\"y0\":6.5,\"y1\":7.5},{\"line\":{\"color\":\"grey\",\"width\":1},\"type\":\"rect\",\"x0\":1.5,\"x1\":2.5,\"y0\":6.5,\"y1\":7.5},{\"line\":{\"color\":\"grey\",\"width\":1},\"type\":\"rect\",\"x0\":2.5,\"x1\":3.5,\"y0\":6.5,\"y1\":7.5},{\"line\":{\"color\":\"grey\",\"width\":1},\"type\":\"rect\",\"x0\":3.5,\"x1\":4.5,\"y0\":6.5,\"y1\":7.5},{\"line\":{\"color\":\"grey\",\"width\":1},\"type\":\"rect\",\"x0\":4.5,\"x1\":5.5,\"y0\":6.5,\"y1\":7.5},{\"line\":{\"color\":\"grey\",\"width\":1},\"type\":\"rect\",\"x0\":5.5,\"x1\":6.5,\"y0\":6.5,\"y1\":7.5},{\"line\":{\"color\":\"grey\",\"width\":1},\"type\":\"rect\",\"x0\":6.5,\"x1\":7.5,\"y0\":6.5,\"y1\":7.5},{\"line\":{\"color\":\"grey\",\"width\":1},\"type\":\"rect\",\"x0\":7.5,\"x1\":8.5,\"y0\":6.5,\"y1\":7.5},{\"line\":{\"color\":\"grey\",\"width\":1},\"type\":\"rect\",\"x0\":8.5,\"x1\":9.5,\"y0\":6.5,\"y1\":7.5},{\"line\":{\"color\":\"grey\",\"width\":1},\"type\":\"rect\",\"x0\":9.5,\"x1\":10.5,\"y0\":6.5,\"y1\":7.5},{\"line\":{\"color\":\"grey\",\"width\":1},\"type\":\"rect\",\"x0\":10.5,\"x1\":11.5,\"y0\":6.5,\"y1\":7.5},{\"line\":{\"color\":\"grey\",\"width\":1},\"type\":\"rect\",\"x0\":11.5,\"x1\":12.5,\"y0\":6.5,\"y1\":7.5},{\"line\":{\"color\":\"grey\",\"width\":1},\"type\":\"rect\",\"x0\":12.5,\"x1\":13.5,\"y0\":6.5,\"y1\":7.5},{\"line\":{\"color\":\"grey\",\"width\":1},\"type\":\"rect\",\"x0\":13.5,\"x1\":14.5,\"y0\":6.5,\"y1\":7.5},{\"line\":{\"color\":\"grey\",\"width\":1},\"type\":\"rect\",\"x0\":14.5,\"x1\":15.5,\"y0\":6.5,\"y1\":7.5},{\"line\":{\"color\":\"grey\",\"width\":1},\"type\":\"rect\",\"x0\":15.5,\"x1\":16.5,\"y0\":6.5,\"y1\":7.5},{\"line\":{\"color\":\"grey\",\"width\":1},\"type\":\"rect\",\"x0\":16.5,\"x1\":17.5,\"y0\":6.5,\"y1\":7.5},{\"line\":{\"color\":\"grey\",\"width\":1},\"type\":\"rect\",\"x0\":17.5,\"x1\":18.5,\"y0\":6.5,\"y1\":7.5},{\"line\":{\"color\":\"grey\",\"width\":1},\"type\":\"rect\",\"x0\":18.5,\"x1\":19.5,\"y0\":6.5,\"y1\":7.5},{\"line\":{\"color\":\"grey\",\"width\":1},\"type\":\"rect\",\"x0\":19.5,\"x1\":20.5,\"y0\":6.5,\"y1\":7.5},{\"line\":{\"color\":\"grey\",\"width\":1},\"type\":\"rect\",\"x0\":20.5,\"x1\":21.5,\"y0\":6.5,\"y1\":7.5},{\"line\":{\"color\":\"grey\",\"width\":1},\"type\":\"rect\",\"x0\":21.5,\"x1\":22.5,\"y0\":6.5,\"y1\":7.5},{\"line\":{\"color\":\"grey\",\"width\":1},\"type\":\"rect\",\"x0\":22.5,\"x1\":23.5,\"y0\":6.5,\"y1\":7.5},{\"line\":{\"color\":\"grey\",\"width\":1},\"type\":\"rect\",\"x0\":23.5,\"x1\":24.5,\"y0\":6.5,\"y1\":7.5},{\"line\":{\"color\":\"grey\",\"width\":1},\"type\":\"rect\",\"x0\":24.5,\"x1\":25.5,\"y0\":6.5,\"y1\":7.5},{\"line\":{\"color\":\"grey\",\"width\":1},\"type\":\"rect\",\"x0\":25.5,\"x1\":26.5,\"y0\":6.5,\"y1\":7.5},{\"line\":{\"color\":\"grey\",\"width\":1},\"type\":\"rect\",\"x0\":26.5,\"x1\":27.5,\"y0\":6.5,\"y1\":7.5},{\"line\":{\"color\":\"grey\",\"width\":1},\"type\":\"rect\",\"x0\":27.5,\"x1\":28.5,\"y0\":6.5,\"y1\":7.5},{\"line\":{\"color\":\"grey\",\"width\":1},\"type\":\"rect\",\"x0\":28.5,\"x1\":29.5,\"y0\":6.5,\"y1\":7.5},{\"line\":{\"color\":\"grey\",\"width\":1},\"type\":\"rect\",\"x0\":29.5,\"x1\":30.5,\"y0\":6.5,\"y1\":7.5},{\"line\":{\"color\":\"grey\",\"width\":1},\"type\":\"rect\",\"x0\":30.5,\"x1\":31.5,\"y0\":6.5,\"y1\":7.5},{\"line\":{\"color\":\"grey\",\"width\":1},\"type\":\"rect\",\"x0\":0.5,\"x1\":1.5,\"y0\":7.5,\"y1\":8.5},{\"line\":{\"color\":\"grey\",\"width\":1},\"type\":\"rect\",\"x0\":1.5,\"x1\":2.5,\"y0\":7.5,\"y1\":8.5},{\"line\":{\"color\":\"grey\",\"width\":1},\"type\":\"rect\",\"x0\":2.5,\"x1\":3.5,\"y0\":7.5,\"y1\":8.5},{\"line\":{\"color\":\"grey\",\"width\":1},\"type\":\"rect\",\"x0\":3.5,\"x1\":4.5,\"y0\":7.5,\"y1\":8.5},{\"line\":{\"color\":\"grey\",\"width\":1},\"type\":\"rect\",\"x0\":4.5,\"x1\":5.5,\"y0\":7.5,\"y1\":8.5},{\"line\":{\"color\":\"grey\",\"width\":1},\"type\":\"rect\",\"x0\":5.5,\"x1\":6.5,\"y0\":7.5,\"y1\":8.5},{\"line\":{\"color\":\"grey\",\"width\":1},\"type\":\"rect\",\"x0\":6.5,\"x1\":7.5,\"y0\":7.5,\"y1\":8.5},{\"line\":{\"color\":\"grey\",\"width\":1},\"type\":\"rect\",\"x0\":7.5,\"x1\":8.5,\"y0\":7.5,\"y1\":8.5},{\"line\":{\"color\":\"grey\",\"width\":1},\"type\":\"rect\",\"x0\":8.5,\"x1\":9.5,\"y0\":7.5,\"y1\":8.5},{\"line\":{\"color\":\"grey\",\"width\":1},\"type\":\"rect\",\"x0\":9.5,\"x1\":10.5,\"y0\":7.5,\"y1\":8.5},{\"line\":{\"color\":\"grey\",\"width\":1},\"type\":\"rect\",\"x0\":10.5,\"x1\":11.5,\"y0\":7.5,\"y1\":8.5},{\"line\":{\"color\":\"grey\",\"width\":1},\"type\":\"rect\",\"x0\":11.5,\"x1\":12.5,\"y0\":7.5,\"y1\":8.5},{\"line\":{\"color\":\"grey\",\"width\":1},\"type\":\"rect\",\"x0\":12.5,\"x1\":13.5,\"y0\":7.5,\"y1\":8.5},{\"line\":{\"color\":\"grey\",\"width\":1},\"type\":\"rect\",\"x0\":13.5,\"x1\":14.5,\"y0\":7.5,\"y1\":8.5},{\"line\":{\"color\":\"grey\",\"width\":1},\"type\":\"rect\",\"x0\":14.5,\"x1\":15.5,\"y0\":7.5,\"y1\":8.5},{\"line\":{\"color\":\"grey\",\"width\":1},\"type\":\"rect\",\"x0\":15.5,\"x1\":16.5,\"y0\":7.5,\"y1\":8.5},{\"line\":{\"color\":\"grey\",\"width\":1},\"type\":\"rect\",\"x0\":16.5,\"x1\":17.5,\"y0\":7.5,\"y1\":8.5},{\"line\":{\"color\":\"grey\",\"width\":1},\"type\":\"rect\",\"x0\":17.5,\"x1\":18.5,\"y0\":7.5,\"y1\":8.5},{\"line\":{\"color\":\"grey\",\"width\":1},\"type\":\"rect\",\"x0\":18.5,\"x1\":19.5,\"y0\":7.5,\"y1\":8.5},{\"line\":{\"color\":\"grey\",\"width\":1},\"type\":\"rect\",\"x0\":19.5,\"x1\":20.5,\"y0\":7.5,\"y1\":8.5},{\"line\":{\"color\":\"grey\",\"width\":1},\"type\":\"rect\",\"x0\":20.5,\"x1\":21.5,\"y0\":7.5,\"y1\":8.5},{\"line\":{\"color\":\"grey\",\"width\":1},\"type\":\"rect\",\"x0\":21.5,\"x1\":22.5,\"y0\":7.5,\"y1\":8.5},{\"line\":{\"color\":\"grey\",\"width\":1},\"type\":\"rect\",\"x0\":22.5,\"x1\":23.5,\"y0\":7.5,\"y1\":8.5},{\"line\":{\"color\":\"grey\",\"width\":1},\"type\":\"rect\",\"x0\":23.5,\"x1\":24.5,\"y0\":7.5,\"y1\":8.5},{\"line\":{\"color\":\"grey\",\"width\":1},\"type\":\"rect\",\"x0\":24.5,\"x1\":25.5,\"y0\":7.5,\"y1\":8.5},{\"line\":{\"color\":\"grey\",\"width\":1},\"type\":\"rect\",\"x0\":25.5,\"x1\":26.5,\"y0\":7.5,\"y1\":8.5},{\"line\":{\"color\":\"grey\",\"width\":1},\"type\":\"rect\",\"x0\":26.5,\"x1\":27.5,\"y0\":7.5,\"y1\":8.5},{\"line\":{\"color\":\"grey\",\"width\":1},\"type\":\"rect\",\"x0\":27.5,\"x1\":28.5,\"y0\":7.5,\"y1\":8.5},{\"line\":{\"color\":\"grey\",\"width\":1},\"type\":\"rect\",\"x0\":28.5,\"x1\":29.5,\"y0\":7.5,\"y1\":8.5},{\"line\":{\"color\":\"grey\",\"width\":1},\"type\":\"rect\",\"x0\":29.5,\"x1\":30.5,\"y0\":7.5,\"y1\":8.5},{\"line\":{\"color\":\"grey\",\"width\":1},\"type\":\"rect\",\"x0\":30.5,\"x1\":31.5,\"y0\":7.5,\"y1\":8.5},{\"line\":{\"color\":\"grey\",\"width\":1},\"type\":\"rect\",\"x0\":0.5,\"x1\":1.5,\"y0\":8.5,\"y1\":9.5},{\"line\":{\"color\":\"grey\",\"width\":1},\"type\":\"rect\",\"x0\":1.5,\"x1\":2.5,\"y0\":8.5,\"y1\":9.5},{\"line\":{\"color\":\"grey\",\"width\":1},\"type\":\"rect\",\"x0\":2.5,\"x1\":3.5,\"y0\":8.5,\"y1\":9.5},{\"line\":{\"color\":\"grey\",\"width\":1},\"type\":\"rect\",\"x0\":3.5,\"x1\":4.5,\"y0\":8.5,\"y1\":9.5},{\"line\":{\"color\":\"grey\",\"width\":1},\"type\":\"rect\",\"x0\":4.5,\"x1\":5.5,\"y0\":8.5,\"y1\":9.5},{\"line\":{\"color\":\"grey\",\"width\":1},\"type\":\"rect\",\"x0\":5.5,\"x1\":6.5,\"y0\":8.5,\"y1\":9.5},{\"line\":{\"color\":\"grey\",\"width\":1},\"type\":\"rect\",\"x0\":6.5,\"x1\":7.5,\"y0\":8.5,\"y1\":9.5},{\"line\":{\"color\":\"grey\",\"width\":1},\"type\":\"rect\",\"x0\":7.5,\"x1\":8.5,\"y0\":8.5,\"y1\":9.5},{\"line\":{\"color\":\"grey\",\"width\":1},\"type\":\"rect\",\"x0\":8.5,\"x1\":9.5,\"y0\":8.5,\"y1\":9.5},{\"line\":{\"color\":\"grey\",\"width\":1},\"type\":\"rect\",\"x0\":9.5,\"x1\":10.5,\"y0\":8.5,\"y1\":9.5},{\"line\":{\"color\":\"grey\",\"width\":1},\"type\":\"rect\",\"x0\":10.5,\"x1\":11.5,\"y0\":8.5,\"y1\":9.5},{\"line\":{\"color\":\"grey\",\"width\":1},\"type\":\"rect\",\"x0\":11.5,\"x1\":12.5,\"y0\":8.5,\"y1\":9.5},{\"line\":{\"color\":\"grey\",\"width\":1},\"type\":\"rect\",\"x0\":12.5,\"x1\":13.5,\"y0\":8.5,\"y1\":9.5},{\"line\":{\"color\":\"grey\",\"width\":1},\"type\":\"rect\",\"x0\":13.5,\"x1\":14.5,\"y0\":8.5,\"y1\":9.5},{\"line\":{\"color\":\"grey\",\"width\":1},\"type\":\"rect\",\"x0\":14.5,\"x1\":15.5,\"y0\":8.5,\"y1\":9.5},{\"line\":{\"color\":\"grey\",\"width\":1},\"type\":\"rect\",\"x0\":15.5,\"x1\":16.5,\"y0\":8.5,\"y1\":9.5},{\"line\":{\"color\":\"grey\",\"width\":1},\"type\":\"rect\",\"x0\":16.5,\"x1\":17.5,\"y0\":8.5,\"y1\":9.5},{\"line\":{\"color\":\"grey\",\"width\":1},\"type\":\"rect\",\"x0\":17.5,\"x1\":18.5,\"y0\":8.5,\"y1\":9.5},{\"line\":{\"color\":\"grey\",\"width\":1},\"type\":\"rect\",\"x0\":18.5,\"x1\":19.5,\"y0\":8.5,\"y1\":9.5},{\"line\":{\"color\":\"grey\",\"width\":1},\"type\":\"rect\",\"x0\":19.5,\"x1\":20.5,\"y0\":8.5,\"y1\":9.5},{\"line\":{\"color\":\"grey\",\"width\":1},\"type\":\"rect\",\"x0\":20.5,\"x1\":21.5,\"y0\":8.5,\"y1\":9.5},{\"line\":{\"color\":\"grey\",\"width\":1},\"type\":\"rect\",\"x0\":21.5,\"x1\":22.5,\"y0\":8.5,\"y1\":9.5},{\"line\":{\"color\":\"grey\",\"width\":1},\"type\":\"rect\",\"x0\":22.5,\"x1\":23.5,\"y0\":8.5,\"y1\":9.5},{\"line\":{\"color\":\"grey\",\"width\":1},\"type\":\"rect\",\"x0\":23.5,\"x1\":24.5,\"y0\":8.5,\"y1\":9.5},{\"line\":{\"color\":\"grey\",\"width\":1},\"type\":\"rect\",\"x0\":24.5,\"x1\":25.5,\"y0\":8.5,\"y1\":9.5},{\"line\":{\"color\":\"grey\",\"width\":1},\"type\":\"rect\",\"x0\":25.5,\"x1\":26.5,\"y0\":8.5,\"y1\":9.5},{\"line\":{\"color\":\"grey\",\"width\":1},\"type\":\"rect\",\"x0\":26.5,\"x1\":27.5,\"y0\":8.5,\"y1\":9.5},{\"line\":{\"color\":\"grey\",\"width\":1},\"type\":\"rect\",\"x0\":27.5,\"x1\":28.5,\"y0\":8.5,\"y1\":9.5},{\"line\":{\"color\":\"grey\",\"width\":1},\"type\":\"rect\",\"x0\":28.5,\"x1\":29.5,\"y0\":8.5,\"y1\":9.5},{\"line\":{\"color\":\"grey\",\"width\":1},\"type\":\"rect\",\"x0\":29.5,\"x1\":30.5,\"y0\":8.5,\"y1\":9.5},{\"line\":{\"color\":\"grey\",\"width\":1},\"type\":\"rect\",\"x0\":30.5,\"x1\":31.5,\"y0\":8.5,\"y1\":9.5},{\"line\":{\"color\":\"grey\",\"width\":1},\"type\":\"rect\",\"x0\":0.5,\"x1\":1.5,\"y0\":9.5,\"y1\":10.5},{\"line\":{\"color\":\"grey\",\"width\":1},\"type\":\"rect\",\"x0\":1.5,\"x1\":2.5,\"y0\":9.5,\"y1\":10.5},{\"line\":{\"color\":\"grey\",\"width\":1},\"type\":\"rect\",\"x0\":2.5,\"x1\":3.5,\"y0\":9.5,\"y1\":10.5},{\"line\":{\"color\":\"grey\",\"width\":1},\"type\":\"rect\",\"x0\":3.5,\"x1\":4.5,\"y0\":9.5,\"y1\":10.5},{\"line\":{\"color\":\"grey\",\"width\":1},\"type\":\"rect\",\"x0\":4.5,\"x1\":5.5,\"y0\":9.5,\"y1\":10.5},{\"line\":{\"color\":\"grey\",\"width\":1},\"type\":\"rect\",\"x0\":5.5,\"x1\":6.5,\"y0\":9.5,\"y1\":10.5},{\"line\":{\"color\":\"grey\",\"width\":1},\"type\":\"rect\",\"x0\":6.5,\"x1\":7.5,\"y0\":9.5,\"y1\":10.5},{\"line\":{\"color\":\"grey\",\"width\":1},\"type\":\"rect\",\"x0\":7.5,\"x1\":8.5,\"y0\":9.5,\"y1\":10.5},{\"line\":{\"color\":\"grey\",\"width\":1},\"type\":\"rect\",\"x0\":8.5,\"x1\":9.5,\"y0\":9.5,\"y1\":10.5},{\"line\":{\"color\":\"grey\",\"width\":1},\"type\":\"rect\",\"x0\":9.5,\"x1\":10.5,\"y0\":9.5,\"y1\":10.5},{\"line\":{\"color\":\"grey\",\"width\":1},\"type\":\"rect\",\"x0\":10.5,\"x1\":11.5,\"y0\":9.5,\"y1\":10.5},{\"line\":{\"color\":\"grey\",\"width\":1},\"type\":\"rect\",\"x0\":11.5,\"x1\":12.5,\"y0\":9.5,\"y1\":10.5},{\"line\":{\"color\":\"grey\",\"width\":1},\"type\":\"rect\",\"x0\":12.5,\"x1\":13.5,\"y0\":9.5,\"y1\":10.5},{\"line\":{\"color\":\"grey\",\"width\":1},\"type\":\"rect\",\"x0\":13.5,\"x1\":14.5,\"y0\":9.5,\"y1\":10.5},{\"line\":{\"color\":\"grey\",\"width\":1},\"type\":\"rect\",\"x0\":14.5,\"x1\":15.5,\"y0\":9.5,\"y1\":10.5},{\"line\":{\"color\":\"grey\",\"width\":1},\"type\":\"rect\",\"x0\":15.5,\"x1\":16.5,\"y0\":9.5,\"y1\":10.5},{\"line\":{\"color\":\"grey\",\"width\":1},\"type\":\"rect\",\"x0\":16.5,\"x1\":17.5,\"y0\":9.5,\"y1\":10.5},{\"line\":{\"color\":\"grey\",\"width\":1},\"type\":\"rect\",\"x0\":17.5,\"x1\":18.5,\"y0\":9.5,\"y1\":10.5},{\"line\":{\"color\":\"grey\",\"width\":1},\"type\":\"rect\",\"x0\":18.5,\"x1\":19.5,\"y0\":9.5,\"y1\":10.5},{\"line\":{\"color\":\"grey\",\"width\":1},\"type\":\"rect\",\"x0\":19.5,\"x1\":20.5,\"y0\":9.5,\"y1\":10.5},{\"line\":{\"color\":\"grey\",\"width\":1},\"type\":\"rect\",\"x0\":20.5,\"x1\":21.5,\"y0\":9.5,\"y1\":10.5},{\"line\":{\"color\":\"grey\",\"width\":1},\"type\":\"rect\",\"x0\":21.5,\"x1\":22.5,\"y0\":9.5,\"y1\":10.5},{\"line\":{\"color\":\"grey\",\"width\":1},\"type\":\"rect\",\"x0\":22.5,\"x1\":23.5,\"y0\":9.5,\"y1\":10.5},{\"line\":{\"color\":\"grey\",\"width\":1},\"type\":\"rect\",\"x0\":23.5,\"x1\":24.5,\"y0\":9.5,\"y1\":10.5},{\"line\":{\"color\":\"grey\",\"width\":1},\"type\":\"rect\",\"x0\":24.5,\"x1\":25.5,\"y0\":9.5,\"y1\":10.5},{\"line\":{\"color\":\"grey\",\"width\":1},\"type\":\"rect\",\"x0\":25.5,\"x1\":26.5,\"y0\":9.5,\"y1\":10.5},{\"line\":{\"color\":\"grey\",\"width\":1},\"type\":\"rect\",\"x0\":26.5,\"x1\":27.5,\"y0\":9.5,\"y1\":10.5},{\"line\":{\"color\":\"grey\",\"width\":1},\"type\":\"rect\",\"x0\":27.5,\"x1\":28.5,\"y0\":9.5,\"y1\":10.5},{\"line\":{\"color\":\"grey\",\"width\":1},\"type\":\"rect\",\"x0\":28.5,\"x1\":29.5,\"y0\":9.5,\"y1\":10.5},{\"line\":{\"color\":\"grey\",\"width\":1},\"type\":\"rect\",\"x0\":29.5,\"x1\":30.5,\"y0\":9.5,\"y1\":10.5},{\"line\":{\"color\":\"grey\",\"width\":1},\"type\":\"rect\",\"x0\":30.5,\"x1\":31.5,\"y0\":9.5,\"y1\":10.5},{\"line\":{\"color\":\"grey\",\"width\":1},\"type\":\"rect\",\"x0\":0.5,\"x1\":1.5,\"y0\":10.5,\"y1\":11.5},{\"line\":{\"color\":\"grey\",\"width\":1},\"type\":\"rect\",\"x0\":1.5,\"x1\":2.5,\"y0\":10.5,\"y1\":11.5},{\"line\":{\"color\":\"grey\",\"width\":1},\"type\":\"rect\",\"x0\":2.5,\"x1\":3.5,\"y0\":10.5,\"y1\":11.5},{\"line\":{\"color\":\"grey\",\"width\":1},\"type\":\"rect\",\"x0\":3.5,\"x1\":4.5,\"y0\":10.5,\"y1\":11.5},{\"line\":{\"color\":\"grey\",\"width\":1},\"type\":\"rect\",\"x0\":4.5,\"x1\":5.5,\"y0\":10.5,\"y1\":11.5},{\"line\":{\"color\":\"grey\",\"width\":1},\"type\":\"rect\",\"x0\":5.5,\"x1\":6.5,\"y0\":10.5,\"y1\":11.5},{\"line\":{\"color\":\"grey\",\"width\":1},\"type\":\"rect\",\"x0\":6.5,\"x1\":7.5,\"y0\":10.5,\"y1\":11.5},{\"line\":{\"color\":\"grey\",\"width\":1},\"type\":\"rect\",\"x0\":7.5,\"x1\":8.5,\"y0\":10.5,\"y1\":11.5},{\"line\":{\"color\":\"grey\",\"width\":1},\"type\":\"rect\",\"x0\":8.5,\"x1\":9.5,\"y0\":10.5,\"y1\":11.5},{\"line\":{\"color\":\"grey\",\"width\":1},\"type\":\"rect\",\"x0\":9.5,\"x1\":10.5,\"y0\":10.5,\"y1\":11.5},{\"line\":{\"color\":\"grey\",\"width\":1},\"type\":\"rect\",\"x0\":10.5,\"x1\":11.5,\"y0\":10.5,\"y1\":11.5},{\"line\":{\"color\":\"grey\",\"width\":1},\"type\":\"rect\",\"x0\":11.5,\"x1\":12.5,\"y0\":10.5,\"y1\":11.5},{\"line\":{\"color\":\"grey\",\"width\":1},\"type\":\"rect\",\"x0\":12.5,\"x1\":13.5,\"y0\":10.5,\"y1\":11.5},{\"line\":{\"color\":\"grey\",\"width\":1},\"type\":\"rect\",\"x0\":13.5,\"x1\":14.5,\"y0\":10.5,\"y1\":11.5},{\"line\":{\"color\":\"grey\",\"width\":1},\"type\":\"rect\",\"x0\":14.5,\"x1\":15.5,\"y0\":10.5,\"y1\":11.5},{\"line\":{\"color\":\"grey\",\"width\":1},\"type\":\"rect\",\"x0\":15.5,\"x1\":16.5,\"y0\":10.5,\"y1\":11.5},{\"line\":{\"color\":\"grey\",\"width\":1},\"type\":\"rect\",\"x0\":16.5,\"x1\":17.5,\"y0\":10.5,\"y1\":11.5},{\"line\":{\"color\":\"grey\",\"width\":1},\"type\":\"rect\",\"x0\":17.5,\"x1\":18.5,\"y0\":10.5,\"y1\":11.5},{\"line\":{\"color\":\"grey\",\"width\":1},\"type\":\"rect\",\"x0\":18.5,\"x1\":19.5,\"y0\":10.5,\"y1\":11.5},{\"line\":{\"color\":\"grey\",\"width\":1},\"type\":\"rect\",\"x0\":19.5,\"x1\":20.5,\"y0\":10.5,\"y1\":11.5},{\"line\":{\"color\":\"grey\",\"width\":1},\"type\":\"rect\",\"x0\":20.5,\"x1\":21.5,\"y0\":10.5,\"y1\":11.5},{\"line\":{\"color\":\"grey\",\"width\":1},\"type\":\"rect\",\"x0\":21.5,\"x1\":22.5,\"y0\":10.5,\"y1\":11.5},{\"line\":{\"color\":\"grey\",\"width\":1},\"type\":\"rect\",\"x0\":22.5,\"x1\":23.5,\"y0\":10.5,\"y1\":11.5},{\"line\":{\"color\":\"grey\",\"width\":1},\"type\":\"rect\",\"x0\":23.5,\"x1\":24.5,\"y0\":10.5,\"y1\":11.5},{\"line\":{\"color\":\"grey\",\"width\":1},\"type\":\"rect\",\"x0\":24.5,\"x1\":25.5,\"y0\":10.5,\"y1\":11.5},{\"line\":{\"color\":\"grey\",\"width\":1},\"type\":\"rect\",\"x0\":25.5,\"x1\":26.5,\"y0\":10.5,\"y1\":11.5},{\"line\":{\"color\":\"grey\",\"width\":1},\"type\":\"rect\",\"x0\":26.5,\"x1\":27.5,\"y0\":10.5,\"y1\":11.5},{\"line\":{\"color\":\"grey\",\"width\":1},\"type\":\"rect\",\"x0\":27.5,\"x1\":28.5,\"y0\":10.5,\"y1\":11.5},{\"line\":{\"color\":\"grey\",\"width\":1},\"type\":\"rect\",\"x0\":28.5,\"x1\":29.5,\"y0\":10.5,\"y1\":11.5},{\"line\":{\"color\":\"grey\",\"width\":1},\"type\":\"rect\",\"x0\":29.5,\"x1\":30.5,\"y0\":10.5,\"y1\":11.5},{\"line\":{\"color\":\"grey\",\"width\":1},\"type\":\"rect\",\"x0\":30.5,\"x1\":31.5,\"y0\":10.5,\"y1\":11.5},{\"line\":{\"color\":\"grey\",\"width\":1},\"type\":\"rect\",\"x0\":0.5,\"x1\":1.5,\"y0\":11.5,\"y1\":12.5},{\"line\":{\"color\":\"grey\",\"width\":1},\"type\":\"rect\",\"x0\":1.5,\"x1\":2.5,\"y0\":11.5,\"y1\":12.5},{\"line\":{\"color\":\"grey\",\"width\":1},\"type\":\"rect\",\"x0\":2.5,\"x1\":3.5,\"y0\":11.5,\"y1\":12.5},{\"line\":{\"color\":\"grey\",\"width\":1},\"type\":\"rect\",\"x0\":3.5,\"x1\":4.5,\"y0\":11.5,\"y1\":12.5},{\"line\":{\"color\":\"grey\",\"width\":1},\"type\":\"rect\",\"x0\":4.5,\"x1\":5.5,\"y0\":11.5,\"y1\":12.5},{\"line\":{\"color\":\"grey\",\"width\":1},\"type\":\"rect\",\"x0\":5.5,\"x1\":6.5,\"y0\":11.5,\"y1\":12.5},{\"line\":{\"color\":\"grey\",\"width\":1},\"type\":\"rect\",\"x0\":6.5,\"x1\":7.5,\"y0\":11.5,\"y1\":12.5},{\"line\":{\"color\":\"grey\",\"width\":1},\"type\":\"rect\",\"x0\":7.5,\"x1\":8.5,\"y0\":11.5,\"y1\":12.5},{\"line\":{\"color\":\"grey\",\"width\":1},\"type\":\"rect\",\"x0\":8.5,\"x1\":9.5,\"y0\":11.5,\"y1\":12.5},{\"line\":{\"color\":\"grey\",\"width\":1},\"type\":\"rect\",\"x0\":9.5,\"x1\":10.5,\"y0\":11.5,\"y1\":12.5},{\"line\":{\"color\":\"grey\",\"width\":1},\"type\":\"rect\",\"x0\":10.5,\"x1\":11.5,\"y0\":11.5,\"y1\":12.5},{\"line\":{\"color\":\"grey\",\"width\":1},\"type\":\"rect\",\"x0\":11.5,\"x1\":12.5,\"y0\":11.5,\"y1\":12.5},{\"line\":{\"color\":\"grey\",\"width\":1},\"type\":\"rect\",\"x0\":12.5,\"x1\":13.5,\"y0\":11.5,\"y1\":12.5},{\"line\":{\"color\":\"grey\",\"width\":1},\"type\":\"rect\",\"x0\":13.5,\"x1\":14.5,\"y0\":11.5,\"y1\":12.5},{\"line\":{\"color\":\"grey\",\"width\":1},\"type\":\"rect\",\"x0\":14.5,\"x1\":15.5,\"y0\":11.5,\"y1\":12.5},{\"line\":{\"color\":\"grey\",\"width\":1},\"type\":\"rect\",\"x0\":15.5,\"x1\":16.5,\"y0\":11.5,\"y1\":12.5},{\"line\":{\"color\":\"grey\",\"width\":1},\"type\":\"rect\",\"x0\":16.5,\"x1\":17.5,\"y0\":11.5,\"y1\":12.5},{\"line\":{\"color\":\"grey\",\"width\":1},\"type\":\"rect\",\"x0\":17.5,\"x1\":18.5,\"y0\":11.5,\"y1\":12.5},{\"line\":{\"color\":\"grey\",\"width\":1},\"type\":\"rect\",\"x0\":18.5,\"x1\":19.5,\"y0\":11.5,\"y1\":12.5},{\"line\":{\"color\":\"grey\",\"width\":1},\"type\":\"rect\",\"x0\":19.5,\"x1\":20.5,\"y0\":11.5,\"y1\":12.5},{\"line\":{\"color\":\"grey\",\"width\":1},\"type\":\"rect\",\"x0\":20.5,\"x1\":21.5,\"y0\":11.5,\"y1\":12.5},{\"line\":{\"color\":\"grey\",\"width\":1},\"type\":\"rect\",\"x0\":21.5,\"x1\":22.5,\"y0\":11.5,\"y1\":12.5},{\"line\":{\"color\":\"grey\",\"width\":1},\"type\":\"rect\",\"x0\":22.5,\"x1\":23.5,\"y0\":11.5,\"y1\":12.5},{\"line\":{\"color\":\"grey\",\"width\":1},\"type\":\"rect\",\"x0\":23.5,\"x1\":24.5,\"y0\":11.5,\"y1\":12.5},{\"line\":{\"color\":\"grey\",\"width\":1},\"type\":\"rect\",\"x0\":24.5,\"x1\":25.5,\"y0\":11.5,\"y1\":12.5},{\"line\":{\"color\":\"grey\",\"width\":1},\"type\":\"rect\",\"x0\":25.5,\"x1\":26.5,\"y0\":11.5,\"y1\":12.5},{\"line\":{\"color\":\"grey\",\"width\":1},\"type\":\"rect\",\"x0\":26.5,\"x1\":27.5,\"y0\":11.5,\"y1\":12.5},{\"line\":{\"color\":\"grey\",\"width\":1},\"type\":\"rect\",\"x0\":27.5,\"x1\":28.5,\"y0\":11.5,\"y1\":12.5},{\"line\":{\"color\":\"grey\",\"width\":1},\"type\":\"rect\",\"x0\":28.5,\"x1\":29.5,\"y0\":11.5,\"y1\":12.5},{\"line\":{\"color\":\"grey\",\"width\":1},\"type\":\"rect\",\"x0\":29.5,\"x1\":30.5,\"y0\":11.5,\"y1\":12.5},{\"line\":{\"color\":\"grey\",\"width\":1},\"type\":\"rect\",\"x0\":30.5,\"x1\":31.5,\"y0\":11.5,\"y1\":12.5}],\"height\":500,\"width\":1000},                        {\"responsive\": true}                    ).then(function(){\n",
       "                            \n",
       "var gd = document.getElementById('db7903bd-e0b3-4715-bc87-5fa001d4252d');\n",
       "var x = new MutationObserver(function (mutations, observer) {{\n",
       "        var display = window.getComputedStyle(gd).display;\n",
       "        if (!display || display === 'none') {{\n",
       "            console.log([gd, 'removed!']);\n",
       "            Plotly.purge(gd);\n",
       "            observer.disconnect();\n",
       "        }}\n",
       "}});\n",
       "\n",
       "// Listen for the removal of the full notebook cells\n",
       "var notebookContainer = gd.closest('#notebook-container');\n",
       "if (notebookContainer) {{\n",
       "    x.observe(notebookContainer, {childList: true});\n",
       "}}\n",
       "\n",
       "// Listen for the clearing of the current output cell\n",
       "var outputEl = gd.closest('.output');\n",
       "if (outputEl) {{\n",
       "    x.observe(outputEl, {childList: true});\n",
       "}}\n",
       "\n",
       "                        })                };                });            </script>        </div>"
      ]
     },
     "metadata": {},
     "output_type": "display_data"
    }
   ],
   "source": [
    "# heatmap --- analysis of expenses by day and month\n",
    "df = pd.read_csv('data/startup.csv')\n",
    "df = process_loaded_data(df)\n",
    "df = preprocess_heatmap(df)\n",
    "plot_heatmap(df, 2018)"
   ]
  },
  {
   "cell_type": "code",
   "execution_count": 227,
   "id": "550ca168-fb6c-4d1f-aa0f-559e53eeb904",
   "metadata": {},
   "outputs": [
    {
     "data": {
      "application/vnd.plotly.v1+json": {
       "config": {
        "plotlyServerURL": "https://plot.ly"
       },
       "data": [
        {
         "branchvalues": "total",
         "domain": {
          "x": [
           0,
           1
          ],
          "y": [
           0,
           1
          ]
         },
         "hovertemplate": "labels=%{label}<br>Value=%{value}<br>parent=%{parent}<br>id=%{id}<extra></extra>",
         "ids": [
          "Year: 2018/Consumables",
          "Year: 2018/Equipment",
          "Year: 2018/Interdepartment Expenditure",
          "Year: 2018/Low Value Equipment",
          "Year: 2018/Training & Miscellaneous",
          "Year: 2018"
         ],
         "labels": [
          "Consumables",
          "Equipment",
          "Interdepartment Expenditure",
          "Low Value Equipment",
          "Training & Miscellaneous",
          "Year: 2018"
         ],
         "name": "",
         "parents": [
          "Year: 2018",
          "Year: 2018",
          "Year: 2018",
          "Year: 2018",
          "Year: 2018",
          ""
         ],
         "root": {
          "color": "lightgrey"
         },
         "type": "treemap",
         "values": [
          72638.22,
          24329.66,
          6879.95,
          15062.8,
          1992.72,
          120903.35
         ]
        }
       ],
       "layout": {
        "height": 800,
        "legend": {
         "tracegroupgap": 0
        },
        "margin": {
         "b": 25,
         "l": 25,
         "r": 25,
         "t": 50
        },
        "template": {
         "data": {
          "bar": [
           {
            "error_x": {
             "color": "#f2f5fa"
            },
            "error_y": {
             "color": "#f2f5fa"
            },
            "marker": {
             "line": {
              "color": "rgb(17,17,17)",
              "width": 0.5
             },
             "pattern": {
              "fillmode": "overlay",
              "size": 10,
              "solidity": 0.2
             }
            },
            "type": "bar"
           }
          ],
          "barpolar": [
           {
            "marker": {
             "line": {
              "color": "rgb(17,17,17)",
              "width": 0.5
             },
             "pattern": {
              "fillmode": "overlay",
              "size": 10,
              "solidity": 0.2
             }
            },
            "type": "barpolar"
           }
          ],
          "carpet": [
           {
            "aaxis": {
             "endlinecolor": "#A2B1C6",
             "gridcolor": "#506784",
             "linecolor": "#506784",
             "minorgridcolor": "#506784",
             "startlinecolor": "#A2B1C6"
            },
            "baxis": {
             "endlinecolor": "#A2B1C6",
             "gridcolor": "#506784",
             "linecolor": "#506784",
             "minorgridcolor": "#506784",
             "startlinecolor": "#A2B1C6"
            },
            "type": "carpet"
           }
          ],
          "choropleth": [
           {
            "colorbar": {
             "outlinewidth": 0,
             "ticks": ""
            },
            "type": "choropleth"
           }
          ],
          "contour": [
           {
            "colorbar": {
             "outlinewidth": 0,
             "ticks": ""
            },
            "colorscale": [
             [
              0,
              "#0d0887"
             ],
             [
              0.1111111111111111,
              "#46039f"
             ],
             [
              0.2222222222222222,
              "#7201a8"
             ],
             [
              0.3333333333333333,
              "#9c179e"
             ],
             [
              0.4444444444444444,
              "#bd3786"
             ],
             [
              0.5555555555555556,
              "#d8576b"
             ],
             [
              0.6666666666666666,
              "#ed7953"
             ],
             [
              0.7777777777777778,
              "#fb9f3a"
             ],
             [
              0.8888888888888888,
              "#fdca26"
             ],
             [
              1,
              "#f0f921"
             ]
            ],
            "type": "contour"
           }
          ],
          "contourcarpet": [
           {
            "colorbar": {
             "outlinewidth": 0,
             "ticks": ""
            },
            "type": "contourcarpet"
           }
          ],
          "heatmap": [
           {
            "colorbar": {
             "outlinewidth": 0,
             "ticks": ""
            },
            "colorscale": [
             [
              0,
              "#0d0887"
             ],
             [
              0.1111111111111111,
              "#46039f"
             ],
             [
              0.2222222222222222,
              "#7201a8"
             ],
             [
              0.3333333333333333,
              "#9c179e"
             ],
             [
              0.4444444444444444,
              "#bd3786"
             ],
             [
              0.5555555555555556,
              "#d8576b"
             ],
             [
              0.6666666666666666,
              "#ed7953"
             ],
             [
              0.7777777777777778,
              "#fb9f3a"
             ],
             [
              0.8888888888888888,
              "#fdca26"
             ],
             [
              1,
              "#f0f921"
             ]
            ],
            "type": "heatmap"
           }
          ],
          "heatmapgl": [
           {
            "colorbar": {
             "outlinewidth": 0,
             "ticks": ""
            },
            "colorscale": [
             [
              0,
              "#0d0887"
             ],
             [
              0.1111111111111111,
              "#46039f"
             ],
             [
              0.2222222222222222,
              "#7201a8"
             ],
             [
              0.3333333333333333,
              "#9c179e"
             ],
             [
              0.4444444444444444,
              "#bd3786"
             ],
             [
              0.5555555555555556,
              "#d8576b"
             ],
             [
              0.6666666666666666,
              "#ed7953"
             ],
             [
              0.7777777777777778,
              "#fb9f3a"
             ],
             [
              0.8888888888888888,
              "#fdca26"
             ],
             [
              1,
              "#f0f921"
             ]
            ],
            "type": "heatmapgl"
           }
          ],
          "histogram": [
           {
            "marker": {
             "pattern": {
              "fillmode": "overlay",
              "size": 10,
              "solidity": 0.2
             }
            },
            "type": "histogram"
           }
          ],
          "histogram2d": [
           {
            "colorbar": {
             "outlinewidth": 0,
             "ticks": ""
            },
            "colorscale": [
             [
              0,
              "#0d0887"
             ],
             [
              0.1111111111111111,
              "#46039f"
             ],
             [
              0.2222222222222222,
              "#7201a8"
             ],
             [
              0.3333333333333333,
              "#9c179e"
             ],
             [
              0.4444444444444444,
              "#bd3786"
             ],
             [
              0.5555555555555556,
              "#d8576b"
             ],
             [
              0.6666666666666666,
              "#ed7953"
             ],
             [
              0.7777777777777778,
              "#fb9f3a"
             ],
             [
              0.8888888888888888,
              "#fdca26"
             ],
             [
              1,
              "#f0f921"
             ]
            ],
            "type": "histogram2d"
           }
          ],
          "histogram2dcontour": [
           {
            "colorbar": {
             "outlinewidth": 0,
             "ticks": ""
            },
            "colorscale": [
             [
              0,
              "#0d0887"
             ],
             [
              0.1111111111111111,
              "#46039f"
             ],
             [
              0.2222222222222222,
              "#7201a8"
             ],
             [
              0.3333333333333333,
              "#9c179e"
             ],
             [
              0.4444444444444444,
              "#bd3786"
             ],
             [
              0.5555555555555556,
              "#d8576b"
             ],
             [
              0.6666666666666666,
              "#ed7953"
             ],
             [
              0.7777777777777778,
              "#fb9f3a"
             ],
             [
              0.8888888888888888,
              "#fdca26"
             ],
             [
              1,
              "#f0f921"
             ]
            ],
            "type": "histogram2dcontour"
           }
          ],
          "mesh3d": [
           {
            "colorbar": {
             "outlinewidth": 0,
             "ticks": ""
            },
            "type": "mesh3d"
           }
          ],
          "parcoords": [
           {
            "line": {
             "colorbar": {
              "outlinewidth": 0,
              "ticks": ""
             }
            },
            "type": "parcoords"
           }
          ],
          "pie": [
           {
            "automargin": true,
            "type": "pie"
           }
          ],
          "scatter": [
           {
            "marker": {
             "line": {
              "color": "#283442"
             }
            },
            "type": "scatter"
           }
          ],
          "scatter3d": [
           {
            "line": {
             "colorbar": {
              "outlinewidth": 0,
              "ticks": ""
             }
            },
            "marker": {
             "colorbar": {
              "outlinewidth": 0,
              "ticks": ""
             }
            },
            "type": "scatter3d"
           }
          ],
          "scattercarpet": [
           {
            "marker": {
             "colorbar": {
              "outlinewidth": 0,
              "ticks": ""
             }
            },
            "type": "scattercarpet"
           }
          ],
          "scattergeo": [
           {
            "marker": {
             "colorbar": {
              "outlinewidth": 0,
              "ticks": ""
             }
            },
            "type": "scattergeo"
           }
          ],
          "scattergl": [
           {
            "marker": {
             "line": {
              "color": "#283442"
             }
            },
            "type": "scattergl"
           }
          ],
          "scattermapbox": [
           {
            "marker": {
             "colorbar": {
              "outlinewidth": 0,
              "ticks": ""
             }
            },
            "type": "scattermapbox"
           }
          ],
          "scatterpolar": [
           {
            "marker": {
             "colorbar": {
              "outlinewidth": 0,
              "ticks": ""
             }
            },
            "type": "scatterpolar"
           }
          ],
          "scatterpolargl": [
           {
            "marker": {
             "colorbar": {
              "outlinewidth": 0,
              "ticks": ""
             }
            },
            "type": "scatterpolargl"
           }
          ],
          "scatterternary": [
           {
            "marker": {
             "colorbar": {
              "outlinewidth": 0,
              "ticks": ""
             }
            },
            "type": "scatterternary"
           }
          ],
          "surface": [
           {
            "colorbar": {
             "outlinewidth": 0,
             "ticks": ""
            },
            "colorscale": [
             [
              0,
              "#0d0887"
             ],
             [
              0.1111111111111111,
              "#46039f"
             ],
             [
              0.2222222222222222,
              "#7201a8"
             ],
             [
              0.3333333333333333,
              "#9c179e"
             ],
             [
              0.4444444444444444,
              "#bd3786"
             ],
             [
              0.5555555555555556,
              "#d8576b"
             ],
             [
              0.6666666666666666,
              "#ed7953"
             ],
             [
              0.7777777777777778,
              "#fb9f3a"
             ],
             [
              0.8888888888888888,
              "#fdca26"
             ],
             [
              1,
              "#f0f921"
             ]
            ],
            "type": "surface"
           }
          ],
          "table": [
           {
            "cells": {
             "fill": {
              "color": "#506784"
             },
             "line": {
              "color": "rgb(17,17,17)"
             }
            },
            "header": {
             "fill": {
              "color": "#2a3f5f"
             },
             "line": {
              "color": "rgb(17,17,17)"
             }
            },
            "type": "table"
           }
          ]
         },
         "layout": {
          "annotationdefaults": {
           "arrowcolor": "#f2f5fa",
           "arrowhead": 0,
           "arrowwidth": 1
          },
          "autotypenumbers": "strict",
          "coloraxis": {
           "colorbar": {
            "outlinewidth": 0,
            "ticks": ""
           }
          },
          "colorscale": {
           "diverging": [
            [
             0,
             "#8e0152"
            ],
            [
             0.1,
             "#c51b7d"
            ],
            [
             0.2,
             "#de77ae"
            ],
            [
             0.3,
             "#f1b6da"
            ],
            [
             0.4,
             "#fde0ef"
            ],
            [
             0.5,
             "#f7f7f7"
            ],
            [
             0.6,
             "#e6f5d0"
            ],
            [
             0.7,
             "#b8e186"
            ],
            [
             0.8,
             "#7fbc41"
            ],
            [
             0.9,
             "#4d9221"
            ],
            [
             1,
             "#276419"
            ]
           ],
           "sequential": [
            [
             0,
             "#0d0887"
            ],
            [
             0.1111111111111111,
             "#46039f"
            ],
            [
             0.2222222222222222,
             "#7201a8"
            ],
            [
             0.3333333333333333,
             "#9c179e"
            ],
            [
             0.4444444444444444,
             "#bd3786"
            ],
            [
             0.5555555555555556,
             "#d8576b"
            ],
            [
             0.6666666666666666,
             "#ed7953"
            ],
            [
             0.7777777777777778,
             "#fb9f3a"
            ],
            [
             0.8888888888888888,
             "#fdca26"
            ],
            [
             1,
             "#f0f921"
            ]
           ],
           "sequentialminus": [
            [
             0,
             "#0d0887"
            ],
            [
             0.1111111111111111,
             "#46039f"
            ],
            [
             0.2222222222222222,
             "#7201a8"
            ],
            [
             0.3333333333333333,
             "#9c179e"
            ],
            [
             0.4444444444444444,
             "#bd3786"
            ],
            [
             0.5555555555555556,
             "#d8576b"
            ],
            [
             0.6666666666666666,
             "#ed7953"
            ],
            [
             0.7777777777777778,
             "#fb9f3a"
            ],
            [
             0.8888888888888888,
             "#fdca26"
            ],
            [
             1,
             "#f0f921"
            ]
           ]
          },
          "colorway": [
           "#636efa",
           "#EF553B",
           "#00cc96",
           "#ab63fa",
           "#FFA15A",
           "#19d3f3",
           "#FF6692",
           "#B6E880",
           "#FF97FF",
           "#FECB52"
          ],
          "font": {
           "color": "#f2f5fa"
          },
          "geo": {
           "bgcolor": "rgb(17,17,17)",
           "lakecolor": "rgb(17,17,17)",
           "landcolor": "rgb(17,17,17)",
           "showlakes": true,
           "showland": true,
           "subunitcolor": "#506784"
          },
          "hoverlabel": {
           "align": "left"
          },
          "hovermode": "closest",
          "mapbox": {
           "style": "dark"
          },
          "paper_bgcolor": "rgb(17,17,17)",
          "plot_bgcolor": "rgb(17,17,17)",
          "polar": {
           "angularaxis": {
            "gridcolor": "#506784",
            "linecolor": "#506784",
            "ticks": ""
           },
           "bgcolor": "rgb(17,17,17)",
           "radialaxis": {
            "gridcolor": "#506784",
            "linecolor": "#506784",
            "ticks": ""
           }
          },
          "scene": {
           "xaxis": {
            "backgroundcolor": "rgb(17,17,17)",
            "gridcolor": "#506784",
            "gridwidth": 2,
            "linecolor": "#506784",
            "showbackground": true,
            "ticks": "",
            "zerolinecolor": "#C8D4E3"
           },
           "yaxis": {
            "backgroundcolor": "rgb(17,17,17)",
            "gridcolor": "#506784",
            "gridwidth": 2,
            "linecolor": "#506784",
            "showbackground": true,
            "ticks": "",
            "zerolinecolor": "#C8D4E3"
           },
           "zaxis": {
            "backgroundcolor": "rgb(17,17,17)",
            "gridcolor": "#506784",
            "gridwidth": 2,
            "linecolor": "#506784",
            "showbackground": true,
            "ticks": "",
            "zerolinecolor": "#C8D4E3"
           }
          },
          "shapedefaults": {
           "line": {
            "color": "#f2f5fa"
           }
          },
          "sliderdefaults": {
           "bgcolor": "#C8D4E3",
           "bordercolor": "rgb(17,17,17)",
           "borderwidth": 1,
           "tickwidth": 0
          },
          "ternary": {
           "aaxis": {
            "gridcolor": "#506784",
            "linecolor": "#506784",
            "ticks": ""
           },
           "baxis": {
            "gridcolor": "#506784",
            "linecolor": "#506784",
            "ticks": ""
           },
           "bgcolor": "rgb(17,17,17)",
           "caxis": {
            "gridcolor": "#506784",
            "linecolor": "#506784",
            "ticks": ""
           }
          },
          "title": {
           "x": 0.05
          },
          "updatemenudefaults": {
           "bgcolor": "#506784",
           "borderwidth": 0
          },
          "xaxis": {
           "automargin": true,
           "gridcolor": "#283442",
           "linecolor": "#506784",
           "ticks": "",
           "title": {
            "standoff": 15
           },
           "zerolinecolor": "#283442",
           "zerolinewidth": 2
          },
          "yaxis": {
           "automargin": true,
           "gridcolor": "#283442",
           "linecolor": "#506784",
           "ticks": "",
           "title": {
            "standoff": 15
           },
           "zerolinecolor": "#283442",
           "zerolinewidth": 2
          }
         }
        },
        "width": 800
       }
      },
      "image/png": "[encoded data removed]",
      "text/html": [
       "<div>                            <div id=\"6ec58aea-925e-44a4-bae6-b0303e0870ee\" class=\"plotly-graph-div\" style=\"height:800px; width:800px;\"></div>            <script type=\"text/javascript\">                require([\"plotly\"], function(Plotly) {                    window.PLOTLYENV=window.PLOTLYENV || {};                                    if (document.getElementById(\"6ec58aea-925e-44a4-bae6-b0303e0870ee\")) {                    Plotly.newPlot(                        \"6ec58aea-925e-44a4-bae6-b0303e0870ee\",                        [{\"branchvalues\":\"total\",\"domain\":{\"x\":[0.0,1.0],\"y\":[0.0,1.0]},\"hovertemplate\":\"labels=%{label}\\u003cbr\\u003eValue=%{value}\\u003cbr\\u003eparent=%{parent}\\u003cbr\\u003eid=%{id}\\u003cextra\\u003e\\u003c\\u002fextra\\u003e\",\"ids\":[\"Year: 2018\\u002fConsumables\",\"Year: 2018\\u002fEquipment\",\"Year: 2018\\u002fInterdepartment Expenditure\",\"Year: 2018\\u002fLow Value Equipment\",\"Year: 2018\\u002fTraining & Miscellaneous\",\"Year: 2018\"],\"labels\":[\"Consumables\",\"Equipment\",\"Interdepartment Expenditure\",\"Low Value Equipment\",\"Training & Miscellaneous\",\"Year: 2018\"],\"name\":\"\",\"parents\":[\"Year: 2018\",\"Year: 2018\",\"Year: 2018\",\"Year: 2018\",\"Year: 2018\",\"\"],\"values\":[72638.22,24329.66,6879.95,15062.8,1992.72,120903.35],\"type\":\"treemap\",\"root\":{\"color\":\"lightgrey\"}}],                        {\"template\":{\"data\":{\"barpolar\":[{\"marker\":{\"line\":{\"color\":\"rgb(17,17,17)\",\"width\":0.5},\"pattern\":{\"fillmode\":\"overlay\",\"size\":10,\"solidity\":0.2}},\"type\":\"barpolar\"}],\"bar\":[{\"error_x\":{\"color\":\"#f2f5fa\"},\"error_y\":{\"color\":\"#f2f5fa\"},\"marker\":{\"line\":{\"color\":\"rgb(17,17,17)\",\"width\":0.5},\"pattern\":{\"fillmode\":\"overlay\",\"size\":10,\"solidity\":0.2}},\"type\":\"bar\"}],\"carpet\":[{\"aaxis\":{\"endlinecolor\":\"#A2B1C6\",\"gridcolor\":\"#506784\",\"linecolor\":\"#506784\",\"minorgridcolor\":\"#506784\",\"startlinecolor\":\"#A2B1C6\"},\"baxis\":{\"endlinecolor\":\"#A2B1C6\",\"gridcolor\":\"#506784\",\"linecolor\":\"#506784\",\"minorgridcolor\":\"#506784\",\"startlinecolor\":\"#A2B1C6\"},\"type\":\"carpet\"}],\"choropleth\":[{\"colorbar\":{\"outlinewidth\":0,\"ticks\":\"\"},\"type\":\"choropleth\"}],\"contourcarpet\":[{\"colorbar\":{\"outlinewidth\":0,\"ticks\":\"\"},\"type\":\"contourcarpet\"}],\"contour\":[{\"colorbar\":{\"outlinewidth\":0,\"ticks\":\"\"},\"colorscale\":[[0.0,\"#0d0887\"],[0.1111111111111111,\"#46039f\"],[0.2222222222222222,\"#7201a8\"],[0.3333333333333333,\"#9c179e\"],[0.4444444444444444,\"#bd3786\"],[0.5555555555555556,\"#d8576b\"],[0.6666666666666666,\"#ed7953\"],[0.7777777777777778,\"#fb9f3a\"],[0.8888888888888888,\"#fdca26\"],[1.0,\"#f0f921\"]],\"type\":\"contour\"}],\"heatmapgl\":[{\"colorbar\":{\"outlinewidth\":0,\"ticks\":\"\"},\"colorscale\":[[0.0,\"#0d0887\"],[0.1111111111111111,\"#46039f\"],[0.2222222222222222,\"#7201a8\"],[0.3333333333333333,\"#9c179e\"],[0.4444444444444444,\"#bd3786\"],[0.5555555555555556,\"#d8576b\"],[0.6666666666666666,\"#ed7953\"],[0.7777777777777778,\"#fb9f3a\"],[0.8888888888888888,\"#fdca26\"],[1.0,\"#f0f921\"]],\"type\":\"heatmapgl\"}],\"heatmap\":[{\"colorbar\":{\"outlinewidth\":0,\"ticks\":\"\"},\"colorscale\":[[0.0,\"#0d0887\"],[0.1111111111111111,\"#46039f\"],[0.2222222222222222,\"#7201a8\"],[0.3333333333333333,\"#9c179e\"],[0.4444444444444444,\"#bd3786\"],[0.5555555555555556,\"#d8576b\"],[0.6666666666666666,\"#ed7953\"],[0.7777777777777778,\"#fb9f3a\"],[0.8888888888888888,\"#fdca26\"],[1.0,\"#f0f921\"]],\"type\":\"heatmap\"}],\"histogram2dcontour\":[{\"colorbar\":{\"outlinewidth\":0,\"ticks\":\"\"},\"colorscale\":[[0.0,\"#0d0887\"],[0.1111111111111111,\"#46039f\"],[0.2222222222222222,\"#7201a8\"],[0.3333333333333333,\"#9c179e\"],[0.4444444444444444,\"#bd3786\"],[0.5555555555555556,\"#d8576b\"],[0.6666666666666666,\"#ed7953\"],[0.7777777777777778,\"#fb9f3a\"],[0.8888888888888888,\"#fdca26\"],[1.0,\"#f0f921\"]],\"type\":\"histogram2dcontour\"}],\"histogram2d\":[{\"colorbar\":{\"outlinewidth\":0,\"ticks\":\"\"},\"colorscale\":[[0.0,\"#0d0887\"],[0.1111111111111111,\"#46039f\"],[0.2222222222222222,\"#7201a8\"],[0.3333333333333333,\"#9c179e\"],[0.4444444444444444,\"#bd3786\"],[0.5555555555555556,\"#d8576b\"],[0.6666666666666666,\"#ed7953\"],[0.7777777777777778,\"#fb9f3a\"],[0.8888888888888888,\"#fdca26\"],[1.0,\"#f0f921\"]],\"type\":\"histogram2d\"}],\"histogram\":[{\"marker\":{\"pattern\":{\"fillmode\":\"overlay\",\"size\":10,\"solidity\":0.2}},\"type\":\"histogram\"}],\"mesh3d\":[{\"colorbar\":{\"outlinewidth\":0,\"ticks\":\"\"},\"type\":\"mesh3d\"}],\"parcoords\":[{\"line\":{\"colorbar\":{\"outlinewidth\":0,\"ticks\":\"\"}},\"type\":\"parcoords\"}],\"pie\":[{\"automargin\":true,\"type\":\"pie\"}],\"scatter3d\":[{\"line\":{\"colorbar\":{\"outlinewidth\":0,\"ticks\":\"\"}},\"marker\":{\"colorbar\":{\"outlinewidth\":0,\"ticks\":\"\"}},\"type\":\"scatter3d\"}],\"scattercarpet\":[{\"marker\":{\"colorbar\":{\"outlinewidth\":0,\"ticks\":\"\"}},\"type\":\"scattercarpet\"}],\"scattergeo\":[{\"marker\":{\"colorbar\":{\"outlinewidth\":0,\"ticks\":\"\"}},\"type\":\"scattergeo\"}],\"scattergl\":[{\"marker\":{\"line\":{\"color\":\"#283442\"}},\"type\":\"scattergl\"}],\"scattermapbox\":[{\"marker\":{\"colorbar\":{\"outlinewidth\":0,\"ticks\":\"\"}},\"type\":\"scattermapbox\"}],\"scatterpolargl\":[{\"marker\":{\"colorbar\":{\"outlinewidth\":0,\"ticks\":\"\"}},\"type\":\"scatterpolargl\"}],\"scatterpolar\":[{\"marker\":{\"colorbar\":{\"outlinewidth\":0,\"ticks\":\"\"}},\"type\":\"scatterpolar\"}],\"scatter\":[{\"marker\":{\"line\":{\"color\":\"#283442\"}},\"type\":\"scatter\"}],\"scatterternary\":[{\"marker\":{\"colorbar\":{\"outlinewidth\":0,\"ticks\":\"\"}},\"type\":\"scatterternary\"}],\"surface\":[{\"colorbar\":{\"outlinewidth\":0,\"ticks\":\"\"},\"colorscale\":[[0.0,\"#0d0887\"],[0.1111111111111111,\"#46039f\"],[0.2222222222222222,\"#7201a8\"],[0.3333333333333333,\"#9c179e\"],[0.4444444444444444,\"#bd3786\"],[0.5555555555555556,\"#d8576b\"],[0.6666666666666666,\"#ed7953\"],[0.7777777777777778,\"#fb9f3a\"],[0.8888888888888888,\"#fdca26\"],[1.0,\"#f0f921\"]],\"type\":\"surface\"}],\"table\":[{\"cells\":{\"fill\":{\"color\":\"#506784\"},\"line\":{\"color\":\"rgb(17,17,17)\"}},\"header\":{\"fill\":{\"color\":\"#2a3f5f\"},\"line\":{\"color\":\"rgb(17,17,17)\"}},\"type\":\"table\"}]},\"layout\":{\"annotationdefaults\":{\"arrowcolor\":\"#f2f5fa\",\"arrowhead\":0,\"arrowwidth\":1},\"autotypenumbers\":\"strict\",\"coloraxis\":{\"colorbar\":{\"outlinewidth\":0,\"ticks\":\"\"}},\"colorscale\":{\"diverging\":[[0,\"#8e0152\"],[0.1,\"#c51b7d\"],[0.2,\"#de77ae\"],[0.3,\"#f1b6da\"],[0.4,\"#fde0ef\"],[0.5,\"#f7f7f7\"],[0.6,\"#e6f5d0\"],[0.7,\"#b8e186\"],[0.8,\"#7fbc41\"],[0.9,\"#4d9221\"],[1,\"#276419\"]],\"sequential\":[[0.0,\"#0d0887\"],[0.1111111111111111,\"#46039f\"],[0.2222222222222222,\"#7201a8\"],[0.3333333333333333,\"#9c179e\"],[0.4444444444444444,\"#bd3786\"],[0.5555555555555556,\"#d8576b\"],[0.6666666666666666,\"#ed7953\"],[0.7777777777777778,\"#fb9f3a\"],[0.8888888888888888,\"#fdca26\"],[1.0,\"#f0f921\"]],\"sequentialminus\":[[0.0,\"#0d0887\"],[0.1111111111111111,\"#46039f\"],[0.2222222222222222,\"#7201a8\"],[0.3333333333333333,\"#9c179e\"],[0.4444444444444444,\"#bd3786\"],[0.5555555555555556,\"#d8576b\"],[0.6666666666666666,\"#ed7953\"],[0.7777777777777778,\"#fb9f3a\"],[0.8888888888888888,\"#fdca26\"],[1.0,\"#f0f921\"]]},\"colorway\":[\"#636efa\",\"#EF553B\",\"#00cc96\",\"#ab63fa\",\"#FFA15A\",\"#19d3f3\",\"#FF6692\",\"#B6E880\",\"#FF97FF\",\"#FECB52\"],\"font\":{\"color\":\"#f2f5fa\"},\"geo\":{\"bgcolor\":\"rgb(17,17,17)\",\"lakecolor\":\"rgb(17,17,17)\",\"landcolor\":\"rgb(17,17,17)\",\"showlakes\":true,\"showland\":true,\"subunitcolor\":\"#506784\"},\"hoverlabel\":{\"align\":\"left\"},\"hovermode\":\"closest\",\"mapbox\":{\"style\":\"dark\"},\"paper_bgcolor\":\"rgb(17,17,17)\",\"plot_bgcolor\":\"rgb(17,17,17)\",\"polar\":{\"angularaxis\":{\"gridcolor\":\"#506784\",\"linecolor\":\"#506784\",\"ticks\":\"\"},\"bgcolor\":\"rgb(17,17,17)\",\"radialaxis\":{\"gridcolor\":\"#506784\",\"linecolor\":\"#506784\",\"ticks\":\"\"}},\"scene\":{\"xaxis\":{\"backgroundcolor\":\"rgb(17,17,17)\",\"gridcolor\":\"#506784\",\"gridwidth\":2,\"linecolor\":\"#506784\",\"showbackground\":true,\"ticks\":\"\",\"zerolinecolor\":\"#C8D4E3\"},\"yaxis\":{\"backgroundcolor\":\"rgb(17,17,17)\",\"gridcolor\":\"#506784\",\"gridwidth\":2,\"linecolor\":\"#506784\",\"showbackground\":true,\"ticks\":\"\",\"zerolinecolor\":\"#C8D4E3\"},\"zaxis\":{\"backgroundcolor\":\"rgb(17,17,17)\",\"gridcolor\":\"#506784\",\"gridwidth\":2,\"linecolor\":\"#506784\",\"showbackground\":true,\"ticks\":\"\",\"zerolinecolor\":\"#C8D4E3\"}},\"shapedefaults\":{\"line\":{\"color\":\"#f2f5fa\"}},\"sliderdefaults\":{\"bgcolor\":\"#C8D4E3\",\"bordercolor\":\"rgb(17,17,17)\",\"borderwidth\":1,\"tickwidth\":0},\"ternary\":{\"aaxis\":{\"gridcolor\":\"#506784\",\"linecolor\":\"#506784\",\"ticks\":\"\"},\"baxis\":{\"gridcolor\":\"#506784\",\"linecolor\":\"#506784\",\"ticks\":\"\"},\"bgcolor\":\"rgb(17,17,17)\",\"caxis\":{\"gridcolor\":\"#506784\",\"linecolor\":\"#506784\",\"ticks\":\"\"}},\"title\":{\"x\":0.05},\"updatemenudefaults\":{\"bgcolor\":\"#506784\",\"borderwidth\":0},\"xaxis\":{\"automargin\":true,\"gridcolor\":\"#283442\",\"linecolor\":\"#506784\",\"ticks\":\"\",\"title\":{\"standoff\":15},\"zerolinecolor\":\"#283442\",\"zerolinewidth\":2},\"yaxis\":{\"automargin\":true,\"gridcolor\":\"#283442\",\"linecolor\":\"#506784\",\"ticks\":\"\",\"title\":{\"standoff\":15},\"zerolinecolor\":\"#283442\",\"zerolinewidth\":2}}},\"legend\":{\"tracegroupgap\":0},\"margin\":{\"t\":50,\"l\":25,\"r\":25,\"b\":25},\"height\":800,\"width\":800},                        {\"responsive\": true}                    ).then(function(){\n",
       "                            \n",
       "var gd = document.getElementById('6ec58aea-925e-44a4-bae6-b0303e0870ee');\n",
       "var x = new MutationObserver(function (mutations, observer) {{\n",
       "        var display = window.getComputedStyle(gd).display;\n",
       "        if (!display || display === 'none') {{\n",
       "            console.log([gd, 'removed!']);\n",
       "            Plotly.purge(gd);\n",
       "            observer.disconnect();\n",
       "        }}\n",
       "}});\n",
       "\n",
       "// Listen for the removal of the full notebook cells\n",
       "var notebookContainer = gd.closest('#notebook-container');\n",
       "if (notebookContainer) {{\n",
       "    x.observe(notebookContainer, {childList: true});\n",
       "}}\n",
       "\n",
       "// Listen for the clearing of the current output cell\n",
       "var outputEl = gd.closest('.output');\n",
       "if (outputEl) {{\n",
       "    x.observe(outputEl, {childList: true});\n",
       "}}\n",
       "\n",
       "                        })                };                });            </script>        </div>"
      ]
     },
     "metadata": {},
     "output_type": "display_data"
    }
   ],
   "source": [
    "### treemap --- analysis of expenses by category\n",
    "df = pd.read_csv('data/startup.csv')\n",
    "df = process_loaded_data(df)\n",
    "plot_treemap(df, 2018)"
   ]
  },
  {
   "cell_type": "code",
   "execution_count": 228,
   "id": "cc475693-b8de-48b2-b1af-82299676b2c2",
   "metadata": {},
   "outputs": [
    {
     "data": {
      "application/vnd.plotly.v1+json": {
       "config": {
        "plotlyServerURL": "https://plot.ly"
       },
       "data": [
        {
         "hovertemplate": "Category=%{y}<br>Vendor=%{x}<br>Value=%{marker.size}<extra></extra>",
         "legendgroup": "Consumables",
         "marker": {
          "color": "#636efa",
          "size": [
           64.2,
           7920.03,
           9272.619999999999,
           7303.83,
           2389.96,
           4258.92,
           50.7,
           2455.4,
           759.7,
           5885,
           2968.7200000000003,
           346.57,
           1956.98,
           75.97,
           3249.16,
           1070,
           423.72,
           7299.65,
           1067.34,
           11.2,
           790.95,
           256.8,
           1254.58,
           722.25,
           5296.5,
           3987.39,
           1759.5,
           340.58
          ],
          "sizemode": "area",
          "sizeref": 3.7152777777777777,
          "symbol": "circle"
         },
         "mode": "markers",
         "name": "Consumables",
         "orientation": "v",
         "showlegend": true,
         "type": "scatter",
         "x": [
          "AIK MOH PAINTS AND CHEMICALS PTE LT",
          "AITBIOTECH PTE LTD",
          "AXIL SCIENTIFIC PTE LTD",
          "BIO LABORATORIES PTE LTD",
          "BIO-RAD LABORATORIES (S) PTE LTD",
          "BIOMED DIAGNOSTICS PTE LTD",
          "FEDERAL EXPRESS (S) PTE LTD",
          "FISHER SCIENTIFIC PTE LTD",
          "I-DNA BIOTECHNOLOGY PTE LTD",
          "INTEGRATED DNA TECHNOLOGIES PTE LTD",
          "LIFE TECHNOLOGIES HOLDINGS PTE. LTD",
          "MERCK PTE LTD",
          "NUS MULTI-PURPOSE CO-OPERATIVE SOCI",
          "OLYMPUS SINGAPORE PTE LTD",
          "QIAGEN SINGAPORE PTE. LTD.",
          "SCIENCEWERKE PTE LTD",
          "SCIMED (ASIA) PTE LTD",
          "SIGMA-ALDRICH PTE LTD",
          "SINGLAB TECHNOLOGIES PTE. LTD.",
          "SONG ZHENG QI, TOBEY",
          "SPD SCIENTIFIC PTE LTD",
          "TEE HAI CHEM PTE LTD",
          "THERMO FISHER SCIENTIFIC PTE LTD",
          "THERMO SCIENTIFIC MICROBIOLOGY PTE.",
          "UNISON COLLABORATIVE PTE LTD",
          "VWR SINGAPORE PTE LTD",
          "WORLD COURIER SINGAPORE PTE LTD",
          "ZUELLIG PHARMA PTE LTD"
         ],
         "xaxis": "x",
         "y": [
          "Consumables",
          "Consumables",
          "Consumables",
          "Consumables",
          "Consumables",
          "Consumables",
          "Consumables",
          "Consumables",
          "Consumables",
          "Consumables",
          "Consumables",
          "Consumables",
          "Consumables",
          "Consumables",
          "Consumables",
          "Consumables",
          "Consumables",
          "Consumables",
          "Consumables",
          "Consumables",
          "Consumables",
          "Consumables",
          "Consumables",
          "Consumables",
          "Consumables",
          "Consumables",
          "Consumables",
          "Consumables"
         ],
         "yaxis": "y"
        },
        {
         "hovertemplate": "Category=%{y}<br>Vendor=%{x}<br>Value=%{marker.size}<extra></extra>",
         "legendgroup": "Equipment",
         "marker": {
          "color": "#EF553B",
          "size": [
           3584.5,
           13375,
           7370.16
          ],
          "sizemode": "area",
          "sizeref": 3.7152777777777777,
          "symbol": "circle"
         },
         "mode": "markers",
         "name": "Equipment",
         "orientation": "v",
         "showlegend": true,
         "type": "scatter",
         "x": [
          "AITBIOTECH PTE LTD",
          "FISHER SCIENTIFIC PTE LTD",
          "LIFE TECHNOLOGIES HOLDINGS PTE. LTD"
         ],
         "xaxis": "x",
         "y": [
          "Equipment",
          "Equipment",
          "Equipment"
         ],
         "yaxis": "y"
        },
        {
         "hovertemplate": "Category=%{y}<br>Vendor=%{x}<br>Value=%{marker.size}<extra></extra>",
         "legendgroup": "Low Value Equipment",
         "marker": {
          "color": "#00cc96",
          "size": [
           3638,
           3349.32,
           3150.9300000000003,
           2782,
           468,
           1674.55
          ],
          "sizemode": "area",
          "sizeref": 3.7152777777777777,
          "symbol": "circle"
         },
         "mode": "markers",
         "name": "Low Value Equipment",
         "orientation": "v",
         "showlegend": true,
         "type": "scatter",
         "x": [
          "AITBIOTECH PTE LTD",
          "BIO-RAD LABORATORIES (S) PTE LTD",
          "FISHER SCIENTIFIC PTE LTD",
          "ITS SCIENCE AND MEDICAL PTE LTD",
          "NUS MULTI-PURPOSE CO-OPERATIVE SOCI",
          "VWR SINGAPORE PTE LTD"
         ],
         "xaxis": "x",
         "y": [
          "Low Value Equipment",
          "Low Value Equipment",
          "Low Value Equipment",
          "Low Value Equipment",
          "Low Value Equipment",
          "Low Value Equipment"
         ],
         "yaxis": "y"
        },
        {
         "hovertemplate": "Category=%{y}<br>Vendor=%{x}<br>Value=%{marker.size}<extra></extra>",
         "legendgroup": "Training & Miscellaneous",
         "marker": {
          "color": "#ab63fa",
          "size": [
           1016.5,
           811.06,
           12,
           53.91,
           99.25
          ],
          "sizemode": "area",
          "sizeref": 3.7152777777777777,
          "symbol": "circle"
         },
         "mode": "markers",
         "name": "Training & Miscellaneous",
         "orientation": "v",
         "showlegend": true,
         "type": "scatter",
         "x": [
          "NATIONAL UNIVERSITY HOSPITAL (S) PT",
          "NUS MULTI-PURPOSE CO-OPERATIVE SOCI",
          "REI NAKAMOTO",
          "SHAM LOK TO",
          "SONG ZHENG QI, TOBEY"
         ],
         "xaxis": "x",
         "y": [
          "Training & Miscellaneous",
          "Training & Miscellaneous",
          "Training & Miscellaneous",
          "Training & Miscellaneous",
          "Training & Miscellaneous"
         ],
         "yaxis": "y"
        },
        {
         "hovertemplate": "Category=%{y}<br>Vendor=%{x}<br>Value=%{marker.size}<extra></extra>",
         "legendgroup": "Interdepartment Expenditure",
         "marker": {
          "color": "#FFA15A",
          "size": [
           6879.95
          ],
          "sizemode": "area",
          "sizeref": 3.7152777777777777,
          "symbol": "circle"
         },
         "mode": "markers",
         "name": "Interdepartment Expenditure",
         "orientation": "v",
         "showlegend": true,
         "type": "scatter",
         "x": [
          "Rev-Interdept"
         ],
         "xaxis": "x",
         "y": [
          "Interdepartment Expenditure"
         ],
         "yaxis": "y"
        }
       ],
       "layout": {
        "height": 600,
        "legend": {
         "itemsizing": "constant",
         "title": {
          "text": "Category"
         },
         "tracegroupgap": 0
        },
        "margin": {
         "t": 60
        },
        "template": {
         "data": {
          "bar": [
           {
            "error_x": {
             "color": "#f2f5fa"
            },
            "error_y": {
             "color": "#f2f5fa"
            },
            "marker": {
             "line": {
              "color": "rgb(17,17,17)",
              "width": 0.5
             },
             "pattern": {
              "fillmode": "overlay",
              "size": 10,
              "solidity": 0.2
             }
            },
            "type": "bar"
           }
          ],
          "barpolar": [
           {
            "marker": {
             "line": {
              "color": "rgb(17,17,17)",
              "width": 0.5
             },
             "pattern": {
              "fillmode": "overlay",
              "size": 10,
              "solidity": 0.2
             }
            },
            "type": "barpolar"
           }
          ],
          "carpet": [
           {
            "aaxis": {
             "endlinecolor": "#A2B1C6",
             "gridcolor": "#506784",
             "linecolor": "#506784",
             "minorgridcolor": "#506784",
             "startlinecolor": "#A2B1C6"
            },
            "baxis": {
             "endlinecolor": "#A2B1C6",
             "gridcolor": "#506784",
             "linecolor": "#506784",
             "minorgridcolor": "#506784",
             "startlinecolor": "#A2B1C6"
            },
            "type": "carpet"
           }
          ],
          "choropleth": [
           {
            "colorbar": {
             "outlinewidth": 0,
             "ticks": ""
            },
            "type": "choropleth"
           }
          ],
          "contour": [
           {
            "colorbar": {
             "outlinewidth": 0,
             "ticks": ""
            },
            "colorscale": [
             [
              0,
              "#0d0887"
             ],
             [
              0.1111111111111111,
              "#46039f"
             ],
             [
              0.2222222222222222,
              "#7201a8"
             ],
             [
              0.3333333333333333,
              "#9c179e"
             ],
             [
              0.4444444444444444,
              "#bd3786"
             ],
             [
              0.5555555555555556,
              "#d8576b"
             ],
             [
              0.6666666666666666,
              "#ed7953"
             ],
             [
              0.7777777777777778,
              "#fb9f3a"
             ],
             [
              0.8888888888888888,
              "#fdca26"
             ],
             [
              1,
              "#f0f921"
             ]
            ],
            "type": "contour"
           }
          ],
          "contourcarpet": [
           {
            "colorbar": {
             "outlinewidth": 0,
             "ticks": ""
            },
            "type": "contourcarpet"
           }
          ],
          "heatmap": [
           {
            "colorbar": {
             "outlinewidth": 0,
             "ticks": ""
            },
            "colorscale": [
             [
              0,
              "#0d0887"
             ],
             [
              0.1111111111111111,
              "#46039f"
             ],
             [
              0.2222222222222222,
              "#7201a8"
             ],
             [
              0.3333333333333333,
              "#9c179e"
             ],
             [
              0.4444444444444444,
              "#bd3786"
             ],
             [
              0.5555555555555556,
              "#d8576b"
             ],
             [
              0.6666666666666666,
              "#ed7953"
             ],
             [
              0.7777777777777778,
              "#fb9f3a"
             ],
             [
              0.8888888888888888,
              "#fdca26"
             ],
             [
              1,
              "#f0f921"
             ]
            ],
            "type": "heatmap"
           }
          ],
          "heatmapgl": [
           {
            "colorbar": {
             "outlinewidth": 0,
             "ticks": ""
            },
            "colorscale": [
             [
              0,
              "#0d0887"
             ],
             [
              0.1111111111111111,
              "#46039f"
             ],
             [
              0.2222222222222222,
              "#7201a8"
             ],
             [
              0.3333333333333333,
              "#9c179e"
             ],
             [
              0.4444444444444444,
              "#bd3786"
             ],
             [
              0.5555555555555556,
              "#d8576b"
             ],
             [
              0.6666666666666666,
              "#ed7953"
             ],
             [
              0.7777777777777778,
              "#fb9f3a"
             ],
             [
              0.8888888888888888,
              "#fdca26"
             ],
             [
              1,
              "#f0f921"
             ]
            ],
            "type": "heatmapgl"
           }
          ],
          "histogram": [
           {
            "marker": {
             "pattern": {
              "fillmode": "overlay",
              "size": 10,
              "solidity": 0.2
             }
            },
            "type": "histogram"
           }
          ],
          "histogram2d": [
           {
            "colorbar": {
             "outlinewidth": 0,
             "ticks": ""
            },
            "colorscale": [
             [
              0,
              "#0d0887"
             ],
             [
              0.1111111111111111,
              "#46039f"
             ],
             [
              0.2222222222222222,
              "#7201a8"
             ],
             [
              0.3333333333333333,
              "#9c179e"
             ],
             [
              0.4444444444444444,
              "#bd3786"
             ],
             [
              0.5555555555555556,
              "#d8576b"
             ],
             [
              0.6666666666666666,
              "#ed7953"
             ],
             [
              0.7777777777777778,
              "#fb9f3a"
             ],
             [
              0.8888888888888888,
              "#fdca26"
             ],
             [
              1,
              "#f0f921"
             ]
            ],
            "type": "histogram2d"
           }
          ],
          "histogram2dcontour": [
           {
            "colorbar": {
             "outlinewidth": 0,
             "ticks": ""
            },
            "colorscale": [
             [
              0,
              "#0d0887"
             ],
             [
              0.1111111111111111,
              "#46039f"
             ],
             [
              0.2222222222222222,
              "#7201a8"
             ],
             [
              0.3333333333333333,
              "#9c179e"
             ],
             [
              0.4444444444444444,
              "#bd3786"
             ],
             [
              0.5555555555555556,
              "#d8576b"
             ],
             [
              0.6666666666666666,
              "#ed7953"
             ],
             [
              0.7777777777777778,
              "#fb9f3a"
             ],
             [
              0.8888888888888888,
              "#fdca26"
             ],
             [
              1,
              "#f0f921"
             ]
            ],
            "type": "histogram2dcontour"
           }
          ],
          "mesh3d": [
           {
            "colorbar": {
             "outlinewidth": 0,
             "ticks": ""
            },
            "type": "mesh3d"
           }
          ],
          "parcoords": [
           {
            "line": {
             "colorbar": {
              "outlinewidth": 0,
              "ticks": ""
             }
            },
            "type": "parcoords"
           }
          ],
          "pie": [
           {
            "automargin": true,
            "type": "pie"
           }
          ],
          "scatter": [
           {
            "marker": {
             "line": {
              "color": "#283442"
             }
            },
            "type": "scatter"
           }
          ],
          "scatter3d": [
           {
            "line": {
             "colorbar": {
              "outlinewidth": 0,
              "ticks": ""
             }
            },
            "marker": {
             "colorbar": {
              "outlinewidth": 0,
              "ticks": ""
             }
            },
            "type": "scatter3d"
           }
          ],
          "scattercarpet": [
           {
            "marker": {
             "colorbar": {
              "outlinewidth": 0,
              "ticks": ""
             }
            },
            "type": "scattercarpet"
           }
          ],
          "scattergeo": [
           {
            "marker": {
             "colorbar": {
              "outlinewidth": 0,
              "ticks": ""
             }
            },
            "type": "scattergeo"
           }
          ],
          "scattergl": [
           {
            "marker": {
             "line": {
              "color": "#283442"
             }
            },
            "type": "scattergl"
           }
          ],
          "scattermapbox": [
           {
            "marker": {
             "colorbar": {
              "outlinewidth": 0,
              "ticks": ""
             }
            },
            "type": "scattermapbox"
           }
          ],
          "scatterpolar": [
           {
            "marker": {
             "colorbar": {
              "outlinewidth": 0,
              "ticks": ""
             }
            },
            "type": "scatterpolar"
           }
          ],
          "scatterpolargl": [
           {
            "marker": {
             "colorbar": {
              "outlinewidth": 0,
              "ticks": ""
             }
            },
            "type": "scatterpolargl"
           }
          ],
          "scatterternary": [
           {
            "marker": {
             "colorbar": {
              "outlinewidth": 0,
              "ticks": ""
             }
            },
            "type": "scatterternary"
           }
          ],
          "surface": [
           {
            "colorbar": {
             "outlinewidth": 0,
             "ticks": ""
            },
            "colorscale": [
             [
              0,
              "#0d0887"
             ],
             [
              0.1111111111111111,
              "#46039f"
             ],
             [
              0.2222222222222222,
              "#7201a8"
             ],
             [
              0.3333333333333333,
              "#9c179e"
             ],
             [
              0.4444444444444444,
              "#bd3786"
             ],
             [
              0.5555555555555556,
              "#d8576b"
             ],
             [
              0.6666666666666666,
              "#ed7953"
             ],
             [
              0.7777777777777778,
              "#fb9f3a"
             ],
             [
              0.8888888888888888,
              "#fdca26"
             ],
             [
              1,
              "#f0f921"
             ]
            ],
            "type": "surface"
           }
          ],
          "table": [
           {
            "cells": {
             "fill": {
              "color": "#506784"
             },
             "line": {
              "color": "rgb(17,17,17)"
             }
            },
            "header": {
             "fill": {
              "color": "#2a3f5f"
             },
             "line": {
              "color": "rgb(17,17,17)"
             }
            },
            "type": "table"
           }
          ]
         },
         "layout": {
          "annotationdefaults": {
           "arrowcolor": "#f2f5fa",
           "arrowhead": 0,
           "arrowwidth": 1
          },
          "autotypenumbers": "strict",
          "coloraxis": {
           "colorbar": {
            "outlinewidth": 0,
            "ticks": ""
           }
          },
          "colorscale": {
           "diverging": [
            [
             0,
             "#8e0152"
            ],
            [
             0.1,
             "#c51b7d"
            ],
            [
             0.2,
             "#de77ae"
            ],
            [
             0.3,
             "#f1b6da"
            ],
            [
             0.4,
             "#fde0ef"
            ],
            [
             0.5,
             "#f7f7f7"
            ],
            [
             0.6,
             "#e6f5d0"
            ],
            [
             0.7,
             "#b8e186"
            ],
            [
             0.8,
             "#7fbc41"
            ],
            [
             0.9,
             "#4d9221"
            ],
            [
             1,
             "#276419"
            ]
           ],
           "sequential": [
            [
             0,
             "#0d0887"
            ],
            [
             0.1111111111111111,
             "#46039f"
            ],
            [
             0.2222222222222222,
             "#7201a8"
            ],
            [
             0.3333333333333333,
             "#9c179e"
            ],
            [
             0.4444444444444444,
             "#bd3786"
            ],
            [
             0.5555555555555556,
             "#d8576b"
            ],
            [
             0.6666666666666666,
             "#ed7953"
            ],
            [
             0.7777777777777778,
             "#fb9f3a"
            ],
            [
             0.8888888888888888,
             "#fdca26"
            ],
            [
             1,
             "#f0f921"
            ]
           ],
           "sequentialminus": [
            [
             0,
             "#0d0887"
            ],
            [
             0.1111111111111111,
             "#46039f"
            ],
            [
             0.2222222222222222,
             "#7201a8"
            ],
            [
             0.3333333333333333,
             "#9c179e"
            ],
            [
             0.4444444444444444,
             "#bd3786"
            ],
            [
             0.5555555555555556,
             "#d8576b"
            ],
            [
             0.6666666666666666,
             "#ed7953"
            ],
            [
             0.7777777777777778,
             "#fb9f3a"
            ],
            [
             0.8888888888888888,
             "#fdca26"
            ],
            [
             1,
             "#f0f921"
            ]
           ]
          },
          "colorway": [
           "#636efa",
           "#EF553B",
           "#00cc96",
           "#ab63fa",
           "#FFA15A",
           "#19d3f3",
           "#FF6692",
           "#B6E880",
           "#FF97FF",
           "#FECB52"
          ],
          "font": {
           "color": "#f2f5fa"
          },
          "geo": {
           "bgcolor": "rgb(17,17,17)",
           "lakecolor": "rgb(17,17,17)",
           "landcolor": "rgb(17,17,17)",
           "showlakes": true,
           "showland": true,
           "subunitcolor": "#506784"
          },
          "hoverlabel": {
           "align": "left"
          },
          "hovermode": "closest",
          "mapbox": {
           "style": "dark"
          },
          "paper_bgcolor": "rgb(17,17,17)",
          "plot_bgcolor": "rgb(17,17,17)",
          "polar": {
           "angularaxis": {
            "gridcolor": "#506784",
            "linecolor": "#506784",
            "ticks": ""
           },
           "bgcolor": "rgb(17,17,17)",
           "radialaxis": {
            "gridcolor": "#506784",
            "linecolor": "#506784",
            "ticks": ""
           }
          },
          "scene": {
           "xaxis": {
            "backgroundcolor": "rgb(17,17,17)",
            "gridcolor": "#506784",
            "gridwidth": 2,
            "linecolor": "#506784",
            "showbackground": true,
            "ticks": "",
            "zerolinecolor": "#C8D4E3"
           },
           "yaxis": {
            "backgroundcolor": "rgb(17,17,17)",
            "gridcolor": "#506784",
            "gridwidth": 2,
            "linecolor": "#506784",
            "showbackground": true,
            "ticks": "",
            "zerolinecolor": "#C8D4E3"
           },
           "zaxis": {
            "backgroundcolor": "rgb(17,17,17)",
            "gridcolor": "#506784",
            "gridwidth": 2,
            "linecolor": "#506784",
            "showbackground": true,
            "ticks": "",
            "zerolinecolor": "#C8D4E3"
           }
          },
          "shapedefaults": {
           "line": {
            "color": "#f2f5fa"
           }
          },
          "sliderdefaults": {
           "bgcolor": "#C8D4E3",
           "bordercolor": "rgb(17,17,17)",
           "borderwidth": 1,
           "tickwidth": 0
          },
          "ternary": {
           "aaxis": {
            "gridcolor": "#506784",
            "linecolor": "#506784",
            "ticks": ""
           },
           "baxis": {
            "gridcolor": "#506784",
            "linecolor": "#506784",
            "ticks": ""
           },
           "bgcolor": "rgb(17,17,17)",
           "caxis": {
            "gridcolor": "#506784",
            "linecolor": "#506784",
            "ticks": ""
           }
          },
          "title": {
           "x": 0.05
          },
          "updatemenudefaults": {
           "bgcolor": "#506784",
           "borderwidth": 0
          },
          "xaxis": {
           "automargin": true,
           "gridcolor": "#283442",
           "linecolor": "#506784",
           "ticks": "",
           "title": {
            "standoff": 15
           },
           "zerolinecolor": "#283442",
           "zerolinewidth": 2
          },
          "yaxis": {
           "automargin": true,
           "gridcolor": "#283442",
           "linecolor": "#506784",
           "ticks": "",
           "title": {
            "standoff": 15
           },
           "zerolinecolor": "#283442",
           "zerolinewidth": 2
          }
         }
        },
        "width": 1200,
        "xaxis": {
         "anchor": "y",
         "autorange": true,
         "domain": [
          0,
          1
         ],
         "range": [
          -2.8391979386997948,
          35.70925183759861
         ],
         "title": {
          "text": "Vendor"
         },
         "type": "category"
        },
        "yaxis": {
         "anchor": "x",
         "autorange": true,
         "categoryarray": [
          "Interdepartment Expenditure",
          "Training & Miscellaneous",
          "Low Value Equipment",
          "Equipment",
          "Consumables"
         ],
         "categoryorder": "array",
         "domain": [
          0,
          1
         ],
         "range": [
          -1.3414219770388185,
          5.502236346703888
         ],
         "title": {
          "text": "Category"
         },
         "type": "category"
        }
       }
      },
      "image/png": "[encoded data removed]",
      "text/html": [
       "<div>                            <div id=\"79f7ee37-9730-4a18-a139-212a56e76503\" class=\"plotly-graph-div\" style=\"height:600px; width:1200px;\"></div>            <script type=\"text/javascript\">                require([\"plotly\"], function(Plotly) {                    window.PLOTLYENV=window.PLOTLYENV || {};                                    if (document.getElementById(\"79f7ee37-9730-4a18-a139-212a56e76503\")) {                    Plotly.newPlot(                        \"79f7ee37-9730-4a18-a139-212a56e76503\",                        [{\"hovertemplate\":\"Category=%{y}\\u003cbr\\u003eVendor=%{x}\\u003cbr\\u003eValue=%{marker.size}\\u003cextra\\u003e\\u003c\\u002fextra\\u003e\",\"legendgroup\":\"Consumables\",\"marker\":{\"color\":\"#636efa\",\"size\":[64.2,7920.03,9272.619999999999,7303.83,2389.96,4258.92,50.7,2455.4,759.7,5885.0,2968.7200000000003,346.57,1956.98,75.97,3249.16,1070.0,423.72,7299.65,1067.34,11.2,790.95,256.8,1254.58,722.25,5296.5,3987.39,1759.5,340.58],\"sizemode\":\"area\",\"sizeref\":3.7152777777777777,\"symbol\":\"circle\"},\"mode\":\"markers\",\"name\":\"Consumables\",\"orientation\":\"v\",\"showlegend\":true,\"x\":[\"AIK MOH PAINTS AND CHEMICALS PTE LT\",\"AITBIOTECH PTE LTD\",\"AXIL SCIENTIFIC PTE LTD\",\"BIO LABORATORIES PTE LTD\",\"BIO-RAD LABORATORIES (S) PTE LTD\",\"BIOMED DIAGNOSTICS PTE LTD\",\"FEDERAL EXPRESS (S) PTE LTD\",\"FISHER SCIENTIFIC PTE LTD\",\"I-DNA BIOTECHNOLOGY PTE LTD\",\"INTEGRATED DNA TECHNOLOGIES PTE LTD\",\"LIFE TECHNOLOGIES HOLDINGS PTE. LTD\",\"MERCK PTE LTD\",\"NUS MULTI-PURPOSE CO-OPERATIVE SOCI\",\"OLYMPUS SINGAPORE PTE LTD\",\"QIAGEN SINGAPORE PTE. LTD.\",\"SCIENCEWERKE PTE LTD\",\"SCIMED (ASIA) PTE LTD\",\"SIGMA-ALDRICH PTE LTD\",\"SINGLAB TECHNOLOGIES PTE. LTD.\",\"SONG ZHENG QI, TOBEY\",\"SPD SCIENTIFIC PTE LTD\",\"TEE HAI CHEM PTE LTD\",\"THERMO FISHER SCIENTIFIC PTE LTD\",\"THERMO SCIENTIFIC MICROBIOLOGY PTE.\",\"UNISON COLLABORATIVE PTE LTD\",\"VWR SINGAPORE PTE LTD\",\"WORLD COURIER SINGAPORE PTE LTD\",\"ZUELLIG PHARMA PTE LTD\"],\"xaxis\":\"x\",\"y\":[\"Consumables\",\"Consumables\",\"Consumables\",\"Consumables\",\"Consumables\",\"Consumables\",\"Consumables\",\"Consumables\",\"Consumables\",\"Consumables\",\"Consumables\",\"Consumables\",\"Consumables\",\"Consumables\",\"Consumables\",\"Consumables\",\"Consumables\",\"Consumables\",\"Consumables\",\"Consumables\",\"Consumables\",\"Consumables\",\"Consumables\",\"Consumables\",\"Consumables\",\"Consumables\",\"Consumables\",\"Consumables\"],\"yaxis\":\"y\",\"type\":\"scatter\"},{\"hovertemplate\":\"Category=%{y}\\u003cbr\\u003eVendor=%{x}\\u003cbr\\u003eValue=%{marker.size}\\u003cextra\\u003e\\u003c\\u002fextra\\u003e\",\"legendgroup\":\"Equipment\",\"marker\":{\"color\":\"#EF553B\",\"size\":[3584.5,13375.0,7370.16],\"sizemode\":\"area\",\"sizeref\":3.7152777777777777,\"symbol\":\"circle\"},\"mode\":\"markers\",\"name\":\"Equipment\",\"orientation\":\"v\",\"showlegend\":true,\"x\":[\"AITBIOTECH PTE LTD\",\"FISHER SCIENTIFIC PTE LTD\",\"LIFE TECHNOLOGIES HOLDINGS PTE. LTD\"],\"xaxis\":\"x\",\"y\":[\"Equipment\",\"Equipment\",\"Equipment\"],\"yaxis\":\"y\",\"type\":\"scatter\"},{\"hovertemplate\":\"Category=%{y}\\u003cbr\\u003eVendor=%{x}\\u003cbr\\u003eValue=%{marker.size}\\u003cextra\\u003e\\u003c\\u002fextra\\u003e\",\"legendgroup\":\"Low Value Equipment\",\"marker\":{\"color\":\"#00cc96\",\"size\":[3638.0,3349.32,3150.9300000000003,2782.0,468.0,1674.55],\"sizemode\":\"area\",\"sizeref\":3.7152777777777777,\"symbol\":\"circle\"},\"mode\":\"markers\",\"name\":\"Low Value Equipment\",\"orientation\":\"v\",\"showlegend\":true,\"x\":[\"AITBIOTECH PTE LTD\",\"BIO-RAD LABORATORIES (S) PTE LTD\",\"FISHER SCIENTIFIC PTE LTD\",\"ITS SCIENCE AND MEDICAL PTE LTD\",\"NUS MULTI-PURPOSE CO-OPERATIVE SOCI\",\"VWR SINGAPORE PTE LTD\"],\"xaxis\":\"x\",\"y\":[\"Low Value Equipment\",\"Low Value Equipment\",\"Low Value Equipment\",\"Low Value Equipment\",\"Low Value Equipment\",\"Low Value Equipment\"],\"yaxis\":\"y\",\"type\":\"scatter\"},{\"hovertemplate\":\"Category=%{y}\\u003cbr\\u003eVendor=%{x}\\u003cbr\\u003eValue=%{marker.size}\\u003cextra\\u003e\\u003c\\u002fextra\\u003e\",\"legendgroup\":\"Training & Miscellaneous\",\"marker\":{\"color\":\"#ab63fa\",\"size\":[1016.5,811.06,12.0,53.91,99.25],\"sizemode\":\"area\",\"sizeref\":3.7152777777777777,\"symbol\":\"circle\"},\"mode\":\"markers\",\"name\":\"Training & Miscellaneous\",\"orientation\":\"v\",\"showlegend\":true,\"x\":[\"NATIONAL UNIVERSITY HOSPITAL (S) PT\",\"NUS MULTI-PURPOSE CO-OPERATIVE SOCI\",\"REI NAKAMOTO\",\"SHAM LOK TO\",\"SONG ZHENG QI, TOBEY\"],\"xaxis\":\"x\",\"y\":[\"Training & Miscellaneous\",\"Training & Miscellaneous\",\"Training & Miscellaneous\",\"Training & Miscellaneous\",\"Training & Miscellaneous\"],\"yaxis\":\"y\",\"type\":\"scatter\"},{\"hovertemplate\":\"Category=%{y}\\u003cbr\\u003eVendor=%{x}\\u003cbr\\u003eValue=%{marker.size}\\u003cextra\\u003e\\u003c\\u002fextra\\u003e\",\"legendgroup\":\"Interdepartment Expenditure\",\"marker\":{\"color\":\"#FFA15A\",\"size\":[6879.95],\"sizemode\":\"area\",\"sizeref\":3.7152777777777777,\"symbol\":\"circle\"},\"mode\":\"markers\",\"name\":\"Interdepartment Expenditure\",\"orientation\":\"v\",\"showlegend\":true,\"x\":[\"Rev-Interdept\"],\"xaxis\":\"x\",\"y\":[\"Interdepartment Expenditure\"],\"yaxis\":\"y\",\"type\":\"scatter\"}],                        {\"template\":{\"data\":{\"barpolar\":[{\"marker\":{\"line\":{\"color\":\"rgb(17,17,17)\",\"width\":0.5},\"pattern\":{\"fillmode\":\"overlay\",\"size\":10,\"solidity\":0.2}},\"type\":\"barpolar\"}],\"bar\":[{\"error_x\":{\"color\":\"#f2f5fa\"},\"error_y\":{\"color\":\"#f2f5fa\"},\"marker\":{\"line\":{\"color\":\"rgb(17,17,17)\",\"width\":0.5},\"pattern\":{\"fillmode\":\"overlay\",\"size\":10,\"solidity\":0.2}},\"type\":\"bar\"}],\"carpet\":[{\"aaxis\":{\"endlinecolor\":\"#A2B1C6\",\"gridcolor\":\"#506784\",\"linecolor\":\"#506784\",\"minorgridcolor\":\"#506784\",\"startlinecolor\":\"#A2B1C6\"},\"baxis\":{\"endlinecolor\":\"#A2B1C6\",\"gridcolor\":\"#506784\",\"linecolor\":\"#506784\",\"minorgridcolor\":\"#506784\",\"startlinecolor\":\"#A2B1C6\"},\"type\":\"carpet\"}],\"choropleth\":[{\"colorbar\":{\"outlinewidth\":0,\"ticks\":\"\"},\"type\":\"choropleth\"}],\"contourcarpet\":[{\"colorbar\":{\"outlinewidth\":0,\"ticks\":\"\"},\"type\":\"contourcarpet\"}],\"contour\":[{\"colorbar\":{\"outlinewidth\":0,\"ticks\":\"\"},\"colorscale\":[[0.0,\"#0d0887\"],[0.1111111111111111,\"#46039f\"],[0.2222222222222222,\"#7201a8\"],[0.3333333333333333,\"#9c179e\"],[0.4444444444444444,\"#bd3786\"],[0.5555555555555556,\"#d8576b\"],[0.6666666666666666,\"#ed7953\"],[0.7777777777777778,\"#fb9f3a\"],[0.8888888888888888,\"#fdca26\"],[1.0,\"#f0f921\"]],\"type\":\"contour\"}],\"heatmapgl\":[{\"colorbar\":{\"outlinewidth\":0,\"ticks\":\"\"},\"colorscale\":[[0.0,\"#0d0887\"],[0.1111111111111111,\"#46039f\"],[0.2222222222222222,\"#7201a8\"],[0.3333333333333333,\"#9c179e\"],[0.4444444444444444,\"#bd3786\"],[0.5555555555555556,\"#d8576b\"],[0.6666666666666666,\"#ed7953\"],[0.7777777777777778,\"#fb9f3a\"],[0.8888888888888888,\"#fdca26\"],[1.0,\"#f0f921\"]],\"type\":\"heatmapgl\"}],\"heatmap\":[{\"colorbar\":{\"outlinewidth\":0,\"ticks\":\"\"},\"colorscale\":[[0.0,\"#0d0887\"],[0.1111111111111111,\"#46039f\"],[0.2222222222222222,\"#7201a8\"],[0.3333333333333333,\"#9c179e\"],[0.4444444444444444,\"#bd3786\"],[0.5555555555555556,\"#d8576b\"],[0.6666666666666666,\"#ed7953\"],[0.7777777777777778,\"#fb9f3a\"],[0.8888888888888888,\"#fdca26\"],[1.0,\"#f0f921\"]],\"type\":\"heatmap\"}],\"histogram2dcontour\":[{\"colorbar\":{\"outlinewidth\":0,\"ticks\":\"\"},\"colorscale\":[[0.0,\"#0d0887\"],[0.1111111111111111,\"#46039f\"],[0.2222222222222222,\"#7201a8\"],[0.3333333333333333,\"#9c179e\"],[0.4444444444444444,\"#bd3786\"],[0.5555555555555556,\"#d8576b\"],[0.6666666666666666,\"#ed7953\"],[0.7777777777777778,\"#fb9f3a\"],[0.8888888888888888,\"#fdca26\"],[1.0,\"#f0f921\"]],\"type\":\"histogram2dcontour\"}],\"histogram2d\":[{\"colorbar\":{\"outlinewidth\":0,\"ticks\":\"\"},\"colorscale\":[[0.0,\"#0d0887\"],[0.1111111111111111,\"#46039f\"],[0.2222222222222222,\"#7201a8\"],[0.3333333333333333,\"#9c179e\"],[0.4444444444444444,\"#bd3786\"],[0.5555555555555556,\"#d8576b\"],[0.6666666666666666,\"#ed7953\"],[0.7777777777777778,\"#fb9f3a\"],[0.8888888888888888,\"#fdca26\"],[1.0,\"#f0f921\"]],\"type\":\"histogram2d\"}],\"histogram\":[{\"marker\":{\"pattern\":{\"fillmode\":\"overlay\",\"size\":10,\"solidity\":0.2}},\"type\":\"histogram\"}],\"mesh3d\":[{\"colorbar\":{\"outlinewidth\":0,\"ticks\":\"\"},\"type\":\"mesh3d\"}],\"parcoords\":[{\"line\":{\"colorbar\":{\"outlinewidth\":0,\"ticks\":\"\"}},\"type\":\"parcoords\"}],\"pie\":[{\"automargin\":true,\"type\":\"pie\"}],\"scatter3d\":[{\"line\":{\"colorbar\":{\"outlinewidth\":0,\"ticks\":\"\"}},\"marker\":{\"colorbar\":{\"outlinewidth\":0,\"ticks\":\"\"}},\"type\":\"scatter3d\"}],\"scattercarpet\":[{\"marker\":{\"colorbar\":{\"outlinewidth\":0,\"ticks\":\"\"}},\"type\":\"scattercarpet\"}],\"scattergeo\":[{\"marker\":{\"colorbar\":{\"outlinewidth\":0,\"ticks\":\"\"}},\"type\":\"scattergeo\"}],\"scattergl\":[{\"marker\":{\"line\":{\"color\":\"#283442\"}},\"type\":\"scattergl\"}],\"scattermapbox\":[{\"marker\":{\"colorbar\":{\"outlinewidth\":0,\"ticks\":\"\"}},\"type\":\"scattermapbox\"}],\"scatterpolargl\":[{\"marker\":{\"colorbar\":{\"outlinewidth\":0,\"ticks\":\"\"}},\"type\":\"scatterpolargl\"}],\"scatterpolar\":[{\"marker\":{\"colorbar\":{\"outlinewidth\":0,\"ticks\":\"\"}},\"type\":\"scatterpolar\"}],\"scatter\":[{\"marker\":{\"line\":{\"color\":\"#283442\"}},\"type\":\"scatter\"}],\"scatterternary\":[{\"marker\":{\"colorbar\":{\"outlinewidth\":0,\"ticks\":\"\"}},\"type\":\"scatterternary\"}],\"surface\":[{\"colorbar\":{\"outlinewidth\":0,\"ticks\":\"\"},\"colorscale\":[[0.0,\"#0d0887\"],[0.1111111111111111,\"#46039f\"],[0.2222222222222222,\"#7201a8\"],[0.3333333333333333,\"#9c179e\"],[0.4444444444444444,\"#bd3786\"],[0.5555555555555556,\"#d8576b\"],[0.6666666666666666,\"#ed7953\"],[0.7777777777777778,\"#fb9f3a\"],[0.8888888888888888,\"#fdca26\"],[1.0,\"#f0f921\"]],\"type\":\"surface\"}],\"table\":[{\"cells\":{\"fill\":{\"color\":\"#506784\"},\"line\":{\"color\":\"rgb(17,17,17)\"}},\"header\":{\"fill\":{\"color\":\"#2a3f5f\"},\"line\":{\"color\":\"rgb(17,17,17)\"}},\"type\":\"table\"}]},\"layout\":{\"annotationdefaults\":{\"arrowcolor\":\"#f2f5fa\",\"arrowhead\":0,\"arrowwidth\":1},\"autotypenumbers\":\"strict\",\"coloraxis\":{\"colorbar\":{\"outlinewidth\":0,\"ticks\":\"\"}},\"colorscale\":{\"diverging\":[[0,\"#8e0152\"],[0.1,\"#c51b7d\"],[0.2,\"#de77ae\"],[0.3,\"#f1b6da\"],[0.4,\"#fde0ef\"],[0.5,\"#f7f7f7\"],[0.6,\"#e6f5d0\"],[0.7,\"#b8e186\"],[0.8,\"#7fbc41\"],[0.9,\"#4d9221\"],[1,\"#276419\"]],\"sequential\":[[0.0,\"#0d0887\"],[0.1111111111111111,\"#46039f\"],[0.2222222222222222,\"#7201a8\"],[0.3333333333333333,\"#9c179e\"],[0.4444444444444444,\"#bd3786\"],[0.5555555555555556,\"#d8576b\"],[0.6666666666666666,\"#ed7953\"],[0.7777777777777778,\"#fb9f3a\"],[0.8888888888888888,\"#fdca26\"],[1.0,\"#f0f921\"]],\"sequentialminus\":[[0.0,\"#0d0887\"],[0.1111111111111111,\"#46039f\"],[0.2222222222222222,\"#7201a8\"],[0.3333333333333333,\"#9c179e\"],[0.4444444444444444,\"#bd3786\"],[0.5555555555555556,\"#d8576b\"],[0.6666666666666666,\"#ed7953\"],[0.7777777777777778,\"#fb9f3a\"],[0.8888888888888888,\"#fdca26\"],[1.0,\"#f0f921\"]]},\"colorway\":[\"#636efa\",\"#EF553B\",\"#00cc96\",\"#ab63fa\",\"#FFA15A\",\"#19d3f3\",\"#FF6692\",\"#B6E880\",\"#FF97FF\",\"#FECB52\"],\"font\":{\"color\":\"#f2f5fa\"},\"geo\":{\"bgcolor\":\"rgb(17,17,17)\",\"lakecolor\":\"rgb(17,17,17)\",\"landcolor\":\"rgb(17,17,17)\",\"showlakes\":true,\"showland\":true,\"subunitcolor\":\"#506784\"},\"hoverlabel\":{\"align\":\"left\"},\"hovermode\":\"closest\",\"mapbox\":{\"style\":\"dark\"},\"paper_bgcolor\":\"rgb(17,17,17)\",\"plot_bgcolor\":\"rgb(17,17,17)\",\"polar\":{\"angularaxis\":{\"gridcolor\":\"#506784\",\"linecolor\":\"#506784\",\"ticks\":\"\"},\"bgcolor\":\"rgb(17,17,17)\",\"radialaxis\":{\"gridcolor\":\"#506784\",\"linecolor\":\"#506784\",\"ticks\":\"\"}},\"scene\":{\"xaxis\":{\"backgroundcolor\":\"rgb(17,17,17)\",\"gridcolor\":\"#506784\",\"gridwidth\":2,\"linecolor\":\"#506784\",\"showbackground\":true,\"ticks\":\"\",\"zerolinecolor\":\"#C8D4E3\"},\"yaxis\":{\"backgroundcolor\":\"rgb(17,17,17)\",\"gridcolor\":\"#506784\",\"gridwidth\":2,\"linecolor\":\"#506784\",\"showbackground\":true,\"ticks\":\"\",\"zerolinecolor\":\"#C8D4E3\"},\"zaxis\":{\"backgroundcolor\":\"rgb(17,17,17)\",\"gridcolor\":\"#506784\",\"gridwidth\":2,\"linecolor\":\"#506784\",\"showbackground\":true,\"ticks\":\"\",\"zerolinecolor\":\"#C8D4E3\"}},\"shapedefaults\":{\"line\":{\"color\":\"#f2f5fa\"}},\"sliderdefaults\":{\"bgcolor\":\"#C8D4E3\",\"bordercolor\":\"rgb(17,17,17)\",\"borderwidth\":1,\"tickwidth\":0},\"ternary\":{\"aaxis\":{\"gridcolor\":\"#506784\",\"linecolor\":\"#506784\",\"ticks\":\"\"},\"baxis\":{\"gridcolor\":\"#506784\",\"linecolor\":\"#506784\",\"ticks\":\"\"},\"bgcolor\":\"rgb(17,17,17)\",\"caxis\":{\"gridcolor\":\"#506784\",\"linecolor\":\"#506784\",\"ticks\":\"\"}},\"title\":{\"x\":0.05},\"updatemenudefaults\":{\"bgcolor\":\"#506784\",\"borderwidth\":0},\"xaxis\":{\"automargin\":true,\"gridcolor\":\"#283442\",\"linecolor\":\"#506784\",\"ticks\":\"\",\"title\":{\"standoff\":15},\"zerolinecolor\":\"#283442\",\"zerolinewidth\":2},\"yaxis\":{\"automargin\":true,\"gridcolor\":\"#283442\",\"linecolor\":\"#506784\",\"ticks\":\"\",\"title\":{\"standoff\":15},\"zerolinecolor\":\"#283442\",\"zerolinewidth\":2}}},\"xaxis\":{\"anchor\":\"y\",\"domain\":[0.0,1.0],\"title\":{\"text\":\"Vendor\"}},\"yaxis\":{\"anchor\":\"x\",\"domain\":[0.0,1.0],\"title\":{\"text\":\"Category\"},\"categoryorder\":\"array\",\"categoryarray\":[\"Interdepartment Expenditure\",\"Training & Miscellaneous\",\"Low Value Equipment\",\"Equipment\",\"Consumables\"]},\"legend\":{\"title\":{\"text\":\"Category\"},\"tracegroupgap\":0,\"itemsizing\":\"constant\"},\"margin\":{\"t\":60},\"height\":600,\"width\":1200},                        {\"responsive\": true}                    ).then(function(){\n",
       "                            \n",
       "var gd = document.getElementById('79f7ee37-9730-4a18-a139-212a56e76503');\n",
       "var x = new MutationObserver(function (mutations, observer) {{\n",
       "        var display = window.getComputedStyle(gd).display;\n",
       "        if (!display || display === 'none') {{\n",
       "            console.log([gd, 'removed!']);\n",
       "            Plotly.purge(gd);\n",
       "            observer.disconnect();\n",
       "        }}\n",
       "}});\n",
       "\n",
       "// Listen for the removal of the full notebook cells\n",
       "var notebookContainer = gd.closest('#notebook-container');\n",
       "if (notebookContainer) {{\n",
       "    x.observe(notebookContainer, {childList: true});\n",
       "}}\n",
       "\n",
       "// Listen for the clearing of the current output cell\n",
       "var outputEl = gd.closest('.output');\n",
       "if (outputEl) {{\n",
       "    x.observe(outputEl, {childList: true});\n",
       "}}\n",
       "\n",
       "                        })                };                });            </script>        </div>"
      ]
     },
     "metadata": {},
     "output_type": "display_data"
    }
   ],
   "source": [
    "# bubble chart --- analysis of expenses by category and vendors\n",
    "df = pd.read_csv('data/startup.csv')\n",
    "df = process_loaded_data(df)\n",
    "plot_bubble(df, 2018)"
   ]
  },
  {
   "cell_type": "code",
   "execution_count": 229,
   "id": "3ccac3f4-edce-4d9e-923b-7a14c9669090",
   "metadata": {},
   "outputs": [
    {
     "data": {
      "text/html": [
       "<div>\n",
       "<style scoped>\n",
       "    .dataframe tbody tr th:only-of-type {\n",
       "        vertical-align: middle;\n",
       "    }\n",
       "\n",
       "    .dataframe tbody tr th {\n",
       "        vertical-align: top;\n",
       "    }\n",
       "\n",
       "    .dataframe thead th {\n",
       "        text-align: right;\n",
       "    }\n",
       "</style>\n",
       "<table border=\"1\" class=\"dataframe\">\n",
       "  <thead>\n",
       "    <tr style=\"text-align: right;\">\n",
       "      <th></th>\n",
       "      <th>Vendor</th>\n",
       "      <th>Value</th>\n",
       "    </tr>\n",
       "  </thead>\n",
       "  <tbody>\n",
       "    <tr>\n",
       "      <th>0</th>\n",
       "      <td>FISHER SCIENTIFIC PTE LTD</td>\n",
       "      <td>18981.33</td>\n",
       "    </tr>\n",
       "    <tr>\n",
       "      <th>1</th>\n",
       "      <td>AITBIOTECH PTE LTD</td>\n",
       "      <td>15142.53</td>\n",
       "    </tr>\n",
       "    <tr>\n",
       "      <th>2</th>\n",
       "      <td>LIFE TECHNOLOGIES HOLDINGS PTE. LTD</td>\n",
       "      <td>10338.88</td>\n",
       "    </tr>\n",
       "    <tr>\n",
       "      <th>3</th>\n",
       "      <td>AXIL SCIENTIFIC PTE LTD</td>\n",
       "      <td>9272.62</td>\n",
       "    </tr>\n",
       "    <tr>\n",
       "      <th>4</th>\n",
       "      <td>BIO LABORATORIES PTE LTD</td>\n",
       "      <td>7303.83</td>\n",
       "    </tr>\n",
       "    <tr>\n",
       "      <th>5</th>\n",
       "      <td>SIGMA-ALDRICH PTE LTD</td>\n",
       "      <td>7299.65</td>\n",
       "    </tr>\n",
       "    <tr>\n",
       "      <th>6</th>\n",
       "      <td>Rev-Interdept</td>\n",
       "      <td>6879.95</td>\n",
       "    </tr>\n",
       "    <tr>\n",
       "      <th>7</th>\n",
       "      <td>INTEGRATED DNA TECHNOLOGIES PTE LTD</td>\n",
       "      <td>5885.00</td>\n",
       "    </tr>\n",
       "    <tr>\n",
       "      <th>8</th>\n",
       "      <td>BIO-RAD LABORATORIES (S) PTE LTD</td>\n",
       "      <td>5739.28</td>\n",
       "    </tr>\n",
       "    <tr>\n",
       "      <th>9</th>\n",
       "      <td>VWR SINGAPORE PTE LTD</td>\n",
       "      <td>5661.94</td>\n",
       "    </tr>\n",
       "    <tr>\n",
       "      <th>10</th>\n",
       "      <td>UNISON COLLABORATIVE PTE LTD</td>\n",
       "      <td>5296.50</td>\n",
       "    </tr>\n",
       "    <tr>\n",
       "      <th>11</th>\n",
       "      <td>BIOMED DIAGNOSTICS PTE LTD</td>\n",
       "      <td>4258.92</td>\n",
       "    </tr>\n",
       "    <tr>\n",
       "      <th>12</th>\n",
       "      <td>QIAGEN SINGAPORE PTE. LTD.</td>\n",
       "      <td>3249.16</td>\n",
       "    </tr>\n",
       "    <tr>\n",
       "      <th>13</th>\n",
       "      <td>NUS MULTI-PURPOSE CO-OPERATIVE SOCI</td>\n",
       "      <td>3236.04</td>\n",
       "    </tr>\n",
       "    <tr>\n",
       "      <th>14</th>\n",
       "      <td>ITS SCIENCE AND MEDICAL PTE LTD</td>\n",
       "      <td>2782.00</td>\n",
       "    </tr>\n",
       "    <tr>\n",
       "      <th>15</th>\n",
       "      <td>WORLD COURIER SINGAPORE PTE LTD</td>\n",
       "      <td>1759.50</td>\n",
       "    </tr>\n",
       "    <tr>\n",
       "      <th>16</th>\n",
       "      <td>THERMO FISHER SCIENTIFIC PTE LTD</td>\n",
       "      <td>1254.58</td>\n",
       "    </tr>\n",
       "    <tr>\n",
       "      <th>17</th>\n",
       "      <td>SCIENCEWERKE PTE LTD</td>\n",
       "      <td>1070.00</td>\n",
       "    </tr>\n",
       "    <tr>\n",
       "      <th>18</th>\n",
       "      <td>SINGLAB TECHNOLOGIES PTE. LTD.</td>\n",
       "      <td>1067.34</td>\n",
       "    </tr>\n",
       "    <tr>\n",
       "      <th>19</th>\n",
       "      <td>NATIONAL UNIVERSITY HOSPITAL (S) PT</td>\n",
       "      <td>1016.50</td>\n",
       "    </tr>\n",
       "    <tr>\n",
       "      <th>20</th>\n",
       "      <td>SPD SCIENTIFIC PTE LTD</td>\n",
       "      <td>790.95</td>\n",
       "    </tr>\n",
       "    <tr>\n",
       "      <th>21</th>\n",
       "      <td>I-DNA BIOTECHNOLOGY PTE LTD</td>\n",
       "      <td>759.70</td>\n",
       "    </tr>\n",
       "    <tr>\n",
       "      <th>22</th>\n",
       "      <td>THERMO SCIENTIFIC MICROBIOLOGY PTE.</td>\n",
       "      <td>722.25</td>\n",
       "    </tr>\n",
       "    <tr>\n",
       "      <th>23</th>\n",
       "      <td>SCIMED (ASIA) PTE LTD</td>\n",
       "      <td>423.72</td>\n",
       "    </tr>\n",
       "    <tr>\n",
       "      <th>24</th>\n",
       "      <td>MERCK PTE LTD</td>\n",
       "      <td>346.57</td>\n",
       "    </tr>\n",
       "    <tr>\n",
       "      <th>25</th>\n",
       "      <td>ZUELLIG PHARMA PTE LTD</td>\n",
       "      <td>340.58</td>\n",
       "    </tr>\n",
       "    <tr>\n",
       "      <th>26</th>\n",
       "      <td>TEE HAI CHEM PTE LTD</td>\n",
       "      <td>256.80</td>\n",
       "    </tr>\n",
       "    <tr>\n",
       "      <th>27</th>\n",
       "      <td>SONG ZHENG QI, TOBEY</td>\n",
       "      <td>110.45</td>\n",
       "    </tr>\n",
       "    <tr>\n",
       "      <th>28</th>\n",
       "      <td>OLYMPUS SINGAPORE PTE LTD</td>\n",
       "      <td>75.97</td>\n",
       "    </tr>\n",
       "    <tr>\n",
       "      <th>29</th>\n",
       "      <td>AIK MOH PAINTS AND CHEMICALS PTE LT</td>\n",
       "      <td>64.20</td>\n",
       "    </tr>\n",
       "    <tr>\n",
       "      <th>30</th>\n",
       "      <td>SHAM LOK TO</td>\n",
       "      <td>53.91</td>\n",
       "    </tr>\n",
       "    <tr>\n",
       "      <th>31</th>\n",
       "      <td>FEDERAL EXPRESS (S) PTE LTD</td>\n",
       "      <td>50.70</td>\n",
       "    </tr>\n",
       "    <tr>\n",
       "      <th>32</th>\n",
       "      <td>REI NAKAMOTO</td>\n",
       "      <td>12.00</td>\n",
       "    </tr>\n",
       "    <tr>\n",
       "      <th>33</th>\n",
       "      <td>Consumables</td>\n",
       "      <td>-600.00</td>\n",
       "    </tr>\n",
       "  </tbody>\n",
       "</table>\n",
       "</div>"
      ],
      "text/plain": [
       "                                 Vendor     Value\n",
       "0             FISHER SCIENTIFIC PTE LTD  18981.33\n",
       "1                    AITBIOTECH PTE LTD  15142.53\n",
       "2   LIFE TECHNOLOGIES HOLDINGS PTE. LTD  10338.88\n",
       "3               AXIL SCIENTIFIC PTE LTD   9272.62\n",
       "4              BIO LABORATORIES PTE LTD   7303.83\n",
       "5                 SIGMA-ALDRICH PTE LTD   7299.65\n",
       "6                         Rev-Interdept   6879.95\n",
       "7   INTEGRATED DNA TECHNOLOGIES PTE LTD   5885.00\n",
       "8      BIO-RAD LABORATORIES (S) PTE LTD   5739.28\n",
       "9                 VWR SINGAPORE PTE LTD   5661.94\n",
       "10         UNISON COLLABORATIVE PTE LTD   5296.50\n",
       "11           BIOMED DIAGNOSTICS PTE LTD   4258.92\n",
       "12           QIAGEN SINGAPORE PTE. LTD.   3249.16\n",
       "13  NUS MULTI-PURPOSE CO-OPERATIVE SOCI   3236.04\n",
       "14      ITS SCIENCE AND MEDICAL PTE LTD   2782.00\n",
       "15      WORLD COURIER SINGAPORE PTE LTD   1759.50\n",
       "16     THERMO FISHER SCIENTIFIC PTE LTD   1254.58\n",
       "17                 SCIENCEWERKE PTE LTD   1070.00\n",
       "18       SINGLAB TECHNOLOGIES PTE. LTD.   1067.34\n",
       "19  NATIONAL UNIVERSITY HOSPITAL (S) PT   1016.50\n",
       "20               SPD SCIENTIFIC PTE LTD    790.95\n",
       "21          I-DNA BIOTECHNOLOGY PTE LTD    759.70\n",
       "22  THERMO SCIENTIFIC MICROBIOLOGY PTE.    722.25\n",
       "23                SCIMED (ASIA) PTE LTD    423.72\n",
       "24                        MERCK PTE LTD    346.57\n",
       "25               ZUELLIG PHARMA PTE LTD    340.58\n",
       "26                 TEE HAI CHEM PTE LTD    256.80\n",
       "27                 SONG ZHENG QI, TOBEY    110.45\n",
       "28            OLYMPUS SINGAPORE PTE LTD     75.97\n",
       "29  AIK MOH PAINTS AND CHEMICALS PTE LT     64.20\n",
       "30                          SHAM LOK TO     53.91\n",
       "31          FEDERAL EXPRESS (S) PTE LTD     50.70\n",
       "32                         REI NAKAMOTO     12.00\n",
       "33                          Consumables   -600.00"
      ]
     },
     "execution_count": 229,
     "metadata": {},
     "output_type": "execute_result"
    }
   ],
   "source": [
    "# table summary for the expenses on different vendors\n",
    "df = pd.read_csv('data/startup.csv')\n",
    "df = process_loaded_data(df)\n",
    "\n",
    "vendor_by_expenses(df, 2018)"
   ]
  },
  {
   "cell_type": "code",
   "execution_count": 230,
   "id": "0fd98973-a533-4d2d-8095-77a556f3986f",
   "metadata": {},
   "outputs": [
    {
     "data": {
      "text/plain": [
       "[120903.35, 216, 'FISHER SCIENTIFIC PTE LTD', 11770.0, 31.5, 84]"
      ]
     },
     "execution_count": 230,
     "metadata": {},
     "output_type": "execute_result"
    }
   ],
   "source": [
    "# key metrics\n",
    "df = pd.read_csv('data/startup.csv')\n",
    "df = process_loaded_data(df)\n",
    "\n",
    "get_key_metrics(df, 2018)"
   ]
  }
 ],
 "metadata": {
  "kernelspec": {
   "display_name": "Python 3 (ipykernel)",
   "language": "python",
   "name": "python3"
  },
  "language_info": {
   "codemirror_mode": {
    "name": "ipython",
    "version": 3
   },
   "file_extension": ".py",
   "mimetype": "text/x-python",
   "name": "python",
   "nbconvert_exporter": "python",
   "pygments_lexer": "ipython3",
   "version": "3.9.12"
  }
 },
 "nbformat": 4,
 "nbformat_minor": 5
}
